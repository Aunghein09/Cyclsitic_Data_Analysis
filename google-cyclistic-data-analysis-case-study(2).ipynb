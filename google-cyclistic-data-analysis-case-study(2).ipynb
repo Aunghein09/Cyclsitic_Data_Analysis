{
 "cells": [
  {
   "cell_type": "markdown",
   "metadata": {},
   "source": [
    "title: \"google_cyclistic_data_analysis\"<br>author: \"Kyar-Hsing Ma\"<br>date: \"July 16, 2022\"\n"
   ]
  },
  {
   "cell_type": "code",
   "execution_count": 1,
   "metadata": {
    "execution": {
     "iopub.execute_input": "2022-07-16T05:35:14.683938Z",
     "iopub.status.busy": "2022-07-16T05:35:14.681885Z",
     "iopub.status.idle": "2022-07-16T05:35:14.851211Z"
    }
   },
   "outputs": [],
   "source": [
    "{include=FALSE}\n",
    "knitr::opts_chunk$set(echo = TRUE, warning = FALSE)"
   ]
  },
  {
   "cell_type": "markdown",
   "metadata": {},
   "source": [
    "# **Cyclistic Data Analysis**\n",
    "This analysis is based on the Divvy case study \"'Sophisticated, Clear, and Polished’: Divvy and Data Visualization\" written by Kevin Hartman (found here: https://artscience.blog/home/divvy-dataviz-case-study)\n",
    "\n",
    "## **Steps Used for Data Analysis**\n",
    "1. [Ask](#ask)\n",
    "2. [Prepare](#prepare)\n",
    "3. [Process](#process)\n",
    "4. [Analyze](#analyze)\n",
    "5. [Share](#share)\n",
    "6. [Act](#act)\n",
    "\n",
    "\n",
    "## ***Ask*** \n",
    "### Company \n",
    "\n",
    "###### **Cyclistic** \n",
    "A bike-share program that features more than 5,800 bicycles and 600 docking stations. Cyclistic sets itself apart by also offering reclining bikes, hand tricycles, and cargo bikes, making bike-share more inclusive to people with disabilities and riders who can’t use a standard two-wheeled bike. The majority of riders opt for traditional bikes; about 8% of riders use the assistive options. Cyclistic users are more likely to ride for leisure, but about 30% use them to commute to work each day.\n",
    "\n",
    "### Stakeholders\n",
    "● Lily Moreno: The director of marketing and your manager. Moreno is responsible for the development of campaigns and initiatives to promote the bike-share program. These may include email, social media, and other channels.  \n",
    "● Cyclistic marketing analytics team: A team of data analysts who are responsible for collecting, analyzing, and reporting data that helps guide Cyclistic marketing strategy. You joined this team six months ago and have been busy learning about Cyclistic’s mission and business goals — as well as how I, as a junior data analyst, can help Cyclistic achieve them.  \n",
    "● Cyclistic executive team: The notoriously detail-oriented executive team will decide whether to approve the recommended marketing program.\n",
    "\n",
    "### Question to Answer\n",
    "**How do annual members and casual riders use Cyclistic bikes differently?**\n",
    "\n",
    "## ***Prepare*** \n",
    "### Load the necessary libraries"
   ]
  },
  {
   "cell_type": "code",
   "execution_count": 2,
   "metadata": {
    "execution": {
     "iopub.execute_input": "2022-07-16T05:35:14.886578Z",
     "iopub.status.busy": "2022-07-16T05:35:14.854805Z",
     "iopub.status.idle": "2022-07-16T05:35:16.354557Z"
    }
   },
   "outputs": [
    {
     "name": "stderr",
     "output_type": "stream",
     "text": [
      "── \u001b[1mAttaching packages\u001b[22m ─────────────────────────────────────── tidyverse 1.3.1 ──\n",
      "\n",
      "\u001b[32m✔\u001b[39m \u001b[34mggplot2\u001b[39m 3.3.6     \u001b[32m✔\u001b[39m \u001b[34mpurrr  \u001b[39m 0.3.4\n",
      "\u001b[32m✔\u001b[39m \u001b[34mtibble \u001b[39m 3.1.7     \u001b[32m✔\u001b[39m \u001b[34mdplyr  \u001b[39m 1.0.9\n",
      "\u001b[32m✔\u001b[39m \u001b[34mtidyr  \u001b[39m 1.2.0     \u001b[32m✔\u001b[39m \u001b[34mstringr\u001b[39m 1.4.0\n",
      "\u001b[32m✔\u001b[39m \u001b[34mreadr  \u001b[39m 2.1.2     \u001b[32m✔\u001b[39m \u001b[34mforcats\u001b[39m 0.5.1\n",
      "\n",
      "── \u001b[1mConflicts\u001b[22m ────────────────────────────────────────── tidyverse_conflicts() ──\n",
      "\u001b[31m✖\u001b[39m \u001b[34mdplyr\u001b[39m::\u001b[32mfilter()\u001b[39m masks \u001b[34mstats\u001b[39m::filter()\n",
      "\u001b[31m✖\u001b[39m \u001b[34mdplyr\u001b[39m::\u001b[32mlag()\u001b[39m    masks \u001b[34mstats\u001b[39m::lag()\n",
      "\n",
      "\n",
      "Attaching package: ‘data.table’\n",
      "\n",
      "\n",
      "The following objects are masked from ‘package:dplyr’:\n",
      "\n",
      "    between, first, last\n",
      "\n",
      "\n",
      "The following object is masked from ‘package:purrr’:\n",
      "\n",
      "    transpose\n",
      "\n",
      "\n",
      "here() starts at /kaggle/working\n",
      "\n",
      "\n",
      "Attaching package: ‘janitor’\n",
      "\n",
      "\n",
      "The following objects are masked from ‘package:stats’:\n",
      "\n",
      "    chisq.test, fisher.test\n",
      "\n",
      "\n",
      "\n",
      "Attaching package: ‘lubridate’\n",
      "\n",
      "\n",
      "The following objects are masked from ‘package:data.table’:\n",
      "\n",
      "    hour, isoweek, mday, minute, month, quarter, second, wday, week,\n",
      "    yday, year\n",
      "\n",
      "\n",
      "The following objects are masked from ‘package:base’:\n",
      "\n",
      "    date, intersect, setdiff, union\n",
      "\n",
      "\n"
     ]
    }
   ],
   "source": [
    "{warning = FALSE}\n",
    "library(\"tidyverse\") #helps wrangle data\n",
    "library(\"data.table\") #helps in writing mode function\n",
    "library(\"here\") #helps access the working directory\n",
    "library(\"janitor\") #helps checking data\n",
    "library(\"skimr\") #helps inspecting data\n",
    "library(\"lubridate\") #helps wrangle data attribute\n",
    "library(\"writexl\") #writing data to excel "
   ]
  },
  {
   "cell_type": "markdown",
   "metadata": {},
   "source": [
    "### Import Necessary Data\n",
    "The data used for this analys is from 2021/06 to 2022/05 and can be access from the source:https://divvy-tripdata.s3.amazonaws.com/index.html"
   ]
  },
  {
   "cell_type": "code",
   "execution_count": 3,
   "metadata": {
    "execution": {
     "iopub.execute_input": "2022-07-16T05:35:16.360404Z",
     "iopub.status.busy": "2022-07-16T05:35:16.358186Z",
     "iopub.status.idle": "2022-07-16T05:35:49.012359Z"
    }
   },
   "outputs": [
    {
     "name": "stderr",
     "output_type": "stream",
     "text": [
      "\u001b[1mRows: \u001b[22m\u001b[34m729595\u001b[39m \u001b[1mColumns: \u001b[22m\u001b[34m13\u001b[39m\n",
      "\u001b[36m──\u001b[39m \u001b[1mColumn specification\u001b[22m \u001b[36m────────────────────────────────────────────────────────\u001b[39m\n",
      "\u001b[1mDelimiter:\u001b[22m \",\"\n",
      "\u001b[31mchr\u001b[39m  (7): ride_id, rideable_type, start_station_name, start_station_id, end_...\n",
      "\u001b[32mdbl\u001b[39m  (4): start_lat, start_lng, end_lat, end_lng\n",
      "\u001b[34mdttm\u001b[39m (2): started_at, ended_at\n",
      "\n",
      "\u001b[36mℹ\u001b[39m Use `spec()` to retrieve the full column specification for this data.\n",
      "\u001b[36mℹ\u001b[39m Specify the column types or set `show_col_types = FALSE` to quiet this message.\n",
      "\u001b[1mRows: \u001b[22m\u001b[34m822410\u001b[39m \u001b[1mColumns: \u001b[22m\u001b[34m13\u001b[39m\n",
      "\u001b[36m──\u001b[39m \u001b[1mColumn specification\u001b[22m \u001b[36m────────────────────────────────────────────────────────\u001b[39m\n",
      "\u001b[1mDelimiter:\u001b[22m \",\"\n",
      "\u001b[31mchr\u001b[39m  (7): ride_id, rideable_type, start_station_name, start_station_id, end_...\n",
      "\u001b[32mdbl\u001b[39m  (4): start_lat, start_lng, end_lat, end_lng\n",
      "\u001b[34mdttm\u001b[39m (2): started_at, ended_at\n",
      "\n",
      "\u001b[36mℹ\u001b[39m Use `spec()` to retrieve the full column specification for this data.\n",
      "\u001b[36mℹ\u001b[39m Specify the column types or set `show_col_types = FALSE` to quiet this message.\n",
      "\u001b[1mRows: \u001b[22m\u001b[34m804352\u001b[39m \u001b[1mColumns: \u001b[22m\u001b[34m13\u001b[39m\n",
      "\u001b[36m──\u001b[39m \u001b[1mColumn specification\u001b[22m \u001b[36m────────────────────────────────────────────────────────\u001b[39m\n",
      "\u001b[1mDelimiter:\u001b[22m \",\"\n",
      "\u001b[31mchr\u001b[39m  (7): ride_id, rideable_type, start_station_name, start_station_id, end_...\n",
      "\u001b[32mdbl\u001b[39m  (4): start_lat, start_lng, end_lat, end_lng\n",
      "\u001b[34mdttm\u001b[39m (2): started_at, ended_at\n",
      "\n",
      "\u001b[36mℹ\u001b[39m Use `spec()` to retrieve the full column specification for this data.\n",
      "\u001b[36mℹ\u001b[39m Specify the column types or set `show_col_types = FALSE` to quiet this message.\n",
      "\u001b[1mRows: \u001b[22m\u001b[34m756147\u001b[39m \u001b[1mColumns: \u001b[22m\u001b[34m13\u001b[39m\n",
      "\u001b[36m──\u001b[39m \u001b[1mColumn specification\u001b[22m \u001b[36m────────────────────────────────────────────────────────\u001b[39m\n",
      "\u001b[1mDelimiter:\u001b[22m \",\"\n",
      "\u001b[31mchr\u001b[39m  (7): ride_id, rideable_type, start_station_name, start_station_id, end_...\n",
      "\u001b[32mdbl\u001b[39m  (4): start_lat, start_lng, end_lat, end_lng\n",
      "\u001b[34mdttm\u001b[39m (2): started_at, ended_at\n",
      "\n",
      "\u001b[36mℹ\u001b[39m Use `spec()` to retrieve the full column specification for this data.\n",
      "\u001b[36mℹ\u001b[39m Specify the column types or set `show_col_types = FALSE` to quiet this message.\n",
      "\u001b[1mRows: \u001b[22m\u001b[34m631226\u001b[39m \u001b[1mColumns: \u001b[22m\u001b[34m13\u001b[39m\n",
      "\u001b[36m──\u001b[39m \u001b[1mColumn specification\u001b[22m \u001b[36m────────────────────────────────────────────────────────\u001b[39m\n",
      "\u001b[1mDelimiter:\u001b[22m \",\"\n",
      "\u001b[31mchr\u001b[39m  (7): ride_id, rideable_type, start_station_name, start_station_id, end_...\n",
      "\u001b[32mdbl\u001b[39m  (4): start_lat, start_lng, end_lat, end_lng\n",
      "\u001b[34mdttm\u001b[39m (2): started_at, ended_at\n",
      "\n",
      "\u001b[36mℹ\u001b[39m Use `spec()` to retrieve the full column specification for this data.\n",
      "\u001b[36mℹ\u001b[39m Specify the column types or set `show_col_types = FALSE` to quiet this message.\n",
      "\u001b[1mRows: \u001b[22m\u001b[34m359978\u001b[39m \u001b[1mColumns: \u001b[22m\u001b[34m13\u001b[39m\n",
      "\u001b[36m──\u001b[39m \u001b[1mColumn specification\u001b[22m \u001b[36m────────────────────────────────────────────────────────\u001b[39m\n",
      "\u001b[1mDelimiter:\u001b[22m \",\"\n",
      "\u001b[31mchr\u001b[39m  (7): ride_id, rideable_type, start_station_name, start_station_id, end_...\n",
      "\u001b[32mdbl\u001b[39m  (4): start_lat, start_lng, end_lat, end_lng\n",
      "\u001b[34mdttm\u001b[39m (2): started_at, ended_at\n",
      "\n",
      "\u001b[36mℹ\u001b[39m Use `spec()` to retrieve the full column specification for this data.\n",
      "\u001b[36mℹ\u001b[39m Specify the column types or set `show_col_types = FALSE` to quiet this message.\n",
      "\u001b[1mRows: \u001b[22m\u001b[34m247540\u001b[39m \u001b[1mColumns: \u001b[22m\u001b[34m13\u001b[39m\n",
      "\u001b[36m──\u001b[39m \u001b[1mColumn specification\u001b[22m \u001b[36m────────────────────────────────────────────────────────\u001b[39m\n",
      "\u001b[1mDelimiter:\u001b[22m \",\"\n",
      "\u001b[31mchr\u001b[39m  (7): ride_id, rideable_type, start_station_name, start_station_id, end_...\n",
      "\u001b[32mdbl\u001b[39m  (4): start_lat, start_lng, end_lat, end_lng\n",
      "\u001b[34mdttm\u001b[39m (2): started_at, ended_at\n",
      "\n",
      "\u001b[36mℹ\u001b[39m Use `spec()` to retrieve the full column specification for this data.\n",
      "\u001b[36mℹ\u001b[39m Specify the column types or set `show_col_types = FALSE` to quiet this message.\n",
      "\u001b[1mRows: \u001b[22m\u001b[34m103770\u001b[39m \u001b[1mColumns: \u001b[22m\u001b[34m13\u001b[39m\n",
      "\u001b[36m──\u001b[39m \u001b[1mColumn specification\u001b[22m \u001b[36m────────────────────────────────────────────────────────\u001b[39m\n",
      "\u001b[1mDelimiter:\u001b[22m \",\"\n",
      "\u001b[31mchr\u001b[39m  (7): ride_id, rideable_type, start_station_name, start_station_id, end_...\n",
      "\u001b[32mdbl\u001b[39m  (4): start_lat, start_lng, end_lat, end_lng\n",
      "\u001b[34mdttm\u001b[39m (2): started_at, ended_at\n",
      "\n",
      "\u001b[36mℹ\u001b[39m Use `spec()` to retrieve the full column specification for this data.\n",
      "\u001b[36mℹ\u001b[39m Specify the column types or set `show_col_types = FALSE` to quiet this message.\n",
      "\u001b[1mRows: \u001b[22m\u001b[34m115609\u001b[39m \u001b[1mColumns: \u001b[22m\u001b[34m13\u001b[39m\n",
      "\u001b[36m──\u001b[39m \u001b[1mColumn specification\u001b[22m \u001b[36m────────────────────────────────────────────────────────\u001b[39m\n",
      "\u001b[1mDelimiter:\u001b[22m \",\"\n",
      "\u001b[31mchr\u001b[39m  (7): ride_id, rideable_type, start_station_name, start_station_id, end_...\n",
      "\u001b[32mdbl\u001b[39m  (4): start_lat, start_lng, end_lat, end_lng\n",
      "\u001b[34mdttm\u001b[39m (2): started_at, ended_at\n",
      "\n",
      "\u001b[36mℹ\u001b[39m Use `spec()` to retrieve the full column specification for this data.\n",
      "\u001b[36mℹ\u001b[39m Specify the column types or set `show_col_types = FALSE` to quiet this message.\n",
      "\u001b[1mRows: \u001b[22m\u001b[34m284042\u001b[39m \u001b[1mColumns: \u001b[22m\u001b[34m13\u001b[39m\n",
      "\u001b[36m──\u001b[39m \u001b[1mColumn specification\u001b[22m \u001b[36m────────────────────────────────────────────────────────\u001b[39m\n",
      "\u001b[1mDelimiter:\u001b[22m \",\"\n",
      "\u001b[31mchr\u001b[39m  (7): ride_id, rideable_type, start_station_name, start_station_id, end_...\n",
      "\u001b[32mdbl\u001b[39m  (4): start_lat, start_lng, end_lat, end_lng\n",
      "\u001b[34mdttm\u001b[39m (2): started_at, ended_at\n",
      "\n",
      "\u001b[36mℹ\u001b[39m Use `spec()` to retrieve the full column specification for this data.\n",
      "\u001b[36mℹ\u001b[39m Specify the column types or set `show_col_types = FALSE` to quiet this message.\n",
      "\u001b[1mRows: \u001b[22m\u001b[34m371249\u001b[39m \u001b[1mColumns: \u001b[22m\u001b[34m13\u001b[39m\n",
      "\u001b[36m──\u001b[39m \u001b[1mColumn specification\u001b[22m \u001b[36m────────────────────────────────────────────────────────\u001b[39m\n",
      "\u001b[1mDelimiter:\u001b[22m \",\"\n",
      "\u001b[31mchr\u001b[39m  (7): ride_id, rideable_type, start_station_name, start_station_id, end_...\n",
      "\u001b[32mdbl\u001b[39m  (4): start_lat, start_lng, end_lat, end_lng\n",
      "\u001b[34mdttm\u001b[39m (2): started_at, ended_at\n",
      "\n",
      "\u001b[36mℹ\u001b[39m Use `spec()` to retrieve the full column specification for this data.\n",
      "\u001b[36mℹ\u001b[39m Specify the column types or set `show_col_types = FALSE` to quiet this message.\n",
      "\u001b[1mRows: \u001b[22m\u001b[34m634858\u001b[39m \u001b[1mColumns: \u001b[22m\u001b[34m13\u001b[39m\n",
      "\u001b[36m──\u001b[39m \u001b[1mColumn specification\u001b[22m \u001b[36m────────────────────────────────────────────────────────\u001b[39m\n",
      "\u001b[1mDelimiter:\u001b[22m \",\"\n",
      "\u001b[31mchr\u001b[39m  (7): ride_id, rideable_type, start_station_name, start_station_id, end_...\n",
      "\u001b[32mdbl\u001b[39m  (4): start_lat, start_lng, end_lat, end_lng\n",
      "\u001b[34mdttm\u001b[39m (2): started_at, ended_at\n",
      "\n",
      "\u001b[36mℹ\u001b[39m Use `spec()` to retrieve the full column specification for this data.\n",
      "\u001b[36mℹ\u001b[39m Specify the column types or set `show_col_types = FALSE` to quiet this message.\n"
     ]
    }
   ],
   "source": [
    "tripdata_202106 <- read_csv(\"../input/google-cyclistic-data-analysis-case-study-1/202106-divvy-tripdata.csv\")\n",
    "tripdata_202107 <- read_csv(\"../input/google-cyclistic-data-analysis-case-study-1/202107-divvy-tripdata.csv\")\n",
    "tripdata_202108 <- read_csv(\"../input/google-cyclistic-data-analysis-case-study-1/202108-divvy-tripdata.csv\")\n",
    "tripdata_202109 <- read_csv(\"../input/google-cyclistic-data-analysis-case-study-1/202109-divvy-tripdata.csv\")\n",
    "tripdata_202110 <- read_csv(\"../input/google-cyclistic-data-analysis-case-study-1/202110-divvy-tripdata.csv\")\n",
    "tripdata_202111 <- read_csv(\"../input/google-cyclistic-data-analysis-case-study-1/202111-divvy-tripdata.csv\")\n",
    "tripdata_202112 <- read_csv(\"../input/google-cyclistic-data-analysis-case-study-1/202112-divvy-tripdata.csv\")\n",
    "tripdata_202201 <- read_csv(\"../input/google-cyclistic-data-analysis-case-study-1/202201-divvy-tripdata.csv\")\n",
    "tripdata_202202 <- read_csv(\"../input/google-cyclistic-data-analysis-case-study-1/202202-divvy-tripdata.csv\")\n",
    "tripdata_202203 <- read_csv(\"../input/google-cyclistic-data-analysis-case-study-1/202203-divvy-tripdata.csv\")\n",
    "tripdata_202204 <- read_csv(\"../input/google-cyclistic-data-analysis-case-study-1/202204-divvy-tripdata.csv\")\n",
    "tripdata_202205 <- read_csv(\"../input/google-cyclistic-data-analysis-case-study-1/202205-divvy-tripdata.csv\")"
   ]
  },
  {
   "cell_type": "markdown",
   "metadata": {},
   "source": [
    "### Compare columan names of each file\n",
    "Column names of each data are displayed to check any inconsistency present in the data."
   ]
  },
  {
   "cell_type": "code",
   "execution_count": 4,
   "metadata": {
    "execution": {
     "iopub.execute_input": "2022-07-16T05:35:49.015876Z",
     "iopub.status.busy": "2022-07-16T05:35:49.014590Z",
     "iopub.status.idle": "2022-07-16T05:35:49.089604Z"
    }
   },
   "outputs": [
    {
     "data": {
      "text/html": [
       "<style>\n",
       ".list-inline {list-style: none; margin:0; padding: 0}\n",
       ".list-inline>li {display: inline-block}\n",
       ".list-inline>li:not(:last-child)::after {content: \"\\00b7\"; padding: 0 .5ex}\n",
       "</style>\n",
       "<ol class=list-inline><li>'ride_id'</li><li>'rideable_type'</li><li>'started_at'</li><li>'ended_at'</li><li>'start_station_name'</li><li>'start_station_id'</li><li>'end_station_name'</li><li>'end_station_id'</li><li>'start_lat'</li><li>'start_lng'</li><li>'end_lat'</li><li>'end_lng'</li><li>'member_casual'</li></ol>\n"
      ],
      "text/latex": [
       "\\begin{enumerate*}\n",
       "\\item 'ride\\_id'\n",
       "\\item 'rideable\\_type'\n",
       "\\item 'started\\_at'\n",
       "\\item 'ended\\_at'\n",
       "\\item 'start\\_station\\_name'\n",
       "\\item 'start\\_station\\_id'\n",
       "\\item 'end\\_station\\_name'\n",
       "\\item 'end\\_station\\_id'\n",
       "\\item 'start\\_lat'\n",
       "\\item 'start\\_lng'\n",
       "\\item 'end\\_lat'\n",
       "\\item 'end\\_lng'\n",
       "\\item 'member\\_casual'\n",
       "\\end{enumerate*}\n"
      ],
      "text/markdown": [
       "1. 'ride_id'\n",
       "2. 'rideable_type'\n",
       "3. 'started_at'\n",
       "4. 'ended_at'\n",
       "5. 'start_station_name'\n",
       "6. 'start_station_id'\n",
       "7. 'end_station_name'\n",
       "8. 'end_station_id'\n",
       "9. 'start_lat'\n",
       "10. 'start_lng'\n",
       "11. 'end_lat'\n",
       "12. 'end_lng'\n",
       "13. 'member_casual'\n",
       "\n",
       "\n"
      ],
      "text/plain": [
       " [1] \"ride_id\"            \"rideable_type\"      \"started_at\"        \n",
       " [4] \"ended_at\"           \"start_station_name\" \"start_station_id\"  \n",
       " [7] \"end_station_name\"   \"end_station_id\"     \"start_lat\"         \n",
       "[10] \"start_lng\"          \"end_lat\"            \"end_lng\"           \n",
       "[13] \"member_casual\"     "
      ]
     },
     "metadata": {},
     "output_type": "display_data"
    },
    {
     "data": {
      "text/html": [
       "<style>\n",
       ".list-inline {list-style: none; margin:0; padding: 0}\n",
       ".list-inline>li {display: inline-block}\n",
       ".list-inline>li:not(:last-child)::after {content: \"\\00b7\"; padding: 0 .5ex}\n",
       "</style>\n",
       "<ol class=list-inline><li>'ride_id'</li><li>'rideable_type'</li><li>'started_at'</li><li>'ended_at'</li><li>'start_station_name'</li><li>'start_station_id'</li><li>'end_station_name'</li><li>'end_station_id'</li><li>'start_lat'</li><li>'start_lng'</li><li>'end_lat'</li><li>'end_lng'</li><li>'member_casual'</li></ol>\n"
      ],
      "text/latex": [
       "\\begin{enumerate*}\n",
       "\\item 'ride\\_id'\n",
       "\\item 'rideable\\_type'\n",
       "\\item 'started\\_at'\n",
       "\\item 'ended\\_at'\n",
       "\\item 'start\\_station\\_name'\n",
       "\\item 'start\\_station\\_id'\n",
       "\\item 'end\\_station\\_name'\n",
       "\\item 'end\\_station\\_id'\n",
       "\\item 'start\\_lat'\n",
       "\\item 'start\\_lng'\n",
       "\\item 'end\\_lat'\n",
       "\\item 'end\\_lng'\n",
       "\\item 'member\\_casual'\n",
       "\\end{enumerate*}\n"
      ],
      "text/markdown": [
       "1. 'ride_id'\n",
       "2. 'rideable_type'\n",
       "3. 'started_at'\n",
       "4. 'ended_at'\n",
       "5. 'start_station_name'\n",
       "6. 'start_station_id'\n",
       "7. 'end_station_name'\n",
       "8. 'end_station_id'\n",
       "9. 'start_lat'\n",
       "10. 'start_lng'\n",
       "11. 'end_lat'\n",
       "12. 'end_lng'\n",
       "13. 'member_casual'\n",
       "\n",
       "\n"
      ],
      "text/plain": [
       " [1] \"ride_id\"            \"rideable_type\"      \"started_at\"        \n",
       " [4] \"ended_at\"           \"start_station_name\" \"start_station_id\"  \n",
       " [7] \"end_station_name\"   \"end_station_id\"     \"start_lat\"         \n",
       "[10] \"start_lng\"          \"end_lat\"            \"end_lng\"           \n",
       "[13] \"member_casual\"     "
      ]
     },
     "metadata": {},
     "output_type": "display_data"
    },
    {
     "data": {
      "text/html": [
       "<style>\n",
       ".list-inline {list-style: none; margin:0; padding: 0}\n",
       ".list-inline>li {display: inline-block}\n",
       ".list-inline>li:not(:last-child)::after {content: \"\\00b7\"; padding: 0 .5ex}\n",
       "</style>\n",
       "<ol class=list-inline><li>'ride_id'</li><li>'rideable_type'</li><li>'started_at'</li><li>'ended_at'</li><li>'start_station_name'</li><li>'start_station_id'</li><li>'end_station_name'</li><li>'end_station_id'</li><li>'start_lat'</li><li>'start_lng'</li><li>'end_lat'</li><li>'end_lng'</li><li>'member_casual'</li></ol>\n"
      ],
      "text/latex": [
       "\\begin{enumerate*}\n",
       "\\item 'ride\\_id'\n",
       "\\item 'rideable\\_type'\n",
       "\\item 'started\\_at'\n",
       "\\item 'ended\\_at'\n",
       "\\item 'start\\_station\\_name'\n",
       "\\item 'start\\_station\\_id'\n",
       "\\item 'end\\_station\\_name'\n",
       "\\item 'end\\_station\\_id'\n",
       "\\item 'start\\_lat'\n",
       "\\item 'start\\_lng'\n",
       "\\item 'end\\_lat'\n",
       "\\item 'end\\_lng'\n",
       "\\item 'member\\_casual'\n",
       "\\end{enumerate*}\n"
      ],
      "text/markdown": [
       "1. 'ride_id'\n",
       "2. 'rideable_type'\n",
       "3. 'started_at'\n",
       "4. 'ended_at'\n",
       "5. 'start_station_name'\n",
       "6. 'start_station_id'\n",
       "7. 'end_station_name'\n",
       "8. 'end_station_id'\n",
       "9. 'start_lat'\n",
       "10. 'start_lng'\n",
       "11. 'end_lat'\n",
       "12. 'end_lng'\n",
       "13. 'member_casual'\n",
       "\n",
       "\n"
      ],
      "text/plain": [
       " [1] \"ride_id\"            \"rideable_type\"      \"started_at\"        \n",
       " [4] \"ended_at\"           \"start_station_name\" \"start_station_id\"  \n",
       " [7] \"end_station_name\"   \"end_station_id\"     \"start_lat\"         \n",
       "[10] \"start_lng\"          \"end_lat\"            \"end_lng\"           \n",
       "[13] \"member_casual\"     "
      ]
     },
     "metadata": {},
     "output_type": "display_data"
    },
    {
     "data": {
      "text/html": [
       "<style>\n",
       ".list-inline {list-style: none; margin:0; padding: 0}\n",
       ".list-inline>li {display: inline-block}\n",
       ".list-inline>li:not(:last-child)::after {content: \"\\00b7\"; padding: 0 .5ex}\n",
       "</style>\n",
       "<ol class=list-inline><li>'ride_id'</li><li>'rideable_type'</li><li>'started_at'</li><li>'ended_at'</li><li>'start_station_name'</li><li>'start_station_id'</li><li>'end_station_name'</li><li>'end_station_id'</li><li>'start_lat'</li><li>'start_lng'</li><li>'end_lat'</li><li>'end_lng'</li><li>'member_casual'</li></ol>\n"
      ],
      "text/latex": [
       "\\begin{enumerate*}\n",
       "\\item 'ride\\_id'\n",
       "\\item 'rideable\\_type'\n",
       "\\item 'started\\_at'\n",
       "\\item 'ended\\_at'\n",
       "\\item 'start\\_station\\_name'\n",
       "\\item 'start\\_station\\_id'\n",
       "\\item 'end\\_station\\_name'\n",
       "\\item 'end\\_station\\_id'\n",
       "\\item 'start\\_lat'\n",
       "\\item 'start\\_lng'\n",
       "\\item 'end\\_lat'\n",
       "\\item 'end\\_lng'\n",
       "\\item 'member\\_casual'\n",
       "\\end{enumerate*}\n"
      ],
      "text/markdown": [
       "1. 'ride_id'\n",
       "2. 'rideable_type'\n",
       "3. 'started_at'\n",
       "4. 'ended_at'\n",
       "5. 'start_station_name'\n",
       "6. 'start_station_id'\n",
       "7. 'end_station_name'\n",
       "8. 'end_station_id'\n",
       "9. 'start_lat'\n",
       "10. 'start_lng'\n",
       "11. 'end_lat'\n",
       "12. 'end_lng'\n",
       "13. 'member_casual'\n",
       "\n",
       "\n"
      ],
      "text/plain": [
       " [1] \"ride_id\"            \"rideable_type\"      \"started_at\"        \n",
       " [4] \"ended_at\"           \"start_station_name\" \"start_station_id\"  \n",
       " [7] \"end_station_name\"   \"end_station_id\"     \"start_lat\"         \n",
       "[10] \"start_lng\"          \"end_lat\"            \"end_lng\"           \n",
       "[13] \"member_casual\"     "
      ]
     },
     "metadata": {},
     "output_type": "display_data"
    },
    {
     "data": {
      "text/html": [
       "<style>\n",
       ".list-inline {list-style: none; margin:0; padding: 0}\n",
       ".list-inline>li {display: inline-block}\n",
       ".list-inline>li:not(:last-child)::after {content: \"\\00b7\"; padding: 0 .5ex}\n",
       "</style>\n",
       "<ol class=list-inline><li>'ride_id'</li><li>'rideable_type'</li><li>'started_at'</li><li>'ended_at'</li><li>'start_station_name'</li><li>'start_station_id'</li><li>'end_station_name'</li><li>'end_station_id'</li><li>'start_lat'</li><li>'start_lng'</li><li>'end_lat'</li><li>'end_lng'</li><li>'member_casual'</li></ol>\n"
      ],
      "text/latex": [
       "\\begin{enumerate*}\n",
       "\\item 'ride\\_id'\n",
       "\\item 'rideable\\_type'\n",
       "\\item 'started\\_at'\n",
       "\\item 'ended\\_at'\n",
       "\\item 'start\\_station\\_name'\n",
       "\\item 'start\\_station\\_id'\n",
       "\\item 'end\\_station\\_name'\n",
       "\\item 'end\\_station\\_id'\n",
       "\\item 'start\\_lat'\n",
       "\\item 'start\\_lng'\n",
       "\\item 'end\\_lat'\n",
       "\\item 'end\\_lng'\n",
       "\\item 'member\\_casual'\n",
       "\\end{enumerate*}\n"
      ],
      "text/markdown": [
       "1. 'ride_id'\n",
       "2. 'rideable_type'\n",
       "3. 'started_at'\n",
       "4. 'ended_at'\n",
       "5. 'start_station_name'\n",
       "6. 'start_station_id'\n",
       "7. 'end_station_name'\n",
       "8. 'end_station_id'\n",
       "9. 'start_lat'\n",
       "10. 'start_lng'\n",
       "11. 'end_lat'\n",
       "12. 'end_lng'\n",
       "13. 'member_casual'\n",
       "\n",
       "\n"
      ],
      "text/plain": [
       " [1] \"ride_id\"            \"rideable_type\"      \"started_at\"        \n",
       " [4] \"ended_at\"           \"start_station_name\" \"start_station_id\"  \n",
       " [7] \"end_station_name\"   \"end_station_id\"     \"start_lat\"         \n",
       "[10] \"start_lng\"          \"end_lat\"            \"end_lng\"           \n",
       "[13] \"member_casual\"     "
      ]
     },
     "metadata": {},
     "output_type": "display_data"
    },
    {
     "data": {
      "text/html": [
       "<style>\n",
       ".list-inline {list-style: none; margin:0; padding: 0}\n",
       ".list-inline>li {display: inline-block}\n",
       ".list-inline>li:not(:last-child)::after {content: \"\\00b7\"; padding: 0 .5ex}\n",
       "</style>\n",
       "<ol class=list-inline><li>'ride_id'</li><li>'rideable_type'</li><li>'started_at'</li><li>'ended_at'</li><li>'start_station_name'</li><li>'start_station_id'</li><li>'end_station_name'</li><li>'end_station_id'</li><li>'start_lat'</li><li>'start_lng'</li><li>'end_lat'</li><li>'end_lng'</li><li>'member_casual'</li></ol>\n"
      ],
      "text/latex": [
       "\\begin{enumerate*}\n",
       "\\item 'ride\\_id'\n",
       "\\item 'rideable\\_type'\n",
       "\\item 'started\\_at'\n",
       "\\item 'ended\\_at'\n",
       "\\item 'start\\_station\\_name'\n",
       "\\item 'start\\_station\\_id'\n",
       "\\item 'end\\_station\\_name'\n",
       "\\item 'end\\_station\\_id'\n",
       "\\item 'start\\_lat'\n",
       "\\item 'start\\_lng'\n",
       "\\item 'end\\_lat'\n",
       "\\item 'end\\_lng'\n",
       "\\item 'member\\_casual'\n",
       "\\end{enumerate*}\n"
      ],
      "text/markdown": [
       "1. 'ride_id'\n",
       "2. 'rideable_type'\n",
       "3. 'started_at'\n",
       "4. 'ended_at'\n",
       "5. 'start_station_name'\n",
       "6. 'start_station_id'\n",
       "7. 'end_station_name'\n",
       "8. 'end_station_id'\n",
       "9. 'start_lat'\n",
       "10. 'start_lng'\n",
       "11. 'end_lat'\n",
       "12. 'end_lng'\n",
       "13. 'member_casual'\n",
       "\n",
       "\n"
      ],
      "text/plain": [
       " [1] \"ride_id\"            \"rideable_type\"      \"started_at\"        \n",
       " [4] \"ended_at\"           \"start_station_name\" \"start_station_id\"  \n",
       " [7] \"end_station_name\"   \"end_station_id\"     \"start_lat\"         \n",
       "[10] \"start_lng\"          \"end_lat\"            \"end_lng\"           \n",
       "[13] \"member_casual\"     "
      ]
     },
     "metadata": {},
     "output_type": "display_data"
    },
    {
     "data": {
      "text/html": [
       "<style>\n",
       ".list-inline {list-style: none; margin:0; padding: 0}\n",
       ".list-inline>li {display: inline-block}\n",
       ".list-inline>li:not(:last-child)::after {content: \"\\00b7\"; padding: 0 .5ex}\n",
       "</style>\n",
       "<ol class=list-inline><li>'ride_id'</li><li>'rideable_type'</li><li>'started_at'</li><li>'ended_at'</li><li>'start_station_name'</li><li>'start_station_id'</li><li>'end_station_name'</li><li>'end_station_id'</li><li>'start_lat'</li><li>'start_lng'</li><li>'end_lat'</li><li>'end_lng'</li><li>'member_casual'</li></ol>\n"
      ],
      "text/latex": [
       "\\begin{enumerate*}\n",
       "\\item 'ride\\_id'\n",
       "\\item 'rideable\\_type'\n",
       "\\item 'started\\_at'\n",
       "\\item 'ended\\_at'\n",
       "\\item 'start\\_station\\_name'\n",
       "\\item 'start\\_station\\_id'\n",
       "\\item 'end\\_station\\_name'\n",
       "\\item 'end\\_station\\_id'\n",
       "\\item 'start\\_lat'\n",
       "\\item 'start\\_lng'\n",
       "\\item 'end\\_lat'\n",
       "\\item 'end\\_lng'\n",
       "\\item 'member\\_casual'\n",
       "\\end{enumerate*}\n"
      ],
      "text/markdown": [
       "1. 'ride_id'\n",
       "2. 'rideable_type'\n",
       "3. 'started_at'\n",
       "4. 'ended_at'\n",
       "5. 'start_station_name'\n",
       "6. 'start_station_id'\n",
       "7. 'end_station_name'\n",
       "8. 'end_station_id'\n",
       "9. 'start_lat'\n",
       "10. 'start_lng'\n",
       "11. 'end_lat'\n",
       "12. 'end_lng'\n",
       "13. 'member_casual'\n",
       "\n",
       "\n"
      ],
      "text/plain": [
       " [1] \"ride_id\"            \"rideable_type\"      \"started_at\"        \n",
       " [4] \"ended_at\"           \"start_station_name\" \"start_station_id\"  \n",
       " [7] \"end_station_name\"   \"end_station_id\"     \"start_lat\"         \n",
       "[10] \"start_lng\"          \"end_lat\"            \"end_lng\"           \n",
       "[13] \"member_casual\"     "
      ]
     },
     "metadata": {},
     "output_type": "display_data"
    },
    {
     "data": {
      "text/html": [
       "<style>\n",
       ".list-inline {list-style: none; margin:0; padding: 0}\n",
       ".list-inline>li {display: inline-block}\n",
       ".list-inline>li:not(:last-child)::after {content: \"\\00b7\"; padding: 0 .5ex}\n",
       "</style>\n",
       "<ol class=list-inline><li>'ride_id'</li><li>'rideable_type'</li><li>'started_at'</li><li>'ended_at'</li><li>'start_station_name'</li><li>'start_station_id'</li><li>'end_station_name'</li><li>'end_station_id'</li><li>'start_lat'</li><li>'start_lng'</li><li>'end_lat'</li><li>'end_lng'</li><li>'member_casual'</li></ol>\n"
      ],
      "text/latex": [
       "\\begin{enumerate*}\n",
       "\\item 'ride\\_id'\n",
       "\\item 'rideable\\_type'\n",
       "\\item 'started\\_at'\n",
       "\\item 'ended\\_at'\n",
       "\\item 'start\\_station\\_name'\n",
       "\\item 'start\\_station\\_id'\n",
       "\\item 'end\\_station\\_name'\n",
       "\\item 'end\\_station\\_id'\n",
       "\\item 'start\\_lat'\n",
       "\\item 'start\\_lng'\n",
       "\\item 'end\\_lat'\n",
       "\\item 'end\\_lng'\n",
       "\\item 'member\\_casual'\n",
       "\\end{enumerate*}\n"
      ],
      "text/markdown": [
       "1. 'ride_id'\n",
       "2. 'rideable_type'\n",
       "3. 'started_at'\n",
       "4. 'ended_at'\n",
       "5. 'start_station_name'\n",
       "6. 'start_station_id'\n",
       "7. 'end_station_name'\n",
       "8. 'end_station_id'\n",
       "9. 'start_lat'\n",
       "10. 'start_lng'\n",
       "11. 'end_lat'\n",
       "12. 'end_lng'\n",
       "13. 'member_casual'\n",
       "\n",
       "\n"
      ],
      "text/plain": [
       " [1] \"ride_id\"            \"rideable_type\"      \"started_at\"        \n",
       " [4] \"ended_at\"           \"start_station_name\" \"start_station_id\"  \n",
       " [7] \"end_station_name\"   \"end_station_id\"     \"start_lat\"         \n",
       "[10] \"start_lng\"          \"end_lat\"            \"end_lng\"           \n",
       "[13] \"member_casual\"     "
      ]
     },
     "metadata": {},
     "output_type": "display_data"
    },
    {
     "data": {
      "text/html": [
       "<style>\n",
       ".list-inline {list-style: none; margin:0; padding: 0}\n",
       ".list-inline>li {display: inline-block}\n",
       ".list-inline>li:not(:last-child)::after {content: \"\\00b7\"; padding: 0 .5ex}\n",
       "</style>\n",
       "<ol class=list-inline><li>'ride_id'</li><li>'rideable_type'</li><li>'started_at'</li><li>'ended_at'</li><li>'start_station_name'</li><li>'start_station_id'</li><li>'end_station_name'</li><li>'end_station_id'</li><li>'start_lat'</li><li>'start_lng'</li><li>'end_lat'</li><li>'end_lng'</li><li>'member_casual'</li></ol>\n"
      ],
      "text/latex": [
       "\\begin{enumerate*}\n",
       "\\item 'ride\\_id'\n",
       "\\item 'rideable\\_type'\n",
       "\\item 'started\\_at'\n",
       "\\item 'ended\\_at'\n",
       "\\item 'start\\_station\\_name'\n",
       "\\item 'start\\_station\\_id'\n",
       "\\item 'end\\_station\\_name'\n",
       "\\item 'end\\_station\\_id'\n",
       "\\item 'start\\_lat'\n",
       "\\item 'start\\_lng'\n",
       "\\item 'end\\_lat'\n",
       "\\item 'end\\_lng'\n",
       "\\item 'member\\_casual'\n",
       "\\end{enumerate*}\n"
      ],
      "text/markdown": [
       "1. 'ride_id'\n",
       "2. 'rideable_type'\n",
       "3. 'started_at'\n",
       "4. 'ended_at'\n",
       "5. 'start_station_name'\n",
       "6. 'start_station_id'\n",
       "7. 'end_station_name'\n",
       "8. 'end_station_id'\n",
       "9. 'start_lat'\n",
       "10. 'start_lng'\n",
       "11. 'end_lat'\n",
       "12. 'end_lng'\n",
       "13. 'member_casual'\n",
       "\n",
       "\n"
      ],
      "text/plain": [
       " [1] \"ride_id\"            \"rideable_type\"      \"started_at\"        \n",
       " [4] \"ended_at\"           \"start_station_name\" \"start_station_id\"  \n",
       " [7] \"end_station_name\"   \"end_station_id\"     \"start_lat\"         \n",
       "[10] \"start_lng\"          \"end_lat\"            \"end_lng\"           \n",
       "[13] \"member_casual\"     "
      ]
     },
     "metadata": {},
     "output_type": "display_data"
    },
    {
     "data": {
      "text/html": [
       "<style>\n",
       ".list-inline {list-style: none; margin:0; padding: 0}\n",
       ".list-inline>li {display: inline-block}\n",
       ".list-inline>li:not(:last-child)::after {content: \"\\00b7\"; padding: 0 .5ex}\n",
       "</style>\n",
       "<ol class=list-inline><li>'ride_id'</li><li>'rideable_type'</li><li>'started_at'</li><li>'ended_at'</li><li>'start_station_name'</li><li>'start_station_id'</li><li>'end_station_name'</li><li>'end_station_id'</li><li>'start_lat'</li><li>'start_lng'</li><li>'end_lat'</li><li>'end_lng'</li><li>'member_casual'</li></ol>\n"
      ],
      "text/latex": [
       "\\begin{enumerate*}\n",
       "\\item 'ride\\_id'\n",
       "\\item 'rideable\\_type'\n",
       "\\item 'started\\_at'\n",
       "\\item 'ended\\_at'\n",
       "\\item 'start\\_station\\_name'\n",
       "\\item 'start\\_station\\_id'\n",
       "\\item 'end\\_station\\_name'\n",
       "\\item 'end\\_station\\_id'\n",
       "\\item 'start\\_lat'\n",
       "\\item 'start\\_lng'\n",
       "\\item 'end\\_lat'\n",
       "\\item 'end\\_lng'\n",
       "\\item 'member\\_casual'\n",
       "\\end{enumerate*}\n"
      ],
      "text/markdown": [
       "1. 'ride_id'\n",
       "2. 'rideable_type'\n",
       "3. 'started_at'\n",
       "4. 'ended_at'\n",
       "5. 'start_station_name'\n",
       "6. 'start_station_id'\n",
       "7. 'end_station_name'\n",
       "8. 'end_station_id'\n",
       "9. 'start_lat'\n",
       "10. 'start_lng'\n",
       "11. 'end_lat'\n",
       "12. 'end_lng'\n",
       "13. 'member_casual'\n",
       "\n",
       "\n"
      ],
      "text/plain": [
       " [1] \"ride_id\"            \"rideable_type\"      \"started_at\"        \n",
       " [4] \"ended_at\"           \"start_station_name\" \"start_station_id\"  \n",
       " [7] \"end_station_name\"   \"end_station_id\"     \"start_lat\"         \n",
       "[10] \"start_lng\"          \"end_lat\"            \"end_lng\"           \n",
       "[13] \"member_casual\"     "
      ]
     },
     "metadata": {},
     "output_type": "display_data"
    },
    {
     "data": {
      "text/html": [
       "<style>\n",
       ".list-inline {list-style: none; margin:0; padding: 0}\n",
       ".list-inline>li {display: inline-block}\n",
       ".list-inline>li:not(:last-child)::after {content: \"\\00b7\"; padding: 0 .5ex}\n",
       "</style>\n",
       "<ol class=list-inline><li>'ride_id'</li><li>'rideable_type'</li><li>'started_at'</li><li>'ended_at'</li><li>'start_station_name'</li><li>'start_station_id'</li><li>'end_station_name'</li><li>'end_station_id'</li><li>'start_lat'</li><li>'start_lng'</li><li>'end_lat'</li><li>'end_lng'</li><li>'member_casual'</li></ol>\n"
      ],
      "text/latex": [
       "\\begin{enumerate*}\n",
       "\\item 'ride\\_id'\n",
       "\\item 'rideable\\_type'\n",
       "\\item 'started\\_at'\n",
       "\\item 'ended\\_at'\n",
       "\\item 'start\\_station\\_name'\n",
       "\\item 'start\\_station\\_id'\n",
       "\\item 'end\\_station\\_name'\n",
       "\\item 'end\\_station\\_id'\n",
       "\\item 'start\\_lat'\n",
       "\\item 'start\\_lng'\n",
       "\\item 'end\\_lat'\n",
       "\\item 'end\\_lng'\n",
       "\\item 'member\\_casual'\n",
       "\\end{enumerate*}\n"
      ],
      "text/markdown": [
       "1. 'ride_id'\n",
       "2. 'rideable_type'\n",
       "3. 'started_at'\n",
       "4. 'ended_at'\n",
       "5. 'start_station_name'\n",
       "6. 'start_station_id'\n",
       "7. 'end_station_name'\n",
       "8. 'end_station_id'\n",
       "9. 'start_lat'\n",
       "10. 'start_lng'\n",
       "11. 'end_lat'\n",
       "12. 'end_lng'\n",
       "13. 'member_casual'\n",
       "\n",
       "\n"
      ],
      "text/plain": [
       " [1] \"ride_id\"            \"rideable_type\"      \"started_at\"        \n",
       " [4] \"ended_at\"           \"start_station_name\" \"start_station_id\"  \n",
       " [7] \"end_station_name\"   \"end_station_id\"     \"start_lat\"         \n",
       "[10] \"start_lng\"          \"end_lat\"            \"end_lng\"           \n",
       "[13] \"member_casual\"     "
      ]
     },
     "metadata": {},
     "output_type": "display_data"
    },
    {
     "data": {
      "text/html": [
       "<style>\n",
       ".list-inline {list-style: none; margin:0; padding: 0}\n",
       ".list-inline>li {display: inline-block}\n",
       ".list-inline>li:not(:last-child)::after {content: \"\\00b7\"; padding: 0 .5ex}\n",
       "</style>\n",
       "<ol class=list-inline><li>'ride_id'</li><li>'rideable_type'</li><li>'started_at'</li><li>'ended_at'</li><li>'start_station_name'</li><li>'start_station_id'</li><li>'end_station_name'</li><li>'end_station_id'</li><li>'start_lat'</li><li>'start_lng'</li><li>'end_lat'</li><li>'end_lng'</li><li>'member_casual'</li></ol>\n"
      ],
      "text/latex": [
       "\\begin{enumerate*}\n",
       "\\item 'ride\\_id'\n",
       "\\item 'rideable\\_type'\n",
       "\\item 'started\\_at'\n",
       "\\item 'ended\\_at'\n",
       "\\item 'start\\_station\\_name'\n",
       "\\item 'start\\_station\\_id'\n",
       "\\item 'end\\_station\\_name'\n",
       "\\item 'end\\_station\\_id'\n",
       "\\item 'start\\_lat'\n",
       "\\item 'start\\_lng'\n",
       "\\item 'end\\_lat'\n",
       "\\item 'end\\_lng'\n",
       "\\item 'member\\_casual'\n",
       "\\end{enumerate*}\n"
      ],
      "text/markdown": [
       "1. 'ride_id'\n",
       "2. 'rideable_type'\n",
       "3. 'started_at'\n",
       "4. 'ended_at'\n",
       "5. 'start_station_name'\n",
       "6. 'start_station_id'\n",
       "7. 'end_station_name'\n",
       "8. 'end_station_id'\n",
       "9. 'start_lat'\n",
       "10. 'start_lng'\n",
       "11. 'end_lat'\n",
       "12. 'end_lng'\n",
       "13. 'member_casual'\n",
       "\n",
       "\n"
      ],
      "text/plain": [
       " [1] \"ride_id\"            \"rideable_type\"      \"started_at\"        \n",
       " [4] \"ended_at\"           \"start_station_name\" \"start_station_id\"  \n",
       " [7] \"end_station_name\"   \"end_station_id\"     \"start_lat\"         \n",
       "[10] \"start_lng\"          \"end_lat\"            \"end_lng\"           \n",
       "[13] \"member_casual\"     "
      ]
     },
     "metadata": {},
     "output_type": "display_data"
    }
   ],
   "source": [
    "colnames(tripdata_202106)\n",
    "colnames(tripdata_202107)\n",
    "colnames(tripdata_202108)\n",
    "colnames(tripdata_202109)\n",
    "colnames(tripdata_202110)\n",
    "colnames(tripdata_202111)\n",
    "colnames(tripdata_202112)\n",
    "colnames(tripdata_202201)\n",
    "colnames(tripdata_202202)\n",
    "colnames(tripdata_202203)\n",
    "colnames(tripdata_202204)\n",
    "colnames(tripdata_202205)"
   ]
  },
  {
   "cell_type": "markdown",
   "metadata": {},
   "source": [
    "The results are all the same. Therefore, the variable names are consistent across all data. \n",
    "\n",
    "### Inspect the dataframes and look for incongruencies"
   ]
  },
  {
   "cell_type": "code",
   "execution_count": 5,
   "metadata": {
    "execution": {
     "iopub.execute_input": "2022-07-16T05:35:49.093237Z",
     "iopub.status.busy": "2022-07-16T05:35:49.091840Z",
     "iopub.status.idle": "2022-07-16T05:35:50.086553Z"
    }
   },
   "outputs": [
    {
     "name": "stdout",
     "output_type": "stream",
     "text": [
      "spec_tbl_df [729,595 × 13] (S3: spec_tbl_df/tbl_df/tbl/data.frame)\n",
      " $ ride_id           : chr [1:729595] \"99FEC93BA843FB20\" \"06048DCFC8520CAF\" \"9598066F68045DF2\" \"B03C0FE48C412214\" ...\n",
      " $ rideable_type     : chr [1:729595] \"electric_bike\" \"electric_bike\" \"electric_bike\" \"electric_bike\" ...\n",
      " $ started_at        : POSIXct[1:729595], format: \"2021-06-13 14:31:28\" \"2021-06-04 11:18:02\" ...\n",
      " $ ended_at          : POSIXct[1:729595], format: \"2021-06-13 14:34:11\" \"2021-06-04 11:24:19\" ...\n",
      " $ start_station_name: chr [1:729595] NA NA NA NA ...\n",
      " $ start_station_id  : chr [1:729595] NA NA NA NA ...\n",
      " $ end_station_name  : chr [1:729595] NA NA NA NA ...\n",
      " $ end_station_id    : chr [1:729595] NA NA NA NA ...\n",
      " $ start_lat         : num [1:729595] 41.8 41.8 41.8 41.8 41.8 ...\n",
      " $ start_lng         : num [1:729595] -87.6 -87.6 -87.6 -87.6 -87.6 ...\n",
      " $ end_lat           : num [1:729595] 41.8 41.8 41.8 41.8 41.8 ...\n",
      " $ end_lng           : num [1:729595] -87.6 -87.6 -87.6 -87.6 -87.6 ...\n",
      " $ member_casual     : chr [1:729595] \"member\" \"member\" \"member\" \"member\" ...\n",
      " - attr(*, \"spec\")=\n",
      "  .. cols(\n",
      "  ..   ride_id = \u001b[31mcol_character()\u001b[39m,\n",
      "  ..   rideable_type = \u001b[31mcol_character()\u001b[39m,\n",
      "  ..   started_at = \u001b[34mcol_datetime(format = \"\")\u001b[39m,\n",
      "  ..   ended_at = \u001b[34mcol_datetime(format = \"\")\u001b[39m,\n",
      "  ..   start_station_name = \u001b[31mcol_character()\u001b[39m,\n",
      "  ..   start_station_id = \u001b[31mcol_character()\u001b[39m,\n",
      "  ..   end_station_name = \u001b[31mcol_character()\u001b[39m,\n",
      "  ..   end_station_id = \u001b[31mcol_character()\u001b[39m,\n",
      "  ..   start_lat = \u001b[32mcol_double()\u001b[39m,\n",
      "  ..   start_lng = \u001b[32mcol_double()\u001b[39m,\n",
      "  ..   end_lat = \u001b[32mcol_double()\u001b[39m,\n",
      "  ..   end_lng = \u001b[32mcol_double()\u001b[39m,\n",
      "  ..   member_casual = \u001b[31mcol_character()\u001b[39m\n",
      "  .. )\n",
      " - attr(*, \"problems\")=<externalptr> \n",
      "spec_tbl_df [822,410 × 13] (S3: spec_tbl_df/tbl_df/tbl/data.frame)\n",
      " $ ride_id           : chr [1:822410] \"0A1B623926EF4E16\" \"B2D5583A5A5E76EE\" \"6F264597DDBF427A\" \"379B58EAB20E8AA5\" ...\n",
      " $ rideable_type     : chr [1:822410] \"docked_bike\" \"classic_bike\" \"classic_bike\" \"classic_bike\" ...\n",
      " $ started_at        : POSIXct[1:822410], format: \"2021-07-02 14:44:36\" \"2021-07-07 16:57:42\" ...\n",
      " $ ended_at          : POSIXct[1:822410], format: \"2021-07-02 15:19:58\" \"2021-07-07 17:16:09\" ...\n",
      " $ start_station_name: chr [1:822410] \"Michigan Ave & Washington St\" \"California Ave & Cortez St\" \"Wabash Ave & 16th St\" \"California Ave & Cortez St\" ...\n",
      " $ start_station_id  : chr [1:822410] \"13001\" \"17660\" \"SL-012\" \"17660\" ...\n",
      " $ end_station_name  : chr [1:822410] \"Halsted St & North Branch St\" \"Wood St & Hubbard St\" \"Rush St & Hubbard St\" \"Carpenter St & Huron St\" ...\n",
      " $ end_station_id    : chr [1:822410] \"KA1504000117\" \"13432\" \"KA1503000044\" \"13196\" ...\n",
      " $ start_lat         : num [1:822410] 41.9 41.9 41.9 41.9 41.9 ...\n",
      " $ start_lng         : num [1:822410] -87.6 -87.7 -87.6 -87.7 -87.7 ...\n",
      " $ end_lat           : num [1:822410] 41.9 41.9 41.9 41.9 41.9 ...\n",
      " $ end_lng           : num [1:822410] -87.6 -87.7 -87.6 -87.7 -87.7 ...\n",
      " $ member_casual     : chr [1:822410] \"casual\" \"casual\" \"member\" \"member\" ...\n",
      " - attr(*, \"spec\")=\n",
      "  .. cols(\n",
      "  ..   ride_id = \u001b[31mcol_character()\u001b[39m,\n",
      "  ..   rideable_type = \u001b[31mcol_character()\u001b[39m,\n",
      "  ..   started_at = \u001b[34mcol_datetime(format = \"\")\u001b[39m,\n",
      "  ..   ended_at = \u001b[34mcol_datetime(format = \"\")\u001b[39m,\n",
      "  ..   start_station_name = \u001b[31mcol_character()\u001b[39m,\n",
      "  ..   start_station_id = \u001b[31mcol_character()\u001b[39m,\n",
      "  ..   end_station_name = \u001b[31mcol_character()\u001b[39m,\n",
      "  ..   end_station_id = \u001b[31mcol_character()\u001b[39m,\n",
      "  ..   start_lat = \u001b[32mcol_double()\u001b[39m,\n",
      "  ..   start_lng = \u001b[32mcol_double()\u001b[39m,\n",
      "  ..   end_lat = \u001b[32mcol_double()\u001b[39m,\n",
      "  ..   end_lng = \u001b[32mcol_double()\u001b[39m,\n",
      "  ..   member_casual = \u001b[31mcol_character()\u001b[39m\n",
      "  .. )\n",
      " - attr(*, \"problems\")=<externalptr> \n",
      "spec_tbl_df [804,352 × 13] (S3: spec_tbl_df/tbl_df/tbl/data.frame)\n",
      " $ ride_id           : chr [1:804352] \"99103BB87CC6C1BB\" \"EAFCCCFB0A3FC5A1\" \"9EF4F46C57AD234D\" \"5834D3208BFAF1DA\" ...\n",
      " $ rideable_type     : chr [1:804352] \"electric_bike\" \"electric_bike\" \"electric_bike\" \"electric_bike\" ...\n",
      " $ started_at        : POSIXct[1:804352], format: \"2021-08-10 17:15:49\" \"2021-08-10 17:23:14\" ...\n",
      " $ ended_at          : POSIXct[1:804352], format: \"2021-08-10 17:22:44\" \"2021-08-10 17:39:24\" ...\n",
      " $ start_station_name: chr [1:804352] NA NA NA NA ...\n",
      " $ start_station_id  : chr [1:804352] NA NA NA NA ...\n",
      " $ end_station_name  : chr [1:804352] NA NA NA NA ...\n",
      " $ end_station_id    : chr [1:804352] NA NA NA NA ...\n",
      " $ start_lat         : num [1:804352] 41.8 41.8 42 42 41.8 ...\n",
      " $ start_lng         : num [1:804352] -87.7 -87.7 -87.7 -87.7 -87.6 ...\n",
      " $ end_lat           : num [1:804352] 41.8 41.8 42 42 41.8 ...\n",
      " $ end_lng           : num [1:804352] -87.7 -87.6 -87.7 -87.7 -87.6 ...\n",
      " $ member_casual     : chr [1:804352] \"member\" \"member\" \"member\" \"member\" ...\n",
      " - attr(*, \"spec\")=\n",
      "  .. cols(\n",
      "  ..   ride_id = \u001b[31mcol_character()\u001b[39m,\n",
      "  ..   rideable_type = \u001b[31mcol_character()\u001b[39m,\n",
      "  ..   started_at = \u001b[34mcol_datetime(format = \"\")\u001b[39m,\n",
      "  ..   ended_at = \u001b[34mcol_datetime(format = \"\")\u001b[39m,\n",
      "  ..   start_station_name = \u001b[31mcol_character()\u001b[39m,\n",
      "  ..   start_station_id = \u001b[31mcol_character()\u001b[39m,\n",
      "  ..   end_station_name = \u001b[31mcol_character()\u001b[39m,\n",
      "  ..   end_station_id = \u001b[31mcol_character()\u001b[39m,\n",
      "  ..   start_lat = \u001b[32mcol_double()\u001b[39m,\n",
      "  ..   start_lng = \u001b[32mcol_double()\u001b[39m,\n",
      "  ..   end_lat = \u001b[32mcol_double()\u001b[39m,\n",
      "  ..   end_lng = \u001b[32mcol_double()\u001b[39m,\n",
      "  ..   member_casual = \u001b[31mcol_character()\u001b[39m\n",
      "  .. )\n",
      " - attr(*, \"problems\")=<externalptr> \n",
      "spec_tbl_df [756,147 × 13] (S3: spec_tbl_df/tbl_df/tbl/data.frame)\n",
      " $ ride_id           : chr [1:756147] \"9DC7B962304CBFD8\" \"F930E2C6872D6B32\" \"6EF72137900BB910\" \"78D1DE133B3DBF55\" ...\n",
      " $ rideable_type     : chr [1:756147] \"electric_bike\" \"electric_bike\" \"electric_bike\" \"electric_bike\" ...\n",
      " $ started_at        : POSIXct[1:756147], format: \"2021-09-28 16:07:10\" \"2021-09-28 14:24:51\" ...\n",
      " $ ended_at          : POSIXct[1:756147], format: \"2021-09-28 16:09:54\" \"2021-09-28 14:40:05\" ...\n",
      " $ start_station_name: chr [1:756147] NA NA NA NA ...\n",
      " $ start_station_id  : chr [1:756147] NA NA NA NA ...\n",
      " $ end_station_name  : chr [1:756147] NA NA NA NA ...\n",
      " $ end_station_id    : chr [1:756147] NA NA NA NA ...\n",
      " $ start_lat         : num [1:756147] 41.9 41.9 41.8 41.8 41.9 ...\n",
      " $ start_lng         : num [1:756147] -87.7 -87.6 -87.7 -87.7 -87.7 ...\n",
      " $ end_lat           : num [1:756147] 41.9 42 41.8 41.8 41.9 ...\n",
      " $ end_lng           : num [1:756147] -87.7 -87.7 -87.7 -87.7 -87.7 ...\n",
      " $ member_casual     : chr [1:756147] \"casual\" \"casual\" \"casual\" \"casual\" ...\n",
      " - attr(*, \"spec\")=\n",
      "  .. cols(\n",
      "  ..   ride_id = \u001b[31mcol_character()\u001b[39m,\n",
      "  ..   rideable_type = \u001b[31mcol_character()\u001b[39m,\n",
      "  ..   started_at = \u001b[34mcol_datetime(format = \"\")\u001b[39m,\n",
      "  ..   ended_at = \u001b[34mcol_datetime(format = \"\")\u001b[39m,\n",
      "  ..   start_station_name = \u001b[31mcol_character()\u001b[39m,\n",
      "  ..   start_station_id = \u001b[31mcol_character()\u001b[39m,\n",
      "  ..   end_station_name = \u001b[31mcol_character()\u001b[39m,\n",
      "  ..   end_station_id = \u001b[31mcol_character()\u001b[39m,\n",
      "  ..   start_lat = \u001b[32mcol_double()\u001b[39m,\n",
      "  ..   start_lng = \u001b[32mcol_double()\u001b[39m,\n",
      "  ..   end_lat = \u001b[32mcol_double()\u001b[39m,\n",
      "  ..   end_lng = \u001b[32mcol_double()\u001b[39m,\n",
      "  ..   member_casual = \u001b[31mcol_character()\u001b[39m\n",
      "  .. )\n",
      " - attr(*, \"problems\")=<externalptr> \n",
      "spec_tbl_df [631,226 × 13] (S3: spec_tbl_df/tbl_df/tbl/data.frame)\n",
      " $ ride_id           : chr [1:631226] \"620BC6107255BF4C\" \"4471C70731AB2E45\" \"26CA69D43D15EE14\" \"362947F0437E1514\" ...\n",
      " $ rideable_type     : chr [1:631226] \"electric_bike\" \"electric_bike\" \"electric_bike\" \"electric_bike\" ...\n",
      " $ started_at        : POSIXct[1:631226], format: \"2021-10-22 12:46:42\" \"2021-10-21 09:12:37\" ...\n",
      " $ ended_at          : POSIXct[1:631226], format: \"2021-10-22 12:49:50\" \"2021-10-21 09:14:14\" ...\n",
      " $ start_station_name: chr [1:631226] \"Kingsbury St & Kinzie St\" NA NA NA ...\n",
      " $ start_station_id  : chr [1:631226] \"KA1503000043\" NA NA NA ...\n",
      " $ end_station_name  : chr [1:631226] NA NA NA NA ...\n",
      " $ end_station_id    : chr [1:631226] NA NA NA NA ...\n",
      " $ start_lat         : num [1:631226] 41.9 41.9 41.9 41.9 41.9 ...\n",
      " $ start_lng         : num [1:631226] -87.6 -87.7 -87.7 -87.7 -87.7 ...\n",
      " $ end_lat           : num [1:631226] 41.9 41.9 41.9 41.9 41.9 ...\n",
      " $ end_lng           : num [1:631226] -87.6 -87.7 -87.7 -87.7 -87.7 ...\n",
      " $ member_casual     : chr [1:631226] \"member\" \"member\" \"member\" \"member\" ...\n",
      " - attr(*, \"spec\")=\n",
      "  .. cols(\n",
      "  ..   ride_id = \u001b[31mcol_character()\u001b[39m,\n",
      "  ..   rideable_type = \u001b[31mcol_character()\u001b[39m,\n",
      "  ..   started_at = \u001b[34mcol_datetime(format = \"\")\u001b[39m,\n",
      "  ..   ended_at = \u001b[34mcol_datetime(format = \"\")\u001b[39m,\n",
      "  ..   start_station_name = \u001b[31mcol_character()\u001b[39m,\n",
      "  ..   start_station_id = \u001b[31mcol_character()\u001b[39m,\n",
      "  ..   end_station_name = \u001b[31mcol_character()\u001b[39m,\n",
      "  ..   end_station_id = \u001b[31mcol_character()\u001b[39m,\n",
      "  ..   start_lat = \u001b[32mcol_double()\u001b[39m,\n",
      "  ..   start_lng = \u001b[32mcol_double()\u001b[39m,\n",
      "  ..   end_lat = \u001b[32mcol_double()\u001b[39m,\n",
      "  ..   end_lng = \u001b[32mcol_double()\u001b[39m,\n",
      "  ..   member_casual = \u001b[31mcol_character()\u001b[39m\n",
      "  .. )\n",
      " - attr(*, \"problems\")=<externalptr> \n",
      "spec_tbl_df [359,978 × 13] (S3: spec_tbl_df/tbl_df/tbl/data.frame)\n",
      " $ ride_id           : chr [1:359978] \"7C00A93E10556E47\" \"90854840DFD508BA\" \"0A7D10CDD144061C\" \"2F3BE33085BCFF02\" ...\n",
      " $ rideable_type     : chr [1:359978] \"electric_bike\" \"electric_bike\" \"electric_bike\" \"electric_bike\" ...\n",
      " $ started_at        : POSIXct[1:359978], format: \"2021-11-27 13:27:38\" \"2021-11-27 13:38:25\" ...\n",
      " $ ended_at          : POSIXct[1:359978], format: \"2021-11-27 13:46:38\" \"2021-11-27 13:56:10\" ...\n",
      " $ start_station_name: chr [1:359978] NA NA NA NA ...\n",
      " $ start_station_id  : chr [1:359978] NA NA NA NA ...\n",
      " $ end_station_name  : chr [1:359978] NA NA NA NA ...\n",
      " $ end_station_id    : chr [1:359978] NA NA NA NA ...\n",
      " $ start_lat         : num [1:359978] 41.9 42 42 41.9 41.9 ...\n",
      " $ start_lng         : num [1:359978] -87.7 -87.7 -87.7 -87.8 -87.6 ...\n",
      " $ end_lat           : num [1:359978] 42 41.9 42 41.9 41.9 ...\n",
      " $ end_lng           : num [1:359978] -87.7 -87.7 -87.7 -87.8 -87.6 ...\n",
      " $ member_casual     : chr [1:359978] \"casual\" \"casual\" \"casual\" \"casual\" ...\n",
      " - attr(*, \"spec\")=\n",
      "  .. cols(\n",
      "  ..   ride_id = \u001b[31mcol_character()\u001b[39m,\n",
      "  ..   rideable_type = \u001b[31mcol_character()\u001b[39m,\n",
      "  ..   started_at = \u001b[34mcol_datetime(format = \"\")\u001b[39m,\n",
      "  ..   ended_at = \u001b[34mcol_datetime(format = \"\")\u001b[39m,\n",
      "  ..   start_station_name = \u001b[31mcol_character()\u001b[39m,\n",
      "  ..   start_station_id = \u001b[31mcol_character()\u001b[39m,\n",
      "  ..   end_station_name = \u001b[31mcol_character()\u001b[39m,\n",
      "  ..   end_station_id = \u001b[31mcol_character()\u001b[39m,\n",
      "  ..   start_lat = \u001b[32mcol_double()\u001b[39m,\n",
      "  ..   start_lng = \u001b[32mcol_double()\u001b[39m,\n",
      "  ..   end_lat = \u001b[32mcol_double()\u001b[39m,\n",
      "  ..   end_lng = \u001b[32mcol_double()\u001b[39m,\n",
      "  ..   member_casual = \u001b[31mcol_character()\u001b[39m\n",
      "  .. )\n",
      " - attr(*, \"problems\")=<externalptr> \n",
      "spec_tbl_df [247,540 × 13] (S3: spec_tbl_df/tbl_df/tbl/data.frame)\n",
      " $ ride_id           : chr [1:247540] \"46F8167220E4431F\" \"73A77762838B32FD\" \"4CF42452054F59C5\" \"3278BA87BF698339\" ...\n",
      " $ rideable_type     : chr [1:247540] \"electric_bike\" \"electric_bike\" \"electric_bike\" \"classic_bike\" ...\n",
      " $ started_at        : POSIXct[1:247540], format: \"2021-12-07 15:06:07\" \"2021-12-11 03:43:29\" ...\n",
      " $ ended_at          : POSIXct[1:247540], format: \"2021-12-07 15:13:42\" \"2021-12-11 04:10:23\" ...\n",
      " $ start_station_name: chr [1:247540] \"Laflin St & Cullerton St\" \"LaSalle Dr & Huron St\" \"Halsted St & North Branch St\" \"Halsted St & North Branch St\" ...\n",
      " $ start_station_id  : chr [1:247540] \"13307\" \"KP1705001026\" \"KA1504000117\" \"KA1504000117\" ...\n",
      " $ end_station_name  : chr [1:247540] \"Morgan St & Polk St\" \"Clarendon Ave & Leland Ave\" \"Broadway & Barry Ave\" \"LaSalle Dr & Huron St\" ...\n",
      " $ end_station_id    : chr [1:247540] \"TA1307000130\" \"TA1307000119\" \"13137\" \"KP1705001026\" ...\n",
      " $ start_lat         : num [1:247540] 41.9 41.9 41.9 41.9 41.9 ...\n",
      " $ start_lng         : num [1:247540] -87.7 -87.6 -87.6 -87.6 -87.7 ...\n",
      " $ end_lat           : num [1:247540] 41.9 42 41.9 41.9 41.9 ...\n",
      " $ end_lng           : num [1:247540] -87.7 -87.7 -87.6 -87.6 -87.6 ...\n",
      " $ member_casual     : chr [1:247540] \"member\" \"casual\" \"member\" \"member\" ...\n",
      " - attr(*, \"spec\")=\n",
      "  .. cols(\n",
      "  ..   ride_id = \u001b[31mcol_character()\u001b[39m,\n",
      "  ..   rideable_type = \u001b[31mcol_character()\u001b[39m,\n",
      "  ..   started_at = \u001b[34mcol_datetime(format = \"\")\u001b[39m,\n",
      "  ..   ended_at = \u001b[34mcol_datetime(format = \"\")\u001b[39m,\n",
      "  ..   start_station_name = \u001b[31mcol_character()\u001b[39m,\n",
      "  ..   start_station_id = \u001b[31mcol_character()\u001b[39m,\n",
      "  ..   end_station_name = \u001b[31mcol_character()\u001b[39m,\n",
      "  ..   end_station_id = \u001b[31mcol_character()\u001b[39m,\n",
      "  ..   start_lat = \u001b[32mcol_double()\u001b[39m,\n",
      "  ..   start_lng = \u001b[32mcol_double()\u001b[39m,\n",
      "  ..   end_lat = \u001b[32mcol_double()\u001b[39m,\n",
      "  ..   end_lng = \u001b[32mcol_double()\u001b[39m,\n",
      "  ..   member_casual = \u001b[31mcol_character()\u001b[39m\n",
      "  .. )\n",
      " - attr(*, \"problems\")=<externalptr> \n",
      "spec_tbl_df [103,770 × 13] (S3: spec_tbl_df/tbl_df/tbl/data.frame)\n",
      " $ ride_id           : chr [1:103770] \"C2F7DD78E82EC875\" \"A6CF8980A652D272\" \"BD0F91DFF741C66D\" \"CBB80ED419105406\" ...\n",
      " $ rideable_type     : chr [1:103770] \"electric_bike\" \"electric_bike\" \"classic_bike\" \"classic_bike\" ...\n",
      " $ started_at        : POSIXct[1:103770], format: \"2022-01-13 11:59:47\" \"2022-01-10 08:41:56\" ...\n",
      " $ ended_at          : POSIXct[1:103770], format: \"2022-01-13 12:02:44\" \"2022-01-10 08:46:17\" ...\n",
      " $ start_station_name: chr [1:103770] \"Glenwood Ave & Touhy Ave\" \"Glenwood Ave & Touhy Ave\" \"Sheffield Ave & Fullerton Ave\" \"Clark St & Bryn Mawr Ave\" ...\n",
      " $ start_station_id  : chr [1:103770] \"525\" \"525\" \"TA1306000016\" \"KA1504000151\" ...\n",
      " $ end_station_name  : chr [1:103770] \"Clark St & Touhy Ave\" \"Clark St & Touhy Ave\" \"Greenview Ave & Fullerton Ave\" \"Paulina St & Montrose Ave\" ...\n",
      " $ end_station_id    : chr [1:103770] \"RP-007\" \"RP-007\" \"TA1307000001\" \"TA1309000021\" ...\n",
      " $ start_lat         : num [1:103770] 42 42 41.9 42 41.9 ...\n",
      " $ start_lng         : num [1:103770] -87.7 -87.7 -87.7 -87.7 -87.6 ...\n",
      " $ end_lat           : num [1:103770] 42 42 41.9 42 41.9 ...\n",
      " $ end_lng           : num [1:103770] -87.7 -87.7 -87.7 -87.7 -87.6 ...\n",
      " $ member_casual     : chr [1:103770] \"casual\" \"casual\" \"member\" \"casual\" ...\n",
      " - attr(*, \"spec\")=\n",
      "  .. cols(\n",
      "  ..   ride_id = \u001b[31mcol_character()\u001b[39m,\n",
      "  ..   rideable_type = \u001b[31mcol_character()\u001b[39m,\n",
      "  ..   started_at = \u001b[34mcol_datetime(format = \"\")\u001b[39m,\n",
      "  ..   ended_at = \u001b[34mcol_datetime(format = \"\")\u001b[39m,\n",
      "  ..   start_station_name = \u001b[31mcol_character()\u001b[39m,\n",
      "  ..   start_station_id = \u001b[31mcol_character()\u001b[39m,\n",
      "  ..   end_station_name = \u001b[31mcol_character()\u001b[39m,\n",
      "  ..   end_station_id = \u001b[31mcol_character()\u001b[39m,\n",
      "  ..   start_lat = \u001b[32mcol_double()\u001b[39m,\n",
      "  ..   start_lng = \u001b[32mcol_double()\u001b[39m,\n",
      "  ..   end_lat = \u001b[32mcol_double()\u001b[39m,\n",
      "  ..   end_lng = \u001b[32mcol_double()\u001b[39m,\n",
      "  ..   member_casual = \u001b[31mcol_character()\u001b[39m\n",
      "  .. )\n",
      " - attr(*, \"problems\")=<externalptr> \n",
      "spec_tbl_df [115,609 × 13] (S3: spec_tbl_df/tbl_df/tbl/data.frame)\n",
      " $ ride_id           : chr [1:115609] \"E1E065E7ED285C02\" \"1602DCDC5B30FFE3\" \"BE7DD2AF4B55C4AF\" \"A1789BDF844412BE\" ...\n",
      " $ rideable_type     : chr [1:115609] \"classic_bike\" \"classic_bike\" \"classic_bike\" \"classic_bike\" ...\n",
      " $ started_at        : POSIXct[1:115609], format: \"2022-02-19 18:08:41\" \"2022-02-20 17:41:30\" ...\n",
      " $ ended_at          : POSIXct[1:115609], format: \"2022-02-19 18:23:56\" \"2022-02-20 17:45:56\" ...\n",
      " $ start_station_name: chr [1:115609] \"State St & Randolph St\" \"Halsted St & Wrightwood Ave\" \"State St & Randolph St\" \"Southport Ave & Waveland Ave\" ...\n",
      " $ start_station_id  : chr [1:115609] \"TA1305000029\" \"TA1309000061\" \"TA1305000029\" \"13235\" ...\n",
      " $ end_station_name  : chr [1:115609] \"Clark St & Lincoln Ave\" \"Southport Ave & Wrightwood Ave\" \"Canal St & Adams St\" \"Broadway & Sheridan Rd\" ...\n",
      " $ end_station_id    : chr [1:115609] \"13179\" \"TA1307000113\" \"13011\" \"13323\" ...\n",
      " $ start_lat         : num [1:115609] 41.9 41.9 41.9 41.9 41.9 ...\n",
      " $ start_lng         : num [1:115609] -87.6 -87.6 -87.6 -87.7 -87.6 ...\n",
      " $ end_lat           : num [1:115609] 41.9 41.9 41.9 42 41.9 ...\n",
      " $ end_lng           : num [1:115609] -87.6 -87.7 -87.6 -87.6 -87.6 ...\n",
      " $ member_casual     : chr [1:115609] \"member\" \"member\" \"member\" \"member\" ...\n",
      " - attr(*, \"spec\")=\n",
      "  .. cols(\n",
      "  ..   ride_id = \u001b[31mcol_character()\u001b[39m,\n",
      "  ..   rideable_type = \u001b[31mcol_character()\u001b[39m,\n",
      "  ..   started_at = \u001b[34mcol_datetime(format = \"\")\u001b[39m,\n",
      "  ..   ended_at = \u001b[34mcol_datetime(format = \"\")\u001b[39m,\n",
      "  ..   start_station_name = \u001b[31mcol_character()\u001b[39m,\n",
      "  ..   start_station_id = \u001b[31mcol_character()\u001b[39m,\n",
      "  ..   end_station_name = \u001b[31mcol_character()\u001b[39m,\n",
      "  ..   end_station_id = \u001b[31mcol_character()\u001b[39m,\n",
      "  ..   start_lat = \u001b[32mcol_double()\u001b[39m,\n",
      "  ..   start_lng = \u001b[32mcol_double()\u001b[39m,\n",
      "  ..   end_lat = \u001b[32mcol_double()\u001b[39m,\n",
      "  ..   end_lng = \u001b[32mcol_double()\u001b[39m,\n",
      "  ..   member_casual = \u001b[31mcol_character()\u001b[39m\n",
      "  .. )\n",
      " - attr(*, \"problems\")=<externalptr> \n",
      "spec_tbl_df [284,042 × 13] (S3: spec_tbl_df/tbl_df/tbl/data.frame)\n",
      " $ ride_id           : chr [1:284042] \"47EC0A7F82E65D52\" \"8494861979B0F477\" \"EFE527AF80B66109\" \"9F446FD9DEE3F389\" ...\n",
      " $ rideable_type     : chr [1:284042] \"classic_bike\" \"electric_bike\" \"classic_bike\" \"classic_bike\" ...\n",
      " $ started_at        : POSIXct[1:284042], format: \"2022-03-21 13:45:01\" \"2022-03-16 09:37:16\" ...\n",
      " $ ended_at          : POSIXct[1:284042], format: \"2022-03-21 13:51:18\" \"2022-03-16 09:43:34\" ...\n",
      " $ start_station_name: chr [1:284042] \"Wabash Ave & Wacker Pl\" \"Michigan Ave & Oak St\" \"Broadway & Berwyn Ave\" \"Wabash Ave & Wacker Pl\" ...\n",
      " $ start_station_id  : chr [1:284042] \"TA1307000131\" \"13042\" \"13109\" \"TA1307000131\" ...\n",
      " $ end_station_name  : chr [1:284042] \"Kingsbury St & Kinzie St\" \"Orleans St & Chestnut St (NEXT Apts)\" \"Broadway & Ridge Ave\" \"Franklin St & Jackson Blvd\" ...\n",
      " $ end_station_id    : chr [1:284042] \"KA1503000043\" \"620\" \"15578\" \"TA1305000025\" ...\n",
      " $ start_lat         : num [1:284042] 41.9 41.9 42 41.9 41.9 ...\n",
      " $ start_lng         : num [1:284042] -87.6 -87.6 -87.7 -87.6 -87.6 ...\n",
      " $ end_lat           : num [1:284042] 41.9 41.9 42 41.9 41.9 ...\n",
      " $ end_lng           : num [1:284042] -87.6 -87.6 -87.7 -87.6 -87.7 ...\n",
      " $ member_casual     : chr [1:284042] \"member\" \"member\" \"member\" \"member\" ...\n",
      " - attr(*, \"spec\")=\n",
      "  .. cols(\n",
      "  ..   ride_id = \u001b[31mcol_character()\u001b[39m,\n",
      "  ..   rideable_type = \u001b[31mcol_character()\u001b[39m,\n",
      "  ..   started_at = \u001b[34mcol_datetime(format = \"\")\u001b[39m,\n",
      "  ..   ended_at = \u001b[34mcol_datetime(format = \"\")\u001b[39m,\n",
      "  ..   start_station_name = \u001b[31mcol_character()\u001b[39m,\n",
      "  ..   start_station_id = \u001b[31mcol_character()\u001b[39m,\n",
      "  ..   end_station_name = \u001b[31mcol_character()\u001b[39m,\n",
      "  ..   end_station_id = \u001b[31mcol_character()\u001b[39m,\n",
      "  ..   start_lat = \u001b[32mcol_double()\u001b[39m,\n",
      "  ..   start_lng = \u001b[32mcol_double()\u001b[39m,\n",
      "  ..   end_lat = \u001b[32mcol_double()\u001b[39m,\n",
      "  ..   end_lng = \u001b[32mcol_double()\u001b[39m,\n",
      "  ..   member_casual = \u001b[31mcol_character()\u001b[39m\n",
      "  .. )\n",
      " - attr(*, \"problems\")=<externalptr> \n",
      "spec_tbl_df [371,249 × 13] (S3: spec_tbl_df/tbl_df/tbl/data.frame)\n",
      " $ ride_id           : chr [1:371249] \"3564070EEFD12711\" \"0B820C7FCF22F489\" \"89EEEE32293F07FF\" \"84D4751AEB31888D\" ...\n",
      " $ rideable_type     : chr [1:371249] \"electric_bike\" \"classic_bike\" \"classic_bike\" \"classic_bike\" ...\n",
      " $ started_at        : POSIXct[1:371249], format: \"2022-04-06 17:42:48\" \"2022-04-24 19:23:07\" ...\n",
      " $ ended_at          : POSIXct[1:371249], format: \"2022-04-06 17:54:36\" \"2022-04-24 19:43:17\" ...\n",
      " $ start_station_name: chr [1:371249] \"Paulina St & Howard St\" \"Wentworth Ave & Cermak Rd\" \"Halsted St & Polk St\" \"Wentworth Ave & Cermak Rd\" ...\n",
      " $ start_station_id  : chr [1:371249] \"515\" \"13075\" \"TA1307000121\" \"13075\" ...\n",
      " $ end_station_name  : chr [1:371249] \"University Library (NU)\" \"Green St & Madison St\" \"Green St & Madison St\" \"Delano Ct & Roosevelt Rd\" ...\n",
      " $ end_station_id    : chr [1:371249] \"605\" \"TA1307000120\" \"TA1307000120\" \"KA1706005007\" ...\n",
      " $ start_lat         : num [1:371249] 42 41.9 41.9 41.9 41.9 ...\n",
      " $ start_lng         : num [1:371249] -87.7 -87.6 -87.6 -87.6 -87.6 ...\n",
      " $ end_lat           : num [1:371249] 42.1 41.9 41.9 41.9 41.9 ...\n",
      " $ end_lng           : num [1:371249] -87.7 -87.6 -87.6 -87.6 -87.6 ...\n",
      " $ member_casual     : chr [1:371249] \"member\" \"member\" \"member\" \"casual\" ...\n",
      " - attr(*, \"spec\")=\n",
      "  .. cols(\n",
      "  ..   ride_id = \u001b[31mcol_character()\u001b[39m,\n",
      "  ..   rideable_type = \u001b[31mcol_character()\u001b[39m,\n",
      "  ..   started_at = \u001b[34mcol_datetime(format = \"\")\u001b[39m,\n",
      "  ..   ended_at = \u001b[34mcol_datetime(format = \"\")\u001b[39m,\n",
      "  ..   start_station_name = \u001b[31mcol_character()\u001b[39m,\n",
      "  ..   start_station_id = \u001b[31mcol_character()\u001b[39m,\n",
      "  ..   end_station_name = \u001b[31mcol_character()\u001b[39m,\n",
      "  ..   end_station_id = \u001b[31mcol_character()\u001b[39m,\n",
      "  ..   start_lat = \u001b[32mcol_double()\u001b[39m,\n",
      "  ..   start_lng = \u001b[32mcol_double()\u001b[39m,\n",
      "  ..   end_lat = \u001b[32mcol_double()\u001b[39m,\n",
      "  ..   end_lng = \u001b[32mcol_double()\u001b[39m,\n",
      "  ..   member_casual = \u001b[31mcol_character()\u001b[39m\n",
      "  .. )\n",
      " - attr(*, \"problems\")=<externalptr> \n",
      "spec_tbl_df [634,858 × 13] (S3: spec_tbl_df/tbl_df/tbl/data.frame)\n",
      " $ ride_id           : chr [1:634858] \"EC2DE40644C6B0F4\" \"1C31AD03897EE385\" \"1542FBEC830415CF\" \"6FF59852924528F8\" ...\n",
      " $ rideable_type     : chr [1:634858] \"classic_bike\" \"classic_bike\" \"classic_bike\" \"classic_bike\" ...\n",
      " $ started_at        : POSIXct[1:634858], format: \"2022-05-23 23:06:58\" \"2022-05-11 08:53:28\" ...\n",
      " $ ended_at          : POSIXct[1:634858], format: \"2022-05-23 23:40:19\" \"2022-05-11 09:31:22\" ...\n",
      " $ start_station_name: chr [1:634858] \"Wabash Ave & Grand Ave\" \"DuSable Lake Shore Dr & Monroe St\" \"Clinton St & Madison St\" \"Clinton St & Madison St\" ...\n",
      " $ start_station_id  : chr [1:634858] \"TA1307000117\" \"13300\" \"TA1305000032\" \"TA1305000032\" ...\n",
      " $ end_station_name  : chr [1:634858] \"Halsted St & Roscoe St\" \"Field Blvd & South Water St\" \"Wood St & Milwaukee Ave\" \"Clark St & Randolph St\" ...\n",
      " $ end_station_id    : chr [1:634858] \"TA1309000025\" \"15534\" \"13221\" \"TA1305000030\" ...\n",
      " $ start_lat         : num [1:634858] 41.9 41.9 41.9 41.9 41.9 ...\n",
      " $ start_lng         : num [1:634858] -87.6 -87.6 -87.6 -87.6 -87.6 ...\n",
      " $ end_lat           : num [1:634858] 41.9 41.9 41.9 41.9 41.9 ...\n",
      " $ end_lng           : num [1:634858] -87.6 -87.6 -87.7 -87.6 -87.7 ...\n",
      " $ member_casual     : chr [1:634858] \"member\" \"member\" \"member\" \"member\" ...\n",
      " - attr(*, \"spec\")=\n",
      "  .. cols(\n",
      "  ..   ride_id = \u001b[31mcol_character()\u001b[39m,\n",
      "  ..   rideable_type = \u001b[31mcol_character()\u001b[39m,\n",
      "  ..   started_at = \u001b[34mcol_datetime(format = \"\")\u001b[39m,\n",
      "  ..   ended_at = \u001b[34mcol_datetime(format = \"\")\u001b[39m,\n",
      "  ..   start_station_name = \u001b[31mcol_character()\u001b[39m,\n",
      "  ..   start_station_id = \u001b[31mcol_character()\u001b[39m,\n",
      "  ..   end_station_name = \u001b[31mcol_character()\u001b[39m,\n",
      "  ..   end_station_id = \u001b[31mcol_character()\u001b[39m,\n",
      "  ..   start_lat = \u001b[32mcol_double()\u001b[39m,\n",
      "  ..   start_lng = \u001b[32mcol_double()\u001b[39m,\n",
      "  ..   end_lat = \u001b[32mcol_double()\u001b[39m,\n",
      "  ..   end_lng = \u001b[32mcol_double()\u001b[39m,\n",
      "  ..   member_casual = \u001b[31mcol_character()\u001b[39m\n",
      "  .. )\n",
      " - attr(*, \"problems\")=<externalptr> \n"
     ]
    }
   ],
   "source": [
    "str(tripdata_202106)\n",
    "str(tripdata_202107)\n",
    "str(tripdata_202108)\n",
    "str(tripdata_202109)\n",
    "str(tripdata_202110)\n",
    "str(tripdata_202111)\n",
    "str(tripdata_202112)\n",
    "str(tripdata_202201)\n",
    "str(tripdata_202202)\n",
    "str(tripdata_202203)\n",
    "str(tripdata_202204)\n",
    "str(tripdata_202205)"
   ]
  },
  {
   "cell_type": "markdown",
   "metadata": {},
   "source": [
    "The outputs show that all data type match.  \n",
    "\n",
    "### Stack individual montly data into one big data frame for processing"
   ]
  },
  {
   "cell_type": "code",
   "execution_count": 6,
   "metadata": {
    "execution": {
     "iopub.execute_input": "2022-07-16T05:35:50.089997Z",
     "iopub.status.busy": "2022-07-16T05:35:50.088706Z",
     "iopub.status.idle": "2022-07-16T05:35:56.572980Z"
    }
   },
   "outputs": [],
   "source": [
    "all_trips <- bind_rows(tripdata_202106,tripdata_202107,tripdata_202108,tripdata_202109,tripdata_202110,tripdata_202111,tripdata_202112,tripdata_202201,tripdata_202202,tripdata_202203,tripdata_202204,tripdata_202205)"
   ]
  },
  {
   "cell_type": "markdown",
   "metadata": {},
   "source": [
    "## ***Process*** \n",
    "### Inspect the new table that has been created"
   ]
  },
  {
   "cell_type": "code",
   "execution_count": 7,
   "metadata": {
    "execution": {
     "iopub.execute_input": "2022-07-16T05:35:56.578184Z",
     "iopub.status.busy": "2022-07-16T05:35:56.576563Z",
     "iopub.status.idle": "2022-07-16T05:36:49.418500Z"
    }
   },
   "outputs": [
    {
     "data": {
      "text/html": [
       "<style>\n",
       ".list-inline {list-style: none; margin:0; padding: 0}\n",
       ".list-inline>li {display: inline-block}\n",
       ".list-inline>li:not(:last-child)::after {content: \"\\00b7\"; padding: 0 .5ex}\n",
       "</style>\n",
       "<ol class=list-inline><li>'ride_id'</li><li>'rideable_type'</li><li>'started_at'</li><li>'ended_at'</li><li>'start_station_name'</li><li>'start_station_id'</li><li>'end_station_name'</li><li>'end_station_id'</li><li>'start_lat'</li><li>'start_lng'</li><li>'end_lat'</li><li>'end_lng'</li><li>'member_casual'</li></ol>\n"
      ],
      "text/latex": [
       "\\begin{enumerate*}\n",
       "\\item 'ride\\_id'\n",
       "\\item 'rideable\\_type'\n",
       "\\item 'started\\_at'\n",
       "\\item 'ended\\_at'\n",
       "\\item 'start\\_station\\_name'\n",
       "\\item 'start\\_station\\_id'\n",
       "\\item 'end\\_station\\_name'\n",
       "\\item 'end\\_station\\_id'\n",
       "\\item 'start\\_lat'\n",
       "\\item 'start\\_lng'\n",
       "\\item 'end\\_lat'\n",
       "\\item 'end\\_lng'\n",
       "\\item 'member\\_casual'\n",
       "\\end{enumerate*}\n"
      ],
      "text/markdown": [
       "1. 'ride_id'\n",
       "2. 'rideable_type'\n",
       "3. 'started_at'\n",
       "4. 'ended_at'\n",
       "5. 'start_station_name'\n",
       "6. 'start_station_id'\n",
       "7. 'end_station_name'\n",
       "8. 'end_station_id'\n",
       "9. 'start_lat'\n",
       "10. 'start_lng'\n",
       "11. 'end_lat'\n",
       "12. 'end_lng'\n",
       "13. 'member_casual'\n",
       "\n",
       "\n"
      ],
      "text/plain": [
       " [1] \"ride_id\"            \"rideable_type\"      \"started_at\"        \n",
       " [4] \"ended_at\"           \"start_station_name\" \"start_station_id\"  \n",
       " [7] \"end_station_name\"   \"end_station_id\"     \"start_lat\"         \n",
       "[10] \"start_lng\"          \"end_lat\"            \"end_lng\"           \n",
       "[13] \"member_casual\"     "
      ]
     },
     "metadata": {},
     "output_type": "display_data"
    },
    {
     "data": {
      "text/html": [
       "5860776"
      ],
      "text/latex": [
       "5860776"
      ],
      "text/markdown": [
       "5860776"
      ],
      "text/plain": [
       "[1] 5860776"
      ]
     },
     "metadata": {},
     "output_type": "display_data"
    },
    {
     "data": {
      "text/html": [
       "<style>\n",
       ".list-inline {list-style: none; margin:0; padding: 0}\n",
       ".list-inline>li {display: inline-block}\n",
       ".list-inline>li:not(:last-child)::after {content: \"\\00b7\"; padding: 0 .5ex}\n",
       "</style>\n",
       "<ol class=list-inline><li>5860776</li><li>13</li></ol>\n"
      ],
      "text/latex": [
       "\\begin{enumerate*}\n",
       "\\item 5860776\n",
       "\\item 13\n",
       "\\end{enumerate*}\n"
      ],
      "text/markdown": [
       "1. 5860776\n",
       "2. 13\n",
       "\n",
       "\n"
      ],
      "text/plain": [
       "[1] 5860776      13"
      ]
     },
     "metadata": {},
     "output_type": "display_data"
    },
    {
     "data": {
      "text/html": [
       "<table class=\"dataframe\">\n",
       "<caption>A tibble: 6 × 13</caption>\n",
       "<thead>\n",
       "\t<tr><th scope=col>ride_id</th><th scope=col>rideable_type</th><th scope=col>started_at</th><th scope=col>ended_at</th><th scope=col>start_station_name</th><th scope=col>start_station_id</th><th scope=col>end_station_name</th><th scope=col>end_station_id</th><th scope=col>start_lat</th><th scope=col>start_lng</th><th scope=col>end_lat</th><th scope=col>end_lng</th><th scope=col>member_casual</th></tr>\n",
       "\t<tr><th scope=col>&lt;chr&gt;</th><th scope=col>&lt;chr&gt;</th><th scope=col>&lt;dttm&gt;</th><th scope=col>&lt;dttm&gt;</th><th scope=col>&lt;chr&gt;</th><th scope=col>&lt;chr&gt;</th><th scope=col>&lt;chr&gt;</th><th scope=col>&lt;chr&gt;</th><th scope=col>&lt;dbl&gt;</th><th scope=col>&lt;dbl&gt;</th><th scope=col>&lt;dbl&gt;</th><th scope=col>&lt;dbl&gt;</th><th scope=col>&lt;chr&gt;</th></tr>\n",
       "</thead>\n",
       "<tbody>\n",
       "\t<tr><td>99FEC93BA843FB20</td><td>electric_bike</td><td>2021-06-13 14:31:28</td><td>2021-06-13 14:34:11</td><td>NA</td><td>NA</td><td>NA</td><td>NA</td><td>41.80</td><td>-87.59</td><td>41.80</td><td>-87.60</td><td>member</td></tr>\n",
       "\t<tr><td>06048DCFC8520CAF</td><td>electric_bike</td><td>2021-06-04 11:18:02</td><td>2021-06-04 11:24:19</td><td>NA</td><td>NA</td><td>NA</td><td>NA</td><td>41.79</td><td>-87.59</td><td>41.80</td><td>-87.60</td><td>member</td></tr>\n",
       "\t<tr><td>9598066F68045DF2</td><td>electric_bike</td><td>2021-06-04 09:49:35</td><td>2021-06-04 09:55:34</td><td>NA</td><td>NA</td><td>NA</td><td>NA</td><td>41.80</td><td>-87.60</td><td>41.79</td><td>-87.59</td><td>member</td></tr>\n",
       "\t<tr><td>B03C0FE48C412214</td><td>electric_bike</td><td>2021-06-03 19:56:05</td><td>2021-06-03 20:21:55</td><td>NA</td><td>NA</td><td>NA</td><td>NA</td><td>41.78</td><td>-87.58</td><td>41.80</td><td>-87.60</td><td>member</td></tr>\n",
       "\t<tr><td>B9EEA89F8FEE73B7</td><td>electric_bike</td><td>2021-06-04 14:05:51</td><td>2021-06-04 14:09:59</td><td>NA</td><td>NA</td><td>NA</td><td>NA</td><td>41.80</td><td>-87.59</td><td>41.79</td><td>-87.59</td><td>member</td></tr>\n",
       "\t<tr><td>62B943CEAAA420BA</td><td>electric_bike</td><td>2021-06-03 19:32:01</td><td>2021-06-03 19:38:46</td><td>NA</td><td>NA</td><td>NA</td><td>NA</td><td>41.78</td><td>-87.58</td><td>41.78</td><td>-87.58</td><td>member</td></tr>\n",
       "</tbody>\n",
       "</table>\n"
      ],
      "text/latex": [
       "A tibble: 6 × 13\n",
       "\\begin{tabular}{lllllllllllll}\n",
       " ride\\_id & rideable\\_type & started\\_at & ended\\_at & start\\_station\\_name & start\\_station\\_id & end\\_station\\_name & end\\_station\\_id & start\\_lat & start\\_lng & end\\_lat & end\\_lng & member\\_casual\\\\\n",
       " <chr> & <chr> & <dttm> & <dttm> & <chr> & <chr> & <chr> & <chr> & <dbl> & <dbl> & <dbl> & <dbl> & <chr>\\\\\n",
       "\\hline\n",
       "\t 99FEC93BA843FB20 & electric\\_bike & 2021-06-13 14:31:28 & 2021-06-13 14:34:11 & NA & NA & NA & NA & 41.80 & -87.59 & 41.80 & -87.60 & member\\\\\n",
       "\t 06048DCFC8520CAF & electric\\_bike & 2021-06-04 11:18:02 & 2021-06-04 11:24:19 & NA & NA & NA & NA & 41.79 & -87.59 & 41.80 & -87.60 & member\\\\\n",
       "\t 9598066F68045DF2 & electric\\_bike & 2021-06-04 09:49:35 & 2021-06-04 09:55:34 & NA & NA & NA & NA & 41.80 & -87.60 & 41.79 & -87.59 & member\\\\\n",
       "\t B03C0FE48C412214 & electric\\_bike & 2021-06-03 19:56:05 & 2021-06-03 20:21:55 & NA & NA & NA & NA & 41.78 & -87.58 & 41.80 & -87.60 & member\\\\\n",
       "\t B9EEA89F8FEE73B7 & electric\\_bike & 2021-06-04 14:05:51 & 2021-06-04 14:09:59 & NA & NA & NA & NA & 41.80 & -87.59 & 41.79 & -87.59 & member\\\\\n",
       "\t 62B943CEAAA420BA & electric\\_bike & 2021-06-03 19:32:01 & 2021-06-03 19:38:46 & NA & NA & NA & NA & 41.78 & -87.58 & 41.78 & -87.58 & member\\\\\n",
       "\\end{tabular}\n"
      ],
      "text/markdown": [
       "\n",
       "A tibble: 6 × 13\n",
       "\n",
       "| ride_id &lt;chr&gt; | rideable_type &lt;chr&gt; | started_at &lt;dttm&gt; | ended_at &lt;dttm&gt; | start_station_name &lt;chr&gt; | start_station_id &lt;chr&gt; | end_station_name &lt;chr&gt; | end_station_id &lt;chr&gt; | start_lat &lt;dbl&gt; | start_lng &lt;dbl&gt; | end_lat &lt;dbl&gt; | end_lng &lt;dbl&gt; | member_casual &lt;chr&gt; |\n",
       "|---|---|---|---|---|---|---|---|---|---|---|---|---|\n",
       "| 99FEC93BA843FB20 | electric_bike | 2021-06-13 14:31:28 | 2021-06-13 14:34:11 | NA | NA | NA | NA | 41.80 | -87.59 | 41.80 | -87.60 | member |\n",
       "| 06048DCFC8520CAF | electric_bike | 2021-06-04 11:18:02 | 2021-06-04 11:24:19 | NA | NA | NA | NA | 41.79 | -87.59 | 41.80 | -87.60 | member |\n",
       "| 9598066F68045DF2 | electric_bike | 2021-06-04 09:49:35 | 2021-06-04 09:55:34 | NA | NA | NA | NA | 41.80 | -87.60 | 41.79 | -87.59 | member |\n",
       "| B03C0FE48C412214 | electric_bike | 2021-06-03 19:56:05 | 2021-06-03 20:21:55 | NA | NA | NA | NA | 41.78 | -87.58 | 41.80 | -87.60 | member |\n",
       "| B9EEA89F8FEE73B7 | electric_bike | 2021-06-04 14:05:51 | 2021-06-04 14:09:59 | NA | NA | NA | NA | 41.80 | -87.59 | 41.79 | -87.59 | member |\n",
       "| 62B943CEAAA420BA | electric_bike | 2021-06-03 19:32:01 | 2021-06-03 19:38:46 | NA | NA | NA | NA | 41.78 | -87.58 | 41.78 | -87.58 | member |\n",
       "\n"
      ],
      "text/plain": [
       "  ride_id          rideable_type started_at          ended_at           \n",
       "1 99FEC93BA843FB20 electric_bike 2021-06-13 14:31:28 2021-06-13 14:34:11\n",
       "2 06048DCFC8520CAF electric_bike 2021-06-04 11:18:02 2021-06-04 11:24:19\n",
       "3 9598066F68045DF2 electric_bike 2021-06-04 09:49:35 2021-06-04 09:55:34\n",
       "4 B03C0FE48C412214 electric_bike 2021-06-03 19:56:05 2021-06-03 20:21:55\n",
       "5 B9EEA89F8FEE73B7 electric_bike 2021-06-04 14:05:51 2021-06-04 14:09:59\n",
       "6 62B943CEAAA420BA electric_bike 2021-06-03 19:32:01 2021-06-03 19:38:46\n",
       "  start_station_name start_station_id end_station_name end_station_id start_lat\n",
       "1 NA                 NA               NA               NA             41.80    \n",
       "2 NA                 NA               NA               NA             41.79    \n",
       "3 NA                 NA               NA               NA             41.80    \n",
       "4 NA                 NA               NA               NA             41.78    \n",
       "5 NA                 NA               NA               NA             41.80    \n",
       "6 NA                 NA               NA               NA             41.78    \n",
       "  start_lng end_lat end_lng member_casual\n",
       "1 -87.59    41.80   -87.60  member       \n",
       "2 -87.59    41.80   -87.60  member       \n",
       "3 -87.60    41.79   -87.59  member       \n",
       "4 -87.58    41.80   -87.60  member       \n",
       "5 -87.59    41.79   -87.59  member       \n",
       "6 -87.58    41.78   -87.58  member       "
      ]
     },
     "metadata": {},
     "output_type": "display_data"
    },
    {
     "data": {
      "text/html": [
       "<table class=\"dataframe\">\n",
       "<caption>A tibble: 6 × 13</caption>\n",
       "<thead>\n",
       "\t<tr><th scope=col>ride_id</th><th scope=col>rideable_type</th><th scope=col>started_at</th><th scope=col>ended_at</th><th scope=col>start_station_name</th><th scope=col>start_station_id</th><th scope=col>end_station_name</th><th scope=col>end_station_id</th><th scope=col>start_lat</th><th scope=col>start_lng</th><th scope=col>end_lat</th><th scope=col>end_lng</th><th scope=col>member_casual</th></tr>\n",
       "\t<tr><th scope=col>&lt;chr&gt;</th><th scope=col>&lt;chr&gt;</th><th scope=col>&lt;dttm&gt;</th><th scope=col>&lt;dttm&gt;</th><th scope=col>&lt;chr&gt;</th><th scope=col>&lt;chr&gt;</th><th scope=col>&lt;chr&gt;</th><th scope=col>&lt;chr&gt;</th><th scope=col>&lt;dbl&gt;</th><th scope=col>&lt;dbl&gt;</th><th scope=col>&lt;dbl&gt;</th><th scope=col>&lt;dbl&gt;</th><th scope=col>&lt;chr&gt;</th></tr>\n",
       "</thead>\n",
       "<tbody>\n",
       "\t<tr><td>284843EC9F8C5663</td><td>classic_bike </td><td>2022-05-30 18:34:44</td><td>2022-05-31 19:34:35</td><td><span style=white-space:pre-wrap>Ashland Ave &amp; Lake St           </span></td><td>13073</td><td>NA</td><td>NA</td><td>41.88592</td><td>-87.66717</td><td><span style=white-space:pre-wrap>   NA</span></td><td><span style=white-space:pre-wrap>    NA</span></td><td>casual</td></tr>\n",
       "\t<tr><td>8891BA0053ECEC4F</td><td>electric_bike</td><td>2022-05-27 22:00:02</td><td>2022-05-27 22:07:01</td><td><span style=white-space:pre-wrap>Clark St &amp; Newport St           </span></td><td><span style=white-space:pre-wrap>632  </span></td><td>NA</td><td>NA</td><td>41.94456</td><td>-87.65483</td><td>41.92</td><td>-87.65</td><td>member</td></tr>\n",
       "\t<tr><td>47D8B5FBCADECFC1</td><td>electric_bike</td><td>2022-05-15 16:05:39</td><td>2022-05-15 16:44:12</td><td><span style=white-space:pre-wrap>Clark St &amp; Newport St           </span></td><td><span style=white-space:pre-wrap>632  </span></td><td>NA</td><td>NA</td><td>41.94448</td><td>-87.65476</td><td>41.92</td><td>-87.76</td><td>member</td></tr>\n",
       "\t<tr><td>AA8D16CF38B40703</td><td>electric_bike</td><td>2022-05-21 10:10:13</td><td>2022-05-21 10:26:09</td><td>Francisco Ave &amp; Bloomingdale Ave</td><td><span style=white-space:pre-wrap>429  </span></td><td>NA</td><td>NA</td><td>41.91000</td><td>-87.70000</td><td>41.92</td><td>-87.66</td><td>casual</td></tr>\n",
       "\t<tr><td>897EBFD44F329E0A</td><td>electric_bike</td><td>2022-05-12 07:53:58</td><td>2022-05-12 08:01:18</td><td>Francisco Ave &amp; Bloomingdale Ave</td><td><span style=white-space:pre-wrap>429  </span></td><td>NA</td><td>NA</td><td>41.91000</td><td>-87.70000</td><td>41.90</td><td>-87.69</td><td>member</td></tr>\n",
       "\t<tr><td>AAC23AB89E8A7733</td><td>electric_bike</td><td>2022-05-11 21:14:28</td><td>2022-05-11 21:18:16</td><td><span style=white-space:pre-wrap>Clark St &amp; Newport St           </span></td><td><span style=white-space:pre-wrap>632  </span></td><td>NA</td><td>NA</td><td>41.94457</td><td>-87.65480</td><td>41.94</td><td>-87.65</td><td>member</td></tr>\n",
       "</tbody>\n",
       "</table>\n"
      ],
      "text/latex": [
       "A tibble: 6 × 13\n",
       "\\begin{tabular}{lllllllllllll}\n",
       " ride\\_id & rideable\\_type & started\\_at & ended\\_at & start\\_station\\_name & start\\_station\\_id & end\\_station\\_name & end\\_station\\_id & start\\_lat & start\\_lng & end\\_lat & end\\_lng & member\\_casual\\\\\n",
       " <chr> & <chr> & <dttm> & <dttm> & <chr> & <chr> & <chr> & <chr> & <dbl> & <dbl> & <dbl> & <dbl> & <chr>\\\\\n",
       "\\hline\n",
       "\t 284843EC9F8C5663 & classic\\_bike  & 2022-05-30 18:34:44 & 2022-05-31 19:34:35 & Ashland Ave \\& Lake St            & 13073 & NA & NA & 41.88592 & -87.66717 &    NA &     NA & casual\\\\\n",
       "\t 8891BA0053ECEC4F & electric\\_bike & 2022-05-27 22:00:02 & 2022-05-27 22:07:01 & Clark St \\& Newport St            & 632   & NA & NA & 41.94456 & -87.65483 & 41.92 & -87.65 & member\\\\\n",
       "\t 47D8B5FBCADECFC1 & electric\\_bike & 2022-05-15 16:05:39 & 2022-05-15 16:44:12 & Clark St \\& Newport St            & 632   & NA & NA & 41.94448 & -87.65476 & 41.92 & -87.76 & member\\\\\n",
       "\t AA8D16CF38B40703 & electric\\_bike & 2022-05-21 10:10:13 & 2022-05-21 10:26:09 & Francisco Ave \\& Bloomingdale Ave & 429   & NA & NA & 41.91000 & -87.70000 & 41.92 & -87.66 & casual\\\\\n",
       "\t 897EBFD44F329E0A & electric\\_bike & 2022-05-12 07:53:58 & 2022-05-12 08:01:18 & Francisco Ave \\& Bloomingdale Ave & 429   & NA & NA & 41.91000 & -87.70000 & 41.90 & -87.69 & member\\\\\n",
       "\t AAC23AB89E8A7733 & electric\\_bike & 2022-05-11 21:14:28 & 2022-05-11 21:18:16 & Clark St \\& Newport St            & 632   & NA & NA & 41.94457 & -87.65480 & 41.94 & -87.65 & member\\\\\n",
       "\\end{tabular}\n"
      ],
      "text/markdown": [
       "\n",
       "A tibble: 6 × 13\n",
       "\n",
       "| ride_id &lt;chr&gt; | rideable_type &lt;chr&gt; | started_at &lt;dttm&gt; | ended_at &lt;dttm&gt; | start_station_name &lt;chr&gt; | start_station_id &lt;chr&gt; | end_station_name &lt;chr&gt; | end_station_id &lt;chr&gt; | start_lat &lt;dbl&gt; | start_lng &lt;dbl&gt; | end_lat &lt;dbl&gt; | end_lng &lt;dbl&gt; | member_casual &lt;chr&gt; |\n",
       "|---|---|---|---|---|---|---|---|---|---|---|---|---|\n",
       "| 284843EC9F8C5663 | classic_bike  | 2022-05-30 18:34:44 | 2022-05-31 19:34:35 | Ashland Ave &amp; Lake St            | 13073 | NA | NA | 41.88592 | -87.66717 |    NA |     NA | casual |\n",
       "| 8891BA0053ECEC4F | electric_bike | 2022-05-27 22:00:02 | 2022-05-27 22:07:01 | Clark St &amp; Newport St            | 632   | NA | NA | 41.94456 | -87.65483 | 41.92 | -87.65 | member |\n",
       "| 47D8B5FBCADECFC1 | electric_bike | 2022-05-15 16:05:39 | 2022-05-15 16:44:12 | Clark St &amp; Newport St            | 632   | NA | NA | 41.94448 | -87.65476 | 41.92 | -87.76 | member |\n",
       "| AA8D16CF38B40703 | electric_bike | 2022-05-21 10:10:13 | 2022-05-21 10:26:09 | Francisco Ave &amp; Bloomingdale Ave | 429   | NA | NA | 41.91000 | -87.70000 | 41.92 | -87.66 | casual |\n",
       "| 897EBFD44F329E0A | electric_bike | 2022-05-12 07:53:58 | 2022-05-12 08:01:18 | Francisco Ave &amp; Bloomingdale Ave | 429   | NA | NA | 41.91000 | -87.70000 | 41.90 | -87.69 | member |\n",
       "| AAC23AB89E8A7733 | electric_bike | 2022-05-11 21:14:28 | 2022-05-11 21:18:16 | Clark St &amp; Newport St            | 632   | NA | NA | 41.94457 | -87.65480 | 41.94 | -87.65 | member |\n",
       "\n"
      ],
      "text/plain": [
       "  ride_id          rideable_type started_at          ended_at           \n",
       "1 284843EC9F8C5663 classic_bike  2022-05-30 18:34:44 2022-05-31 19:34:35\n",
       "2 8891BA0053ECEC4F electric_bike 2022-05-27 22:00:02 2022-05-27 22:07:01\n",
       "3 47D8B5FBCADECFC1 electric_bike 2022-05-15 16:05:39 2022-05-15 16:44:12\n",
       "4 AA8D16CF38B40703 electric_bike 2022-05-21 10:10:13 2022-05-21 10:26:09\n",
       "5 897EBFD44F329E0A electric_bike 2022-05-12 07:53:58 2022-05-12 08:01:18\n",
       "6 AAC23AB89E8A7733 electric_bike 2022-05-11 21:14:28 2022-05-11 21:18:16\n",
       "  start_station_name               start_station_id end_station_name\n",
       "1 Ashland Ave & Lake St            13073            NA              \n",
       "2 Clark St & Newport St            632              NA              \n",
       "3 Clark St & Newport St            632              NA              \n",
       "4 Francisco Ave & Bloomingdale Ave 429              NA              \n",
       "5 Francisco Ave & Bloomingdale Ave 429              NA              \n",
       "6 Clark St & Newport St            632              NA              \n",
       "  end_station_id start_lat start_lng end_lat end_lng member_casual\n",
       "1 NA             41.88592  -87.66717    NA       NA  casual       \n",
       "2 NA             41.94456  -87.65483 41.92   -87.65  member       \n",
       "3 NA             41.94448  -87.65476 41.92   -87.76  member       \n",
       "4 NA             41.91000  -87.70000 41.92   -87.66  casual       \n",
       "5 NA             41.91000  -87.70000 41.90   -87.69  member       \n",
       "6 NA             41.94457  -87.65480 41.94   -87.65  member       "
      ]
     },
     "metadata": {},
     "output_type": "display_data"
    },
    {
     "name": "stdout",
     "output_type": "stream",
     "text": [
      "spec_tbl_df [5,860,776 × 13] (S3: spec_tbl_df/tbl_df/tbl/data.frame)\n",
      " $ ride_id           : chr [1:5860776] \"99FEC93BA843FB20\" \"06048DCFC8520CAF\" \"9598066F68045DF2\" \"B03C0FE48C412214\" ...\n",
      " $ rideable_type     : chr [1:5860776] \"electric_bike\" \"electric_bike\" \"electric_bike\" \"electric_bike\" ...\n",
      " $ started_at        : POSIXct[1:5860776], format: \"2021-06-13 14:31:28\" \"2021-06-04 11:18:02\" ...\n",
      " $ ended_at          : POSIXct[1:5860776], format: \"2021-06-13 14:34:11\" \"2021-06-04 11:24:19\" ...\n",
      " $ start_station_name: chr [1:5860776] NA NA NA NA ...\n",
      " $ start_station_id  : chr [1:5860776] NA NA NA NA ...\n",
      " $ end_station_name  : chr [1:5860776] NA NA NA NA ...\n",
      " $ end_station_id    : chr [1:5860776] NA NA NA NA ...\n",
      " $ start_lat         : num [1:5860776] 41.8 41.8 41.8 41.8 41.8 ...\n",
      " $ start_lng         : num [1:5860776] -87.6 -87.6 -87.6 -87.6 -87.6 ...\n",
      " $ end_lat           : num [1:5860776] 41.8 41.8 41.8 41.8 41.8 ...\n",
      " $ end_lng           : num [1:5860776] -87.6 -87.6 -87.6 -87.6 -87.6 ...\n",
      " $ member_casual     : chr [1:5860776] \"member\" \"member\" \"member\" \"member\" ...\n",
      " - attr(*, \"spec\")=\n",
      "  .. cols(\n",
      "  ..   ride_id = \u001b[31mcol_character()\u001b[39m,\n",
      "  ..   rideable_type = \u001b[31mcol_character()\u001b[39m,\n",
      "  ..   started_at = \u001b[34mcol_datetime(format = \"\")\u001b[39m,\n",
      "  ..   ended_at = \u001b[34mcol_datetime(format = \"\")\u001b[39m,\n",
      "  ..   start_station_name = \u001b[31mcol_character()\u001b[39m,\n",
      "  ..   start_station_id = \u001b[31mcol_character()\u001b[39m,\n",
      "  ..   end_station_name = \u001b[31mcol_character()\u001b[39m,\n",
      "  ..   end_station_id = \u001b[31mcol_character()\u001b[39m,\n",
      "  ..   start_lat = \u001b[32mcol_double()\u001b[39m,\n",
      "  ..   start_lng = \u001b[32mcol_double()\u001b[39m,\n",
      "  ..   end_lat = \u001b[32mcol_double()\u001b[39m,\n",
      "  ..   end_lng = \u001b[32mcol_double()\u001b[39m,\n",
      "  ..   member_casual = \u001b[31mcol_character()\u001b[39m\n",
      "  .. )\n",
      " - attr(*, \"problems\")=<externalptr> \n"
     ]
    },
    {
     "data": {
      "text/plain": [
       "   ride_id          rideable_type        started_at                 \n",
       " Length:5860776     Length:5860776     Min.   :2021-06-01 00:00:38  \n",
       " Class :character   Class :character   1st Qu.:2021-07-29 10:43:32  \n",
       " Mode  :character   Mode  :character   Median :2021-09-23 17:33:23  \n",
       "                                       Mean   :2021-10-26 03:44:54  \n",
       "                                       3rd Qu.:2022-01-14 10:59:12  \n",
       "                                       Max.   :2022-05-31 23:59:56  \n",
       "                                                                    \n",
       "    ended_at                   start_station_name start_station_id  \n",
       " Min.   :2021-06-01 00:06:22   Length:5860776     Length:5860776    \n",
       " 1st Qu.:2021-07-29 11:02:56   Class :character   Class :character  \n",
       " Median :2021-09-23 17:49:29   Mode  :character   Mode  :character  \n",
       " Mean   :2021-10-26 04:05:36                                        \n",
       " 3rd Qu.:2022-01-14 11:14:48                                        \n",
       " Max.   :2022-06-02 11:35:01                                        \n",
       "                                                                    \n",
       " end_station_name   end_station_id       start_lat       start_lng     \n",
       " Length:5860776     Length:5860776     Min.   :41.64   Min.   :-87.84  \n",
       " Class :character   Class :character   1st Qu.:41.88   1st Qu.:-87.66  \n",
       " Mode  :character   Mode  :character   Median :41.90   Median :-87.64  \n",
       "                                       Mean   :41.90   Mean   :-87.65  \n",
       "                                       3rd Qu.:41.93   3rd Qu.:-87.63  \n",
       "                                       Max.   :45.64   Max.   :-73.80  \n",
       "                                                                       \n",
       "    end_lat         end_lng       member_casual     \n",
       " Min.   :41.39   Min.   :-88.97   Length:5860776    \n",
       " 1st Qu.:41.88   1st Qu.:-87.66   Class :character  \n",
       " Median :41.90   Median :-87.64   Mode  :character  \n",
       " Mean   :41.90   Mean   :-87.65                     \n",
       " 3rd Qu.:41.93   3rd Qu.:-87.63                     \n",
       " Max.   :42.17   Max.   :-87.49                     \n",
       " NA's   :5036    NA's   :5036                       "
      ]
     },
     "metadata": {},
     "output_type": "display_data"
    },
    {
     "data": {
      "text/html": [
       "<table class=\"dataframe\">\n",
       "<caption>A skim_df: 13 × 20</caption>\n",
       "<thead>\n",
       "\t<tr><th></th><th scope=col>skim_type</th><th scope=col>skim_variable</th><th scope=col>n_missing</th><th scope=col>complete_rate</th><th scope=col>character.min</th><th scope=col>character.max</th><th scope=col>character.empty</th><th scope=col>character.n_unique</th><th scope=col>character.whitespace</th><th scope=col>numeric.mean</th><th scope=col>numeric.sd</th><th scope=col>numeric.p0</th><th scope=col>numeric.p25</th><th scope=col>numeric.p50</th><th scope=col>numeric.p75</th><th scope=col>numeric.p100</th><th scope=col>POSIXct.min</th><th scope=col>POSIXct.max</th><th scope=col>POSIXct.median</th><th scope=col>POSIXct.n_unique</th></tr>\n",
       "\t<tr><th></th><th scope=col>&lt;chr&gt;</th><th scope=col>&lt;chr&gt;</th><th scope=col>&lt;int&gt;</th><th scope=col>&lt;dbl&gt;</th><th scope=col>&lt;int&gt;</th><th scope=col>&lt;int&gt;</th><th scope=col>&lt;int&gt;</th><th scope=col>&lt;int&gt;</th><th scope=col>&lt;int&gt;</th><th scope=col>&lt;dbl&gt;</th><th scope=col>&lt;dbl&gt;</th><th scope=col>&lt;dbl&gt;</th><th scope=col>&lt;dbl&gt;</th><th scope=col>&lt;dbl&gt;</th><th scope=col>&lt;dbl&gt;</th><th scope=col>&lt;dbl&gt;</th><th scope=col>&lt;dttm&gt;</th><th scope=col>&lt;dttm&gt;</th><th scope=col>&lt;dttm&gt;</th><th scope=col>&lt;int&gt;</th></tr>\n",
       "</thead>\n",
       "<tbody>\n",
       "\t<tr><th scope=row>1</th><td>character</td><td>ride_id           </td><td>     0</td><td>1.0000000</td><td>16</td><td>16</td><td> 0</td><td>5860776</td><td> 0</td><td>       NA</td><td>        NA</td><td>    NA</td><td>       NA</td><td>       NA</td><td>       NA</td><td>       NA</td><td>NA</td><td>NA</td><td>NA</td><td>     NA</td></tr>\n",
       "\t<tr><th scope=row>2</th><td>character</td><td>rideable_type     </td><td>     0</td><td>1.0000000</td><td>11</td><td>13</td><td> 0</td><td>      3</td><td> 0</td><td>       NA</td><td>        NA</td><td>    NA</td><td>       NA</td><td>       NA</td><td>       NA</td><td>       NA</td><td>NA</td><td>NA</td><td>NA</td><td>     NA</td></tr>\n",
       "\t<tr><th scope=row>3</th><td>character</td><td>start_station_name</td><td>823167</td><td>0.8595464</td><td> 3</td><td>53</td><td> 0</td><td>   1105</td><td> 0</td><td>       NA</td><td>        NA</td><td>    NA</td><td>       NA</td><td>       NA</td><td>       NA</td><td>       NA</td><td>NA</td><td>NA</td><td>NA</td><td>     NA</td></tr>\n",
       "\t<tr><th scope=row>4</th><td>character</td><td>start_station_id  </td><td>823164</td><td>0.8595469</td><td> 3</td><td>44</td><td> 0</td><td>   1063</td><td> 0</td><td>       NA</td><td>        NA</td><td>    NA</td><td>       NA</td><td>       NA</td><td>       NA</td><td>       NA</td><td>NA</td><td>NA</td><td>NA</td><td>     NA</td></tr>\n",
       "\t<tr><th scope=row>5</th><td>character</td><td>end_station_name  </td><td>878338</td><td>0.8501328</td><td> 9</td><td>53</td><td> 0</td><td>   1112</td><td> 0</td><td>       NA</td><td>        NA</td><td>    NA</td><td>       NA</td><td>       NA</td><td>       NA</td><td>       NA</td><td>NA</td><td>NA</td><td>NA</td><td>     NA</td></tr>\n",
       "\t<tr><th scope=row>6</th><td>character</td><td>end_station_id    </td><td>878338</td><td>0.8501328</td><td> 3</td><td>44</td><td> 0</td><td>   1068</td><td> 0</td><td>       NA</td><td>        NA</td><td>    NA</td><td>       NA</td><td>       NA</td><td>       NA</td><td>       NA</td><td>NA</td><td>NA</td><td>NA</td><td>     NA</td></tr>\n",
       "\t<tr><th scope=row>7</th><td>character</td><td>member_casual     </td><td>     0</td><td>1.0000000</td><td> 6</td><td> 6</td><td> 0</td><td>      2</td><td> 0</td><td>       NA</td><td>        NA</td><td>    NA</td><td>       NA</td><td>       NA</td><td>       NA</td><td>       NA</td><td>NA</td><td>NA</td><td>NA</td><td>     NA</td></tr>\n",
       "\t<tr><th scope=row>8</th><td>numeric  </td><td>start_lat         </td><td>     0</td><td>1.0000000</td><td>NA</td><td>NA</td><td>NA</td><td>     NA</td><td>NA</td><td> 41.90036</td><td>0.04704035</td><td> 41.64</td><td> 41.88103</td><td> 41.89889</td><td> 41.92914</td><td> 45.63503</td><td>NA</td><td>NA</td><td>NA</td><td>     NA</td></tr>\n",
       "\t<tr><th scope=row>9</th><td>numeric  </td><td>start_lng         </td><td>     0</td><td>1.0000000</td><td>NA</td><td>NA</td><td>NA</td><td>     NA</td><td>NA</td><td>-87.64681</td><td>0.03049014</td><td>-87.84</td><td>-87.66120</td><td>-87.64299</td><td>-87.62783</td><td>-73.79648</td><td>NA</td><td>NA</td><td>NA</td><td>     NA</td></tr>\n",
       "\t<tr><th scope=row>10</th><td>numeric  </td><td>end_lat           </td><td>  5036</td><td>0.9991407</td><td>NA</td><td>NA</td><td>NA</td><td>     NA</td><td>NA</td><td> 41.90061</td><td>0.04713410</td><td> 41.39</td><td> 41.88111</td><td> 41.89918</td><td> 41.92947</td><td> 42.16812</td><td>NA</td><td>NA</td><td>NA</td><td>     NA</td></tr>\n",
       "\t<tr><th scope=row>11</th><td>numeric  </td><td>end_lng           </td><td>  5036</td><td>0.9991407</td><td>NA</td><td>NA</td><td>NA</td><td>     NA</td><td>NA</td><td>-87.64700</td><td>0.03012256</td><td>-88.97</td><td>-87.66141</td><td>-87.64312</td><td>-87.62784</td><td>-87.49000</td><td>NA</td><td>NA</td><td>NA</td><td>     NA</td></tr>\n",
       "\t<tr><th scope=row>12</th><td>POSIXct  </td><td>started_at        </td><td>     0</td><td>1.0000000</td><td>NA</td><td>NA</td><td>NA</td><td>     NA</td><td>NA</td><td>       NA</td><td>        NA</td><td>    NA</td><td>       NA</td><td>       NA</td><td>       NA</td><td>       NA</td><td>2021-06-01 00:00:38</td><td>2022-05-31 23:59:56</td><td>2021-09-23 17:33:23</td><td>4896834</td></tr>\n",
       "\t<tr><th scope=row>13</th><td>POSIXct  </td><td>ended_at          </td><td>     0</td><td>1.0000000</td><td>NA</td><td>NA</td><td>NA</td><td>     NA</td><td>NA</td><td>       NA</td><td>        NA</td><td>    NA</td><td>       NA</td><td>       NA</td><td>       NA</td><td>       NA</td><td>2021-06-01 00:06:22</td><td>2022-06-02 11:35:01</td><td>2021-09-23 17:49:29</td><td>4893478</td></tr>\n",
       "</tbody>\n",
       "</table>\n"
      ],
      "text/latex": [
       "A skim\\_df: 13 × 20\n",
       "\\begin{tabular}{r|llllllllllllllllllll}\n",
       "  & skim\\_type & skim\\_variable & n\\_missing & complete\\_rate & character.min & character.max & character.empty & character.n\\_unique & character.whitespace & numeric.mean & numeric.sd & numeric.p0 & numeric.p25 & numeric.p50 & numeric.p75 & numeric.p100 & POSIXct.min & POSIXct.max & POSIXct.median & POSIXct.n\\_unique\\\\\n",
       "  & <chr> & <chr> & <int> & <dbl> & <int> & <int> & <int> & <int> & <int> & <dbl> & <dbl> & <dbl> & <dbl> & <dbl> & <dbl> & <dbl> & <dttm> & <dttm> & <dttm> & <int>\\\\\n",
       "\\hline\n",
       "\t1 & character & ride\\_id            &      0 & 1.0000000 & 16 & 16 &  0 & 5860776 &  0 &        NA &         NA &     NA &        NA &        NA &        NA &        NA & NA & NA & NA &      NA\\\\\n",
       "\t2 & character & rideable\\_type      &      0 & 1.0000000 & 11 & 13 &  0 &       3 &  0 &        NA &         NA &     NA &        NA &        NA &        NA &        NA & NA & NA & NA &      NA\\\\\n",
       "\t3 & character & start\\_station\\_name & 823167 & 0.8595464 &  3 & 53 &  0 &    1105 &  0 &        NA &         NA &     NA &        NA &        NA &        NA &        NA & NA & NA & NA &      NA\\\\\n",
       "\t4 & character & start\\_station\\_id   & 823164 & 0.8595469 &  3 & 44 &  0 &    1063 &  0 &        NA &         NA &     NA &        NA &        NA &        NA &        NA & NA & NA & NA &      NA\\\\\n",
       "\t5 & character & end\\_station\\_name   & 878338 & 0.8501328 &  9 & 53 &  0 &    1112 &  0 &        NA &         NA &     NA &        NA &        NA &        NA &        NA & NA & NA & NA &      NA\\\\\n",
       "\t6 & character & end\\_station\\_id     & 878338 & 0.8501328 &  3 & 44 &  0 &    1068 &  0 &        NA &         NA &     NA &        NA &        NA &        NA &        NA & NA & NA & NA &      NA\\\\\n",
       "\t7 & character & member\\_casual      &      0 & 1.0000000 &  6 &  6 &  0 &       2 &  0 &        NA &         NA &     NA &        NA &        NA &        NA &        NA & NA & NA & NA &      NA\\\\\n",
       "\t8 & numeric   & start\\_lat          &      0 & 1.0000000 & NA & NA & NA &      NA & NA &  41.90036 & 0.04704035 &  41.64 &  41.88103 &  41.89889 &  41.92914 &  45.63503 & NA & NA & NA &      NA\\\\\n",
       "\t9 & numeric   & start\\_lng          &      0 & 1.0000000 & NA & NA & NA &      NA & NA & -87.64681 & 0.03049014 & -87.84 & -87.66120 & -87.64299 & -87.62783 & -73.79648 & NA & NA & NA &      NA\\\\\n",
       "\t10 & numeric   & end\\_lat            &   5036 & 0.9991407 & NA & NA & NA &      NA & NA &  41.90061 & 0.04713410 &  41.39 &  41.88111 &  41.89918 &  41.92947 &  42.16812 & NA & NA & NA &      NA\\\\\n",
       "\t11 & numeric   & end\\_lng            &   5036 & 0.9991407 & NA & NA & NA &      NA & NA & -87.64700 & 0.03012256 & -88.97 & -87.66141 & -87.64312 & -87.62784 & -87.49000 & NA & NA & NA &      NA\\\\\n",
       "\t12 & POSIXct   & started\\_at         &      0 & 1.0000000 & NA & NA & NA &      NA & NA &        NA &         NA &     NA &        NA &        NA &        NA &        NA & 2021-06-01 00:00:38 & 2022-05-31 23:59:56 & 2021-09-23 17:33:23 & 4896834\\\\\n",
       "\t13 & POSIXct   & ended\\_at           &      0 & 1.0000000 & NA & NA & NA &      NA & NA &        NA &         NA &     NA &        NA &        NA &        NA &        NA & 2021-06-01 00:06:22 & 2022-06-02 11:35:01 & 2021-09-23 17:49:29 & 4893478\\\\\n",
       "\\end{tabular}\n"
      ],
      "text/markdown": [
       "\n",
       "A skim_df: 13 × 20\n",
       "\n",
       "| <!--/--> | skim_type &lt;chr&gt; | skim_variable &lt;chr&gt; | n_missing &lt;int&gt; | complete_rate &lt;dbl&gt; | character.min &lt;int&gt; | character.max &lt;int&gt; | character.empty &lt;int&gt; | character.n_unique &lt;int&gt; | character.whitespace &lt;int&gt; | numeric.mean &lt;dbl&gt; | numeric.sd &lt;dbl&gt; | numeric.p0 &lt;dbl&gt; | numeric.p25 &lt;dbl&gt; | numeric.p50 &lt;dbl&gt; | numeric.p75 &lt;dbl&gt; | numeric.p100 &lt;dbl&gt; | POSIXct.min &lt;dttm&gt; | POSIXct.max &lt;dttm&gt; | POSIXct.median &lt;dttm&gt; | POSIXct.n_unique &lt;int&gt; |\n",
       "|---|---|---|---|---|---|---|---|---|---|---|---|---|---|---|---|---|---|---|---|---|\n",
       "| 1 | character | ride_id            |      0 | 1.0000000 | 16 | 16 |  0 | 5860776 |  0 |        NA |         NA |     NA |        NA |        NA |        NA |        NA | NA | NA | NA |      NA |\n",
       "| 2 | character | rideable_type      |      0 | 1.0000000 | 11 | 13 |  0 |       3 |  0 |        NA |         NA |     NA |        NA |        NA |        NA |        NA | NA | NA | NA |      NA |\n",
       "| 3 | character | start_station_name | 823167 | 0.8595464 |  3 | 53 |  0 |    1105 |  0 |        NA |         NA |     NA |        NA |        NA |        NA |        NA | NA | NA | NA |      NA |\n",
       "| 4 | character | start_station_id   | 823164 | 0.8595469 |  3 | 44 |  0 |    1063 |  0 |        NA |         NA |     NA |        NA |        NA |        NA |        NA | NA | NA | NA |      NA |\n",
       "| 5 | character | end_station_name   | 878338 | 0.8501328 |  9 | 53 |  0 |    1112 |  0 |        NA |         NA |     NA |        NA |        NA |        NA |        NA | NA | NA | NA |      NA |\n",
       "| 6 | character | end_station_id     | 878338 | 0.8501328 |  3 | 44 |  0 |    1068 |  0 |        NA |         NA |     NA |        NA |        NA |        NA |        NA | NA | NA | NA |      NA |\n",
       "| 7 | character | member_casual      |      0 | 1.0000000 |  6 |  6 |  0 |       2 |  0 |        NA |         NA |     NA |        NA |        NA |        NA |        NA | NA | NA | NA |      NA |\n",
       "| 8 | numeric   | start_lat          |      0 | 1.0000000 | NA | NA | NA |      NA | NA |  41.90036 | 0.04704035 |  41.64 |  41.88103 |  41.89889 |  41.92914 |  45.63503 | NA | NA | NA |      NA |\n",
       "| 9 | numeric   | start_lng          |      0 | 1.0000000 | NA | NA | NA |      NA | NA | -87.64681 | 0.03049014 | -87.84 | -87.66120 | -87.64299 | -87.62783 | -73.79648 | NA | NA | NA |      NA |\n",
       "| 10 | numeric   | end_lat            |   5036 | 0.9991407 | NA | NA | NA |      NA | NA |  41.90061 | 0.04713410 |  41.39 |  41.88111 |  41.89918 |  41.92947 |  42.16812 | NA | NA | NA |      NA |\n",
       "| 11 | numeric   | end_lng            |   5036 | 0.9991407 | NA | NA | NA |      NA | NA | -87.64700 | 0.03012256 | -88.97 | -87.66141 | -87.64312 | -87.62784 | -87.49000 | NA | NA | NA |      NA |\n",
       "| 12 | POSIXct   | started_at         |      0 | 1.0000000 | NA | NA | NA |      NA | NA |        NA |         NA |     NA |        NA |        NA |        NA |        NA | 2021-06-01 00:00:38 | 2022-05-31 23:59:56 | 2021-09-23 17:33:23 | 4896834 |\n",
       "| 13 | POSIXct   | ended_at           |      0 | 1.0000000 | NA | NA | NA |      NA | NA |        NA |         NA |     NA |        NA |        NA |        NA |        NA | 2021-06-01 00:06:22 | 2022-06-02 11:35:01 | 2021-09-23 17:49:29 | 4893478 |\n",
       "\n"
      ],
      "text/plain": {
       "POSIXct": [
        {
         "complete_rate": 1,
         "max": "2022-05-31 23:59:56",
         "median": "2021-09-23 17:33:23",
         "min": "2021-06-01 00:00:38",
         "n_missing": 0,
         "n_unique": 4896834,
         "skim_variable": "started_at"
        },
        {
         "complete_rate": 1,
         "max": "2022-06-02 11:35:01",
         "median": "2021-09-23 17:49:29",
         "min": "2021-06-01 00:06:22",
         "n_missing": 0,
         "n_unique": 4893478,
         "skim_variable": "ended_at"
        }
       ],
       "character": [
        {
         "complete_rate": 1,
         "empty": 0,
         "max": 16,
         "min": 16,
         "n_missing": 0,
         "n_unique": 5860776,
         "skim_variable": "ride_id",
         "whitespace": 0
        },
        {
         "complete_rate": 1,
         "empty": 0,
         "max": 13,
         "min": 11,
         "n_missing": 0,
         "n_unique": 3,
         "skim_variable": "rideable_type",
         "whitespace": 0
        },
        {
         "complete_rate": 0.8595,
         "empty": 0,
         "max": 53,
         "min": 3,
         "n_missing": 823167,
         "n_unique": 1105,
         "skim_variable": "start_station_name",
         "whitespace": 0
        },
        {
         "complete_rate": 0.8595,
         "empty": 0,
         "max": 44,
         "min": 3,
         "n_missing": 823164,
         "n_unique": 1063,
         "skim_variable": "start_station_id",
         "whitespace": 0
        },
        {
         "complete_rate": 0.8501,
         "empty": 0,
         "max": 53,
         "min": 9,
         "n_missing": 878338,
         "n_unique": 1112,
         "skim_variable": "end_station_name",
         "whitespace": 0
        },
        {
         "complete_rate": 0.8501,
         "empty": 0,
         "max": 44,
         "min": 3,
         "n_missing": 878338,
         "n_unique": 1068,
         "skim_variable": "end_station_id",
         "whitespace": 0
        },
        {
         "complete_rate": 1,
         "empty": 0,
         "max": 6,
         "min": 6,
         "n_missing": 0,
         "n_unique": 2,
         "skim_variable": "member_casual",
         "whitespace": 0
        }
       ],
       "numeric": [
        {
         "complete_rate": 1,
         "mean": 41.9004,
         "n_missing": 0,
         "p0": 41.64,
         "p100": 45.635,
         "p25": 41.881,
         "p50": 41.8989,
         "p75": 41.9291,
         "sd": 0.047,
         "skim_variable": "start_lat"
        },
        {
         "complete_rate": 1,
         "mean": -87.6468,
         "n_missing": 0,
         "p0": -87.84,
         "p100": -73.7965,
         "p25": -87.6612,
         "p50": -87.643,
         "p75": -87.6278,
         "sd": 0.0305,
         "skim_variable": "start_lng"
        },
        {
         "complete_rate": 0.9991,
         "mean": 41.9006,
         "n_missing": 5036,
         "p0": 41.39,
         "p100": 42.1681,
         "p25": 41.8811,
         "p50": 41.8992,
         "p75": 41.9295,
         "sd": 0.0471,
         "skim_variable": "end_lat"
        },
        {
         "complete_rate": 0.9991,
         "mean": -87.647,
         "n_missing": 5036,
         "p0": -88.97,
         "p100": -87.49,
         "p25": -87.6614,
         "p50": -87.6431,
         "p75": -87.6278,
         "sd": 0.0301,
         "skim_variable": "end_lng"
        }
       ]
      }
     },
     "metadata": {},
     "output_type": "display_data"
    },
    {
     "name": "stdout",
     "output_type": "stream",
     "text": [
      "── Data Summary ────────────────────────\n",
      "                           Values   \n",
      "Name                       all_trips\n",
      "Number of rows             5860776  \n",
      "Number of columns          13       \n",
      "_______________________             \n",
      "Column type frequency:              \n",
      "  character                7        \n",
      "  numeric                  4        \n",
      "  POSIXct                  2        \n",
      "________________________            \n",
      "Group variables            None     \n",
      "\n",
      "── Variable type: character ────────────────────────────────────────────────────\n",
      "  skim_variable      n_missing complete_rate min max empty n_unique whitespace\n",
      "\u001b[90m1\u001b[39m ride_id                    0         1      16  16     0  5\u001b[4m8\u001b[24m\u001b[4m6\u001b[24m\u001b[4m0\u001b[24m776          0\n",
      "\u001b[90m2\u001b[39m rideable_type              0         1      11  13     0        3          0\n",
      "\u001b[90m3\u001b[39m start_station_name    \u001b[4m8\u001b[24m\u001b[4m2\u001b[24m\u001b[4m3\u001b[24m167         0.860   3  53     0     \u001b[4m1\u001b[24m105          0\n",
      "\u001b[90m4\u001b[39m start_station_id      \u001b[4m8\u001b[24m\u001b[4m2\u001b[24m\u001b[4m3\u001b[24m164         0.860   3  44     0     \u001b[4m1\u001b[24m063          0\n",
      "\u001b[90m5\u001b[39m end_station_name      \u001b[4m8\u001b[24m\u001b[4m7\u001b[24m\u001b[4m8\u001b[24m338         0.850   9  53     0     \u001b[4m1\u001b[24m112          0\n",
      "\u001b[90m6\u001b[39m end_station_id        \u001b[4m8\u001b[24m\u001b[4m7\u001b[24m\u001b[4m8\u001b[24m338         0.850   3  44     0     \u001b[4m1\u001b[24m068          0\n",
      "\u001b[90m7\u001b[39m member_casual              0         1       6   6     0        2          0\n",
      "\n",
      "── Variable type: numeric ──────────────────────────────────────────────────────\n",
      "  skim_variable n_missing complete_rate  mean     sd    p0   p25   p50   p75\n",
      "\u001b[90m1\u001b[39m start_lat             0         1      41.9 0.047\u001b[4m0\u001b[24m  41.6  41.9  41.9  41.9\n",
      "\u001b[90m2\u001b[39m start_lng             0         1     -\u001b[31m87\u001b[39m\u001b[31m.\u001b[39m\u001b[31m6\u001b[39m 0.030\u001b[4m5\u001b[24m -\u001b[31m87\u001b[39m\u001b[31m.\u001b[39m\u001b[31m8\u001b[39m -\u001b[31m87\u001b[39m\u001b[31m.\u001b[39m\u001b[31m7\u001b[39m -\u001b[31m87\u001b[39m\u001b[31m.\u001b[39m\u001b[31m6\u001b[39m -\u001b[31m87\u001b[39m\u001b[31m.\u001b[39m\u001b[31m6\u001b[39m\n",
      "\u001b[90m3\u001b[39m end_lat            \u001b[4m5\u001b[24m036         0.999  41.9 0.047\u001b[4m1\u001b[24m  41.4  41.9  41.9  41.9\n",
      "\u001b[90m4\u001b[39m end_lng            \u001b[4m5\u001b[24m036         0.999 -\u001b[31m87\u001b[39m\u001b[31m.\u001b[39m\u001b[31m6\u001b[39m 0.030\u001b[4m1\u001b[24m -\u001b[31m89\u001b[39m\u001b[31m.\u001b[39m\u001b[31m0\u001b[39m -\u001b[31m87\u001b[39m\u001b[31m.\u001b[39m\u001b[31m7\u001b[39m -\u001b[31m87\u001b[39m\u001b[31m.\u001b[39m\u001b[31m6\u001b[39m -\u001b[31m87\u001b[39m\u001b[31m.\u001b[39m\u001b[31m6\u001b[39m\n",
      "   p100\n",
      "\u001b[90m1\u001b[39m  45.6\n",
      "\u001b[90m2\u001b[39m -\u001b[31m73\u001b[39m\u001b[31m.\u001b[39m\u001b[31m8\u001b[39m\n",
      "\u001b[90m3\u001b[39m  42.2\n",
      "\u001b[90m4\u001b[39m -\u001b[31m87\u001b[39m\u001b[31m.\u001b[39m\u001b[31m5\u001b[39m\n",
      "\n",
      "── Variable type: POSIXct ──────────────────────────────────────────────────────\n",
      "  skim_variable n_missing complete_rate min                 max                \n",
      "\u001b[90m1\u001b[39m started_at            0             1 2021-06-01 \u001b[90m00:00:38\u001b[39m 2022-05-31 \u001b[90m23:59:56\u001b[39m\n",
      "\u001b[90m2\u001b[39m ended_at              0             1 2021-06-01 \u001b[90m00:06:22\u001b[39m 2022-06-02 \u001b[90m11:35:01\u001b[39m\n",
      "  median              n_unique\n",
      "\u001b[90m1\u001b[39m 2021-09-23 \u001b[90m17:33:23\u001b[39m  4\u001b[4m8\u001b[24m\u001b[4m9\u001b[24m\u001b[4m6\u001b[24m834\n",
      "\u001b[90m2\u001b[39m 2021-09-23 \u001b[90m17:49:29\u001b[39m  4\u001b[4m8\u001b[24m\u001b[4m9\u001b[24m\u001b[4m3\u001b[24m478\n"
     ]
    }
   ],
   "source": [
    "colnames(all_trips)  #List of column names\n",
    "nrow(all_trips)  #How many rows are in data frame?\n",
    "dim(all_trips)  #Dimensions of the data frame?\n",
    "head(all_trips)  #See the first 6 rows of data frame  \n",
    "tail(all_trips) #See the last 6 rows of data frame\n",
    "str(all_trips)  #See list of columns and data types (numeric, character, etc)\n",
    "summary(all_trips)  #Statistical summary of data. Mainly for numeric\n",
    "skim_without_charts(all_trips) #skim through the data to give an overview insight of the data"
   ]
  },
  {
   "cell_type": "markdown",
   "metadata": {},
   "source": [
    "By inspecting the tables from above, a reasonable insight of the data frame is obtained and nearly 900,000 entries are missing from station\\_id. This missing data would impose a bias in data analysis. In the real world case,  the data team of cyclistic company should be inquired  for explanation or how to manage the missing data. However, the general purpose of this case scenario is to find the trends of casual and member riders of the company. Therefore, the missing data will be removed here and assume that the remaining data is big enough for analysis.  \n",
    "\n",
    "### Remove the missing data"
   ]
  },
  {
   "cell_type": "code",
   "execution_count": 8,
   "metadata": {
    "execution": {
     "iopub.execute_input": "2022-07-16T05:36:49.422204Z",
     "iopub.status.busy": "2022-07-16T05:36:49.420841Z",
     "iopub.status.idle": "2022-07-16T05:36:51.129399Z"
    }
   },
   "outputs": [],
   "source": [
    "all_trips <- na.omit(all_trips)\n"
   ]
  },
  {
   "cell_type": "markdown",
   "metadata": {},
   "source": [
    "### Add more columns for data aggregation\n",
    "\n",
    "This will allow us to aggregate ride data for each month, day, or year ... before completing these operations we could only aggregate at the ride level\n",
    "source: https://www.statmethods.net/input/dates.html"
   ]
  },
  {
   "cell_type": "code",
   "execution_count": 9,
   "metadata": {
    "execution": {
     "iopub.execute_input": "2022-07-16T05:36:51.132999Z",
     "iopub.status.busy": "2022-07-16T05:36:51.131678Z",
     "iopub.status.idle": "2022-07-16T05:37:00.441182Z"
    }
   },
   "outputs": [],
   "source": [
    "all_trips$date <- as.Date(all_trips$started_at) #The default format is yyyy-mm-dd\n",
    "all_trips$month <- format(as.Date(all_trips$date), \"%m\")\n",
    "all_trips$day <- format(as.Date(all_trips$date), \"%d\")\n",
    "all_trips$year <- format(as.Date(all_trips$date), \"%Y\")\n",
    "all_trips$day_of_week <- format(as.Date(all_trips$date), \"%A\")"
   ]
  },
  {
   "cell_type": "markdown",
   "metadata": {},
   "source": [
    "### Add a \"ride_length\" calculation to all_trips (in seconds)  \n",
    "\n",
    "source: https://stat.ethz.ch/R-manual/R-devel/library/base/html/difftime.html"
   ]
  },
  {
   "cell_type": "code",
   "execution_count": 10,
   "metadata": {
    "execution": {
     "iopub.execute_input": "2022-07-16T05:37:00.444834Z",
     "iopub.status.busy": "2022-07-16T05:37:00.443516Z",
     "iopub.status.idle": "2022-07-16T05:37:00.495929Z"
    }
   },
   "outputs": [],
   "source": [
    "all_trips$ride_length <- difftime(all_trips$ended_at,all_trips$started_at)\n"
   ]
  },
  {
   "cell_type": "markdown",
   "metadata": {},
   "source": [
    "### Adding time_period column to determine which period\n",
    "\n",
    "source:https://stackoverflow.com/questions/50304159/label-day-timing-into-morning-afternoon-and-evening-in-r"
   ]
  },
  {
   "cell_type": "code",
   "execution_count": 11,
   "metadata": {
    "execution": {
     "iopub.execute_input": "2022-07-16T05:37:00.501186Z",
     "iopub.status.busy": "2022-07-16T05:37:00.499521Z",
     "iopub.status.idle": "2022-07-16T05:37:01.531471Z"
    }
   },
   "outputs": [],
   "source": [
    "breaks <- hour(hm(\"00:00\", \"6:00\", \"12:00\", \"18:00\", \"23:59\")) #Create breaks\n",
    "labels <- c(\"Night\", \"Morning\", \"Afternoon\", \"Evening\") # Labels for the breaks\n",
    "all_trips$time_period <- cut(x=hour(all_trips$started_at), \n",
    "                         breaks = breaks, labels = labels, include.lowest=TRUE)"
   ]
  },
  {
   "cell_type": "markdown",
   "metadata": {},
   "source": [
    "### Inspect the structure of the columns"
   ]
  },
  {
   "cell_type": "code",
   "execution_count": 12,
   "metadata": {
    "execution": {
     "iopub.execute_input": "2022-07-16T05:37:01.536660Z",
     "iopub.status.busy": "2022-07-16T05:37:01.534955Z",
     "iopub.status.idle": "2022-07-16T05:37:01.584842Z"
    }
   },
   "outputs": [
    {
     "name": "stdout",
     "output_type": "stream",
     "text": [
      "tibble [4,667,299 × 20] (S3: tbl_df/tbl/data.frame)\n",
      " $ ride_id           : chr [1:4667299] \"0D904FEC5F84A538\" \"C4185F300D6B552B\" \"60F97090AC85F55E\" \"FBC7B1F0160AA304\" ...\n",
      " $ rideable_type     : chr [1:4667299] \"classic_bike\" \"classic_bike\" \"classic_bike\" \"classic_bike\" ...\n",
      " $ started_at        : POSIXct[1:4667299], format: \"2021-06-04 07:29:18\" \"2021-06-23 08:39:36\" ...\n",
      " $ ended_at          : POSIXct[1:4667299], format: \"2021-06-04 07:45:34\" \"2021-06-23 08:41:37\" ...\n",
      " $ start_station_name: chr [1:4667299] \"Orleans St & Elm St\" \"Desplaines St & Kinzie St\" \"Clark St & Grace St\" \"Kingsbury St & Kinzie St\" ...\n",
      " $ start_station_id  : chr [1:4667299] \"TA1306000006\" \"TA1306000003\" \"TA1307000127\" \"KA1503000043\" ...\n",
      " $ end_station_name  : chr [1:4667299] \"Orleans St & Elm St\" \"Kingsbury St & Kinzie St\" \"Clark St & Leland Ave\" \"Desplaines St & Kinzie St\" ...\n",
      " $ end_station_id    : chr [1:4667299] \"TA1306000006\" \"KA1503000043\" \"TA1309000014\" \"TA1306000003\" ...\n",
      " $ start_lat         : num [1:4667299] 41.9 41.9 42 41.9 41.9 ...\n",
      " $ start_lng         : num [1:4667299] -87.6 -87.6 -87.7 -87.6 -87.6 ...\n",
      " $ end_lat           : num [1:4667299] 41.9 41.9 42 41.9 41.9 ...\n",
      " $ end_lng           : num [1:4667299] -87.6 -87.6 -87.7 -87.6 -87.6 ...\n",
      " $ member_casual     : chr [1:4667299] \"member\" \"member\" \"member\" \"member\" ...\n",
      " $ date              : Date[1:4667299], format: \"2021-06-04\" \"2021-06-23\" ...\n",
      " $ month             : chr [1:4667299] \"06\" \"06\" \"06\" \"06\" ...\n",
      " $ day               : chr [1:4667299] \"04\" \"23\" \"27\" \"01\" ...\n",
      " $ year              : chr [1:4667299] \"2021\" \"2021\" \"2021\" \"2021\" ...\n",
      " $ day_of_week       : chr [1:4667299] \"Friday\" \"Wednesday\" \"Sunday\" \"Tuesday\" ...\n",
      " $ ride_length       : 'difftime' num [1:4667299] 976 121 467 158 ...\n",
      "  ..- attr(*, \"units\")= chr \"secs\"\n",
      " $ time_period       : Factor w/ 4 levels \"Night\",\"Morning\",..: 2 2 2 2 2 3 4 4 2 4 ...\n",
      " - attr(*, \"na.action\")= 'omit' Named int [1:1193477] 1 2 3 4 5 6 7 8 9 10 ...\n",
      "  ..- attr(*, \"names\")= chr [1:1193477] \"1\" \"2\" \"3\" \"4\" ...\n"
     ]
    }
   ],
   "source": [
    "str(all_trips)\n"
   ]
  },
  {
   "cell_type": "markdown",
   "metadata": {},
   "source": [
    "### Convert \"ride_length\" from Factor to numeric so we can run calculations on the data\n"
   ]
  },
  {
   "cell_type": "code",
   "execution_count": 13,
   "metadata": {
    "execution": {
     "iopub.execute_input": "2022-07-16T05:37:01.588463Z",
     "iopub.status.busy": "2022-07-16T05:37:01.587103Z",
     "iopub.status.idle": "2022-07-16T05:37:07.802230Z"
    }
   },
   "outputs": [
    {
     "data": {
      "text/html": [
       "FALSE"
      ],
      "text/latex": [
       "FALSE"
      ],
      "text/markdown": [
       "FALSE"
      ],
      "text/plain": [
       "[1] FALSE"
      ]
     },
     "metadata": {},
     "output_type": "display_data"
    },
    {
     "data": {
      "text/html": [
       "TRUE"
      ],
      "text/latex": [
       "TRUE"
      ],
      "text/markdown": [
       "TRUE"
      ],
      "text/plain": [
       "[1] TRUE"
      ]
     },
     "metadata": {},
     "output_type": "display_data"
    }
   ],
   "source": [
    "is.factor(all_trips$ride_length)\n",
    "all_trips$ride_length <- as.numeric(as.character(all_trips$ride_length))\n",
    "is.numeric(all_trips$ride_length)"
   ]
  },
  {
   "cell_type": "markdown",
   "metadata": {},
   "source": [
    "### Remove \"bad\" data\n"
   ]
  },
  {
   "cell_type": "code",
   "execution_count": 14,
   "metadata": {
    "execution": {
     "iopub.execute_input": "2022-07-16T05:37:07.805741Z",
     "iopub.status.busy": "2022-07-16T05:37:07.804446Z",
     "iopub.status.idle": "2022-07-16T05:37:07.835004Z"
    }
   },
   "outputs": [
    {
     "data": {
      "text/html": [
       "<table class=\"dataframe\">\n",
       "<caption>A tibble: 1 × 1</caption>\n",
       "<thead>\n",
       "\t<tr><th scope=col>min(ride_length)</th></tr>\n",
       "\t<tr><th scope=col>&lt;dbl&gt;</th></tr>\n",
       "</thead>\n",
       "<tbody>\n",
       "\t<tr><td>-3354</td></tr>\n",
       "</tbody>\n",
       "</table>\n"
      ],
      "text/latex": [
       "A tibble: 1 × 1\n",
       "\\begin{tabular}{l}\n",
       " min(ride\\_length)\\\\\n",
       " <dbl>\\\\\n",
       "\\hline\n",
       "\t -3354\\\\\n",
       "\\end{tabular}\n"
      ],
      "text/markdown": [
       "\n",
       "A tibble: 1 × 1\n",
       "\n",
       "| min(ride_length) &lt;dbl&gt; |\n",
       "|---|\n",
       "| -3354 |\n",
       "\n"
      ],
      "text/plain": [
       "  min(ride_length)\n",
       "1 -3354           "
      ]
     },
     "metadata": {},
     "output_type": "display_data"
    }
   ],
   "source": [
    "all_trips %>% summarise(min(ride_length))\n"
   ]
  },
  {
   "cell_type": "markdown",
   "metadata": {},
   "source": [
    "The minimum of ride length is a negative. The data frame includes a few entries when bikes were taken out of docks and checked for quality by Divvy or ride_length was negative.\\\n",
    "We will create a new version called the clean_data since data is being removed.\\\n",
    "source: https://www.datasciencemadesimple.com/delete-or-drop-rows-in-r-with-conditions-2/"
   ]
  },
  {
   "cell_type": "code",
   "execution_count": 15,
   "metadata": {
    "execution": {
     "iopub.execute_input": "2022-07-16T05:37:07.838608Z",
     "iopub.status.busy": "2022-07-16T05:37:07.837277Z",
     "iopub.status.idle": "2022-07-16T05:37:09.098289Z"
    }
   },
   "outputs": [],
   "source": [
    "clean_data <- all_trips[!(all_trips$start_station_name == \"HQ QR\" | all_trips$ride_length<0),]"
   ]
  },
  {
   "cell_type": "markdown",
   "metadata": {},
   "source": [
    "## <div id = \"analyze\"> ***Analyze*** \n",
    "\n",
    "### Descriptive analysis on ride_length (all figures in seconds)"
   ]
  },
  {
   "cell_type": "code",
   "execution_count": 16,
   "metadata": {
    "execution": {
     "iopub.execute_input": "2022-07-16T05:37:09.101866Z",
     "iopub.status.busy": "2022-07-16T05:37:09.100556Z",
     "iopub.status.idle": "2022-07-16T05:37:09.311911Z"
    }
   },
   "outputs": [
    {
     "data": {
      "text/html": [
       "1212.89375915433"
      ],
      "text/latex": [
       "1212.89375915433"
      ],
      "text/markdown": [
       "1212.89375915433"
      ],
      "text/plain": [
       "[1] 1212.894"
      ]
     },
     "metadata": {},
     "output_type": "display_data"
    },
    {
     "data": {
      "text/html": [
       "696"
      ],
      "text/latex": [
       "696"
      ],
      "text/markdown": [
       "696"
      ],
      "text/plain": [
       "[1] 696"
      ]
     },
     "metadata": {},
     "output_type": "display_data"
    },
    {
     "data": {
      "text/html": [
       "3356649"
      ],
      "text/latex": [
       "3356649"
      ],
      "text/markdown": [
       "3356649"
      ],
      "text/plain": [
       "[1] 3356649"
      ]
     },
     "metadata": {},
     "output_type": "display_data"
    },
    {
     "data": {
      "text/html": [
       "0"
      ],
      "text/latex": [
       "0"
      ],
      "text/markdown": [
       "0"
      ],
      "text/plain": [
       "[1] 0"
      ]
     },
     "metadata": {},
     "output_type": "display_data"
    }
   ],
   "source": [
    "mean(clean_data$ride_length) #straight average (total ride length / rides)\n",
    "median(clean_data$ride_length) #midpoint number in the ascending array of ride lengths\n",
    "max(clean_data$ride_length) #longest ride\n",
    "min(clean_data$ride_length) #shortest ride"
   ]
  },
  {
   "cell_type": "markdown",
   "metadata": {},
   "source": [
    "### Compare members and casual users\n"
   ]
  },
  {
   "cell_type": "code",
   "execution_count": 17,
   "metadata": {
    "execution": {
     "iopub.execute_input": "2022-07-16T05:37:09.315500Z",
     "iopub.status.busy": "2022-07-16T05:37:09.314159Z",
     "iopub.status.idle": "2022-07-16T05:37:26.499135Z"
    }
   },
   "outputs": [
    {
     "data": {
      "text/html": [
       "<table class=\"dataframe\">\n",
       "<caption>A data.frame: 2 × 2</caption>\n",
       "<thead>\n",
       "\t<tr><th scope=col>clean_data$member_casual</th><th scope=col>clean_data$ride_length</th></tr>\n",
       "\t<tr><th scope=col>&lt;chr&gt;</th><th scope=col>&lt;dbl&gt;</th></tr>\n",
       "</thead>\n",
       "<tbody>\n",
       "\t<tr><td>casual</td><td>1806.0819</td></tr>\n",
       "\t<tr><td>member</td><td> 760.5681</td></tr>\n",
       "</tbody>\n",
       "</table>\n"
      ],
      "text/latex": [
       "A data.frame: 2 × 2\n",
       "\\begin{tabular}{ll}\n",
       " clean\\_data\\$member\\_casual & clean\\_data\\$ride\\_length\\\\\n",
       " <chr> & <dbl>\\\\\n",
       "\\hline\n",
       "\t casual & 1806.0819\\\\\n",
       "\t member &  760.5681\\\\\n",
       "\\end{tabular}\n"
      ],
      "text/markdown": [
       "\n",
       "A data.frame: 2 × 2\n",
       "\n",
       "| clean_data$member_casual &lt;chr&gt; | clean_data$ride_length &lt;dbl&gt; |\n",
       "|---|---|\n",
       "| casual | 1806.0819 |\n",
       "| member |  760.5681 |\n",
       "\n"
      ],
      "text/plain": [
       "  clean_data$member_casual clean_data$ride_length\n",
       "1 casual                   1806.0819             \n",
       "2 member                    760.5681             "
      ]
     },
     "metadata": {},
     "output_type": "display_data"
    },
    {
     "data": {
      "text/html": [
       "<table class=\"dataframe\">\n",
       "<caption>A data.frame: 2 × 2</caption>\n",
       "<thead>\n",
       "\t<tr><th scope=col>clean_data$member_casual</th><th scope=col>clean_data$ride_length</th></tr>\n",
       "\t<tr><th scope=col>&lt;chr&gt;</th><th scope=col>&lt;dbl&gt;</th></tr>\n",
       "</thead>\n",
       "<tbody>\n",
       "\t<tr><td>casual</td><td>958</td></tr>\n",
       "\t<tr><td>member</td><td>556</td></tr>\n",
       "</tbody>\n",
       "</table>\n"
      ],
      "text/latex": [
       "A data.frame: 2 × 2\n",
       "\\begin{tabular}{ll}\n",
       " clean\\_data\\$member\\_casual & clean\\_data\\$ride\\_length\\\\\n",
       " <chr> & <dbl>\\\\\n",
       "\\hline\n",
       "\t casual & 958\\\\\n",
       "\t member & 556\\\\\n",
       "\\end{tabular}\n"
      ],
      "text/markdown": [
       "\n",
       "A data.frame: 2 × 2\n",
       "\n",
       "| clean_data$member_casual &lt;chr&gt; | clean_data$ride_length &lt;dbl&gt; |\n",
       "|---|---|\n",
       "| casual | 958 |\n",
       "| member | 556 |\n",
       "\n"
      ],
      "text/plain": [
       "  clean_data$member_casual clean_data$ride_length\n",
       "1 casual                   958                   \n",
       "2 member                   556                   "
      ]
     },
     "metadata": {},
     "output_type": "display_data"
    },
    {
     "data": {
      "text/html": [
       "<table class=\"dataframe\">\n",
       "<caption>A data.frame: 2 × 2</caption>\n",
       "<thead>\n",
       "\t<tr><th scope=col>clean_data$member_casual</th><th scope=col>clean_data$ride_length</th></tr>\n",
       "\t<tr><th scope=col>&lt;chr&gt;</th><th scope=col>&lt;dbl&gt;</th></tr>\n",
       "</thead>\n",
       "<tbody>\n",
       "\t<tr><td>casual</td><td>3356649</td></tr>\n",
       "\t<tr><td>member</td><td>  89738</td></tr>\n",
       "</tbody>\n",
       "</table>\n"
      ],
      "text/latex": [
       "A data.frame: 2 × 2\n",
       "\\begin{tabular}{ll}\n",
       " clean\\_data\\$member\\_casual & clean\\_data\\$ride\\_length\\\\\n",
       " <chr> & <dbl>\\\\\n",
       "\\hline\n",
       "\t casual & 3356649\\\\\n",
       "\t member &   89738\\\\\n",
       "\\end{tabular}\n"
      ],
      "text/markdown": [
       "\n",
       "A data.frame: 2 × 2\n",
       "\n",
       "| clean_data$member_casual &lt;chr&gt; | clean_data$ride_length &lt;dbl&gt; |\n",
       "|---|---|\n",
       "| casual | 3356649 |\n",
       "| member |   89738 |\n",
       "\n"
      ],
      "text/plain": [
       "  clean_data$member_casual clean_data$ride_length\n",
       "1 casual                   3356649               \n",
       "2 member                     89738               "
      ]
     },
     "metadata": {},
     "output_type": "display_data"
    },
    {
     "data": {
      "text/html": [
       "<table class=\"dataframe\">\n",
       "<caption>A data.frame: 2 × 2</caption>\n",
       "<thead>\n",
       "\t<tr><th scope=col>clean_data$member_casual</th><th scope=col>clean_data$ride_length</th></tr>\n",
       "\t<tr><th scope=col>&lt;chr&gt;</th><th scope=col>&lt;dbl&gt;</th></tr>\n",
       "</thead>\n",
       "<tbody>\n",
       "\t<tr><td>casual</td><td>0</td></tr>\n",
       "\t<tr><td>member</td><td>0</td></tr>\n",
       "</tbody>\n",
       "</table>\n"
      ],
      "text/latex": [
       "A data.frame: 2 × 2\n",
       "\\begin{tabular}{ll}\n",
       " clean\\_data\\$member\\_casual & clean\\_data\\$ride\\_length\\\\\n",
       " <chr> & <dbl>\\\\\n",
       "\\hline\n",
       "\t casual & 0\\\\\n",
       "\t member & 0\\\\\n",
       "\\end{tabular}\n"
      ],
      "text/markdown": [
       "\n",
       "A data.frame: 2 × 2\n",
       "\n",
       "| clean_data$member_casual &lt;chr&gt; | clean_data$ride_length &lt;dbl&gt; |\n",
       "|---|---|\n",
       "| casual | 0 |\n",
       "| member | 0 |\n",
       "\n"
      ],
      "text/plain": [
       "  clean_data$member_casual clean_data$ride_length\n",
       "1 casual                   0                     \n",
       "2 member                   0                     "
      ]
     },
     "metadata": {},
     "output_type": "display_data"
    }
   ],
   "source": [
    "aggregate(clean_data$ride_length ~ clean_data$member_casual, FUN = mean)\n",
    "aggregate(clean_data$ride_length ~ clean_data$member_casual, FUN = median)\n",
    "aggregate(clean_data$ride_length ~ clean_data$member_casual, FUN = max)\n",
    "aggregate(clean_data$ride_length ~ clean_data$member_casual, FUN = min)"
   ]
  },
  {
   "cell_type": "markdown",
   "metadata": {},
   "source": [
    "### See the average ride time by each day for members vs casual users\n"
   ]
  },
  {
   "cell_type": "code",
   "execution_count": 18,
   "metadata": {
    "execution": {
     "iopub.execute_input": "2022-07-16T05:37:26.502676Z",
     "iopub.status.busy": "2022-07-16T05:37:26.501334Z",
     "iopub.status.idle": "2022-07-16T05:37:30.463198Z"
    }
   },
   "outputs": [
    {
     "data": {
      "text/html": [
       "<table class=\"dataframe\">\n",
       "<caption>A data.frame: 14 × 3</caption>\n",
       "<thead>\n",
       "\t<tr><th scope=col>clean_data$member_casual</th><th scope=col>clean_data$day_of_week</th><th scope=col>clean_data$ride_length</th></tr>\n",
       "\t<tr><th scope=col>&lt;chr&gt;</th><th scope=col>&lt;chr&gt;</th><th scope=col>&lt;dbl&gt;</th></tr>\n",
       "</thead>\n",
       "<tbody>\n",
       "\t<tr><td>casual</td><td>Friday   </td><td>1702.6996</td></tr>\n",
       "\t<tr><td>member</td><td>Friday   </td><td> 741.9006</td></tr>\n",
       "\t<tr><td>casual</td><td>Monday   </td><td>1806.2886</td></tr>\n",
       "\t<tr><td>member</td><td>Monday   </td><td> 736.5971</td></tr>\n",
       "\t<tr><td>casual</td><td>Saturday </td><td>1967.9969</td></tr>\n",
       "\t<tr><td>member</td><td>Saturday </td><td> 856.5753</td></tr>\n",
       "\t<tr><td>casual</td><td>Sunday   </td><td>2053.6915</td></tr>\n",
       "\t<tr><td>member</td><td>Sunday   </td><td> 867.0642</td></tr>\n",
       "\t<tr><td>casual</td><td>Thursday </td><td>1628.6583</td></tr>\n",
       "\t<tr><td>member</td><td>Thursday </td><td> 724.4462</td></tr>\n",
       "\t<tr><td>casual</td><td>Tuesday  </td><td>1569.9493</td></tr>\n",
       "\t<tr><td>member</td><td>Tuesday  </td><td> 711.8568</td></tr>\n",
       "\t<tr><td>casual</td><td>Wednesday</td><td>1597.2237</td></tr>\n",
       "\t<tr><td>member</td><td>Wednesday</td><td> 721.8129</td></tr>\n",
       "</tbody>\n",
       "</table>\n"
      ],
      "text/latex": [
       "A data.frame: 14 × 3\n",
       "\\begin{tabular}{lll}\n",
       " clean\\_data\\$member\\_casual & clean\\_data\\$day\\_of\\_week & clean\\_data\\$ride\\_length\\\\\n",
       " <chr> & <chr> & <dbl>\\\\\n",
       "\\hline\n",
       "\t casual & Friday    & 1702.6996\\\\\n",
       "\t member & Friday    &  741.9006\\\\\n",
       "\t casual & Monday    & 1806.2886\\\\\n",
       "\t member & Monday    &  736.5971\\\\\n",
       "\t casual & Saturday  & 1967.9969\\\\\n",
       "\t member & Saturday  &  856.5753\\\\\n",
       "\t casual & Sunday    & 2053.6915\\\\\n",
       "\t member & Sunday    &  867.0642\\\\\n",
       "\t casual & Thursday  & 1628.6583\\\\\n",
       "\t member & Thursday  &  724.4462\\\\\n",
       "\t casual & Tuesday   & 1569.9493\\\\\n",
       "\t member & Tuesday   &  711.8568\\\\\n",
       "\t casual & Wednesday & 1597.2237\\\\\n",
       "\t member & Wednesday &  721.8129\\\\\n",
       "\\end{tabular}\n"
      ],
      "text/markdown": [
       "\n",
       "A data.frame: 14 × 3\n",
       "\n",
       "| clean_data$member_casual &lt;chr&gt; | clean_data$day_of_week &lt;chr&gt; | clean_data$ride_length &lt;dbl&gt; |\n",
       "|---|---|---|\n",
       "| casual | Friday    | 1702.6996 |\n",
       "| member | Friday    |  741.9006 |\n",
       "| casual | Monday    | 1806.2886 |\n",
       "| member | Monday    |  736.5971 |\n",
       "| casual | Saturday  | 1967.9969 |\n",
       "| member | Saturday  |  856.5753 |\n",
       "| casual | Sunday    | 2053.6915 |\n",
       "| member | Sunday    |  867.0642 |\n",
       "| casual | Thursday  | 1628.6583 |\n",
       "| member | Thursday  |  724.4462 |\n",
       "| casual | Tuesday   | 1569.9493 |\n",
       "| member | Tuesday   |  711.8568 |\n",
       "| casual | Wednesday | 1597.2237 |\n",
       "| member | Wednesday |  721.8129 |\n",
       "\n"
      ],
      "text/plain": [
       "   clean_data$member_casual clean_data$day_of_week clean_data$ride_length\n",
       "1  casual                   Friday                 1702.6996             \n",
       "2  member                   Friday                  741.9006             \n",
       "3  casual                   Monday                 1806.2886             \n",
       "4  member                   Monday                  736.5971             \n",
       "5  casual                   Saturday               1967.9969             \n",
       "6  member                   Saturday                856.5753             \n",
       "7  casual                   Sunday                 2053.6915             \n",
       "8  member                   Sunday                  867.0642             \n",
       "9  casual                   Thursday               1628.6583             \n",
       "10 member                   Thursday                724.4462             \n",
       "11 casual                   Tuesday                1569.9493             \n",
       "12 member                   Tuesday                 711.8568             \n",
       "13 casual                   Wednesday              1597.2237             \n",
       "14 member                   Wednesday               721.8129             "
      ]
     },
     "metadata": {},
     "output_type": "display_data"
    }
   ],
   "source": [
    "aggregate(clean_data$ride_length ~ clean_data$member_casual + clean_data$day_of_week, FUN = mean)"
   ]
  },
  {
   "cell_type": "markdown",
   "metadata": {},
   "source": [
    "### Fix the days of the week being out of order.\n"
   ]
  },
  {
   "cell_type": "code",
   "execution_count": 19,
   "metadata": {
    "execution": {
     "iopub.execute_input": "2022-07-16T05:37:30.467195Z",
     "iopub.status.busy": "2022-07-16T05:37:30.465900Z",
     "iopub.status.idle": "2022-07-16T05:37:30.527613Z"
    }
   },
   "outputs": [],
   "source": [
    "clean_data$day_of_week <- ordered(clean_data$day_of_week, levels=c(\"Sunday\", \"Monday\", \"Tuesday\", \"Wednesday\", \"Thursday\", \"Friday\", \"Saturday\"))"
   ]
  },
  {
   "cell_type": "markdown",
   "metadata": {},
   "source": [
    "### Analyze ridership data by type and weekday\n"
   ]
  },
  {
   "cell_type": "code",
   "execution_count": 20,
   "metadata": {
    "execution": {
     "iopub.execute_input": "2022-07-16T05:37:30.531277Z",
     "iopub.status.busy": "2022-07-16T05:37:30.529947Z",
     "iopub.status.idle": "2022-07-16T05:37:36.177872Z"
    }
   },
   "outputs": [
    {
     "name": "stderr",
     "output_type": "stream",
     "text": [
      "\u001b[1m\u001b[22m`summarise()` has grouped output by 'member_casual'. You can override using the\n",
      "`.groups` argument.\n"
     ]
    },
    {
     "data": {
      "text/html": [
       "<table class=\"dataframe\">\n",
       "<caption>A grouped_df: 14 × 4</caption>\n",
       "<thead>\n",
       "\t<tr><th scope=col>member_casual</th><th scope=col>weekday</th><th scope=col>number_of_rides</th><th scope=col>average_duration</th></tr>\n",
       "\t<tr><th scope=col>&lt;chr&gt;</th><th scope=col>&lt;ord&gt;</th><th scope=col>&lt;int&gt;</th><th scope=col>&lt;dbl&gt;</th></tr>\n",
       "</thead>\n",
       "<tbody>\n",
       "\t<tr><td>casual</td><td>Sun</td><td>384620</td><td>2053.6915</td></tr>\n",
       "\t<tr><td>casual</td><td>Mon</td><td>234503</td><td>1806.2886</td></tr>\n",
       "\t<tr><td>casual</td><td>Tue</td><td>218154</td><td>1569.9493</td></tr>\n",
       "\t<tr><td>casual</td><td>Wed</td><td>217437</td><td>1597.2237</td></tr>\n",
       "\t<tr><td>casual</td><td>Thu</td><td>236564</td><td>1628.6583</td></tr>\n",
       "\t<tr><td>casual</td><td>Fri</td><td>279855</td><td>1702.6996</td></tr>\n",
       "\t<tr><td>casual</td><td>Sat</td><td>448055</td><td>1967.9969</td></tr>\n",
       "\t<tr><td>member</td><td>Sun</td><td>314111</td><td> 867.0642</td></tr>\n",
       "\t<tr><td>member</td><td>Mon</td><td>375444</td><td> 736.5971</td></tr>\n",
       "\t<tr><td>member</td><td>Tue</td><td>424916</td><td> 711.8568</td></tr>\n",
       "\t<tr><td>member</td><td>Wed</td><td>415263</td><td> 721.8129</td></tr>\n",
       "\t<tr><td>member</td><td>Thu</td><td>403068</td><td> 724.4462</td></tr>\n",
       "\t<tr><td>member</td><td>Fri</td><td>364201</td><td> 741.9006</td></tr>\n",
       "\t<tr><td>member</td><td>Sat</td><td>350997</td><td> 856.5753</td></tr>\n",
       "</tbody>\n",
       "</table>\n"
      ],
      "text/latex": [
       "A grouped\\_df: 14 × 4\n",
       "\\begin{tabular}{llll}\n",
       " member\\_casual & weekday & number\\_of\\_rides & average\\_duration\\\\\n",
       " <chr> & <ord> & <int> & <dbl>\\\\\n",
       "\\hline\n",
       "\t casual & Sun & 384620 & 2053.6915\\\\\n",
       "\t casual & Mon & 234503 & 1806.2886\\\\\n",
       "\t casual & Tue & 218154 & 1569.9493\\\\\n",
       "\t casual & Wed & 217437 & 1597.2237\\\\\n",
       "\t casual & Thu & 236564 & 1628.6583\\\\\n",
       "\t casual & Fri & 279855 & 1702.6996\\\\\n",
       "\t casual & Sat & 448055 & 1967.9969\\\\\n",
       "\t member & Sun & 314111 &  867.0642\\\\\n",
       "\t member & Mon & 375444 &  736.5971\\\\\n",
       "\t member & Tue & 424916 &  711.8568\\\\\n",
       "\t member & Wed & 415263 &  721.8129\\\\\n",
       "\t member & Thu & 403068 &  724.4462\\\\\n",
       "\t member & Fri & 364201 &  741.9006\\\\\n",
       "\t member & Sat & 350997 &  856.5753\\\\\n",
       "\\end{tabular}\n"
      ],
      "text/markdown": [
       "\n",
       "A grouped_df: 14 × 4\n",
       "\n",
       "| member_casual &lt;chr&gt; | weekday &lt;ord&gt; | number_of_rides &lt;int&gt; | average_duration &lt;dbl&gt; |\n",
       "|---|---|---|---|\n",
       "| casual | Sun | 384620 | 2053.6915 |\n",
       "| casual | Mon | 234503 | 1806.2886 |\n",
       "| casual | Tue | 218154 | 1569.9493 |\n",
       "| casual | Wed | 217437 | 1597.2237 |\n",
       "| casual | Thu | 236564 | 1628.6583 |\n",
       "| casual | Fri | 279855 | 1702.6996 |\n",
       "| casual | Sat | 448055 | 1967.9969 |\n",
       "| member | Sun | 314111 |  867.0642 |\n",
       "| member | Mon | 375444 |  736.5971 |\n",
       "| member | Tue | 424916 |  711.8568 |\n",
       "| member | Wed | 415263 |  721.8129 |\n",
       "| member | Thu | 403068 |  724.4462 |\n",
       "| member | Fri | 364201 |  741.9006 |\n",
       "| member | Sat | 350997 |  856.5753 |\n",
       "\n"
      ],
      "text/plain": [
       "   member_casual weekday number_of_rides average_duration\n",
       "1  casual        Sun     384620          2053.6915       \n",
       "2  casual        Mon     234503          1806.2886       \n",
       "3  casual        Tue     218154          1569.9493       \n",
       "4  casual        Wed     217437          1597.2237       \n",
       "5  casual        Thu     236564          1628.6583       \n",
       "6  casual        Fri     279855          1702.6996       \n",
       "7  casual        Sat     448055          1967.9969       \n",
       "8  member        Sun     314111           867.0642       \n",
       "9  member        Mon     375444           736.5971       \n",
       "10 member        Tue     424916           711.8568       \n",
       "11 member        Wed     415263           721.8129       \n",
       "12 member        Thu     403068           724.4462       \n",
       "13 member        Fri     364201           741.9006       \n",
       "14 member        Sat     350997           856.5753       "
      ]
     },
     "metadata": {},
     "output_type": "display_data"
    }
   ],
   "source": [
    "clean_data %>% \n",
    "  mutate(weekday = wday(started_at, label = TRUE)) %>%  #creates weekday field using wday()\n",
    "  group_by(member_casual, weekday) %>%  #groups by usertype and weekday\n",
    "  summarise(number_of_rides = n()\t\t\t\t\t\t\t#calculates the number of rides and average duration \n",
    "            ,average_duration = mean(ride_length)) %>% \t\t# calculates the average duration\n",
    "  arrange(member_casual, weekday)\t\t\t\t\t\t\t\t# sorts"
   ]
  },
  {
   "cell_type": "markdown",
   "metadata": {},
   "source": [
    "### Visualize the number of rides by rider type\n"
   ]
  },
  {
   "cell_type": "code",
   "execution_count": 21,
   "metadata": {
    "execution": {
     "iopub.execute_input": "2022-07-16T05:37:36.181463Z",
     "iopub.status.busy": "2022-07-16T05:37:36.180137Z",
     "iopub.status.idle": "2022-07-16T05:37:41.974494Z"
    }
   },
   "outputs": [
    {
     "name": "stderr",
     "output_type": "stream",
     "text": [
      "\u001b[1m\u001b[22m`summarise()` has grouped output by 'member_casual'. You can override using the\n",
      "`.groups` argument.\n"
     ]
    },
    {
     "data": {
      "image/png": "[encoded data removed]"
     },
     "metadata": {
      "image/png": {
       "height": 420,
       "width": 420
      }
     },
     "output_type": "display_data"
    }
   ],
   "source": [
    "options(scipen = 999)\n",
    "clean_data %>% \n",
    "  mutate(weekday = wday(started_at, label = TRUE)) %>% \n",
    "  group_by(member_casual, weekday) %>% \n",
    "  summarise(number_of_rides = n()\n",
    "            ,average_duration = mean(ride_length)) %>% \n",
    "  arrange(member_casual, weekday)  %>% \n",
    "  ggplot(aes(x = weekday, y = number_of_rides, fill = member_casual)) +\n",
    "  geom_col(position = \"dodge\")"
   ]
  },
  {
   "cell_type": "markdown",
   "metadata": {},
   "source": [
    "From both the summary table and the chart, Casuals ride more during the weekends whereas members ride more in the weekdays.\n",
    "\n",
    "### Create a visualization for average duration"
   ]
  },
  {
   "cell_type": "code",
   "execution_count": 22,
   "metadata": {
    "execution": {
     "iopub.execute_input": "2022-07-16T05:37:41.979181Z",
     "iopub.status.busy": "2022-07-16T05:37:41.977505Z",
     "iopub.status.idle": "2022-07-16T05:37:48.030995Z"
    }
   },
   "outputs": [
    {
     "name": "stderr",
     "output_type": "stream",
     "text": [
      "\u001b[1m\u001b[22m`summarise()` has grouped output by 'member_casual'. You can override using the\n",
      "`.groups` argument.\n"
     ]
    },
    {
     "data": {
      "image/png": "[encoded data removed]"
     },
     "metadata": {
      "image/png": {
       "height": 420,
       "width": 420
      }
     },
     "output_type": "display_data"
    }
   ],
   "source": [
    "clean_data %>% \n",
    "  mutate(weekday = wday(started_at, label = TRUE)) %>% \n",
    "  group_by(member_casual, weekday) %>% \n",
    "  summarise(number_of_rides = n()\n",
    "            ,average_duration = mean(ride_length)) %>% \n",
    "  arrange(member_casual, weekday)  %>% \n",
    "  ggplot(aes(x = weekday, y = average_duration, fill = member_casual)) +\n",
    "  geom_col(position = \"dodge\")+\n",
    "  scale_y_time()"
   ]
  },
  {
   "cell_type": "markdown",
   "metadata": {},
   "source": [
    "The average ride duration of members is below 15 mins throughout the week. However, that of casuals is above 30 minutes on weekends and even over 25 minutes on the weekdays where they ride fewer trips than the members.\n",
    "\n",
    "### Visualize number of rides in related to months of the year"
   ]
  },
  {
   "cell_type": "code",
   "execution_count": 23,
   "metadata": {
    "execution": {
     "iopub.execute_input": "2022-07-16T05:37:48.037019Z",
     "iopub.status.busy": "2022-07-16T05:37:48.034904Z",
     "iopub.status.idle": "2022-07-16T05:37:48.898565Z"
    }
   },
   "outputs": [
    {
     "name": "stderr",
     "output_type": "stream",
     "text": [
      "\u001b[1m\u001b[22m`summarise()` has grouped output by 'member_casual'. You can override using the\n",
      "`.groups` argument.\n"
     ]
    },
    {
     "data": {
      "image/png": "[encoded data removed]"
     },
     "metadata": {
      "image/png": {
       "height": 420,
       "width": 420
      }
     },
     "output_type": "display_data"
    }
   ],
   "source": [
    "clean_data %>% \n",
    "  group_by(member_casual,month) %>% \n",
    "  summarize(ride_count = n()) %>% \n",
    "  ggplot(aes(x=month,y=ride_count,fill=member_casual))+\n",
    "  geom_col(position = \"dodge\")"
   ]
  },
  {
   "cell_type": "markdown",
   "metadata": {},
   "source": [
    "Most of the rides took place between May and October. The peak month for casuals is July and that of members is August. There are very few casual rides in January and February. Member rides also decrease but not as low as that of casuals.\n",
    "\n",
    "### Creat a line chart showing relation of number of rides and start time of the rides between casuals and members"
   ]
  },
  {
   "cell_type": "code",
   "execution_count": 24,
   "metadata": {
    "execution": {
     "iopub.execute_input": "2022-07-16T05:37:48.902145Z",
     "iopub.status.busy": "2022-07-16T05:37:48.900788Z",
     "iopub.status.idle": "2022-07-16T05:37:49.763626Z"
    }
   },
   "outputs": [
    {
     "name": "stderr",
     "output_type": "stream",
     "text": [
      "\u001b[1m\u001b[22m`summarise()` has grouped output by 'member_casual'. You can override using the\n",
      "`.groups` argument.\n"
     ]
    },
    {
     "data": {
      "image/png": "[encoded data removed]"
     },
     "metadata": {
      "image/png": {
       "height": 420,
       "width": 420
      }
     },
     "output_type": "display_data"
    }
   ],
   "source": [
    "clean_data %>% \n",
    "  group_by(member_casual,start_hour=hour(started_at)) %>% \n",
    "  summarize(ride_count = n()) %>% \n",
    "  ggplot(aes(x=start_hour, y = ride_count,color=member_casual))+\n",
    "  geom_line()+\n",
    "  scale_x_continuous(breaks=seq(0,24,2))"
   ]
  },
  {
   "cell_type": "markdown",
   "metadata": {},
   "source": [
    "Member rides have a peak at around 17:00. Casuals have two peaks in the day, one around 8:00 and the other at 17:00 while the afternoon peak is higher than members.\n",
    "\n",
    "\n",
    "\n",
    "### Creat a visualization of number of ride counts related to time of the day on weekends."
   ]
  },
  {
   "cell_type": "code",
   "execution_count": 25,
   "metadata": {
    "execution": {
     "iopub.execute_input": "2022-07-16T05:37:49.769691Z",
     "iopub.status.busy": "2022-07-16T05:37:49.767346Z",
     "iopub.status.idle": "2022-07-16T05:37:50.988676Z"
    }
   },
   "outputs": [
    {
     "name": "stderr",
     "output_type": "stream",
     "text": [
      "\u001b[1m\u001b[22m`summarise()` has grouped output by 'member_casual', 'day_of_week'. You can\n",
      "override using the `.groups` argument.\n"
     ]
    },
    {
     "data": {
      "image/png": "[encoded data removed]"
     },
     "metadata": {
      "image/png": {
       "height": 420,
       "width": 420
      }
     },
     "output_type": "display_data"
    }
   ],
   "source": [
    "clean_data %>%\n",
    "  filter(day_of_week==\"Sunday\" |day_of_week==\"Saturday\") %>% \n",
    "  group_by(member_casual,day_of_week,time_of_the_day =time_period) %>% \n",
    "  summarise(average_ride_length=mean(ride_length),ride_count=n()) %>% \n",
    "  ggplot(aes(x=time_of_the_day, y=ride_count,fill=member_casual))+\n",
    "  geom_col(position=\"dodge\")+\n",
    "  facet_wrap(~day_of_week)"
   ]
  },
  {
   "cell_type": "markdown",
   "metadata": {},
   "source": [
    "Both members and casuals ride most in the afternoon time which is also in consistent with the peak hour in the previous chart. \n",
    "\n",
    "### Visualize the average ride length in relation to time of the day"
   ]
  },
  {
   "cell_type": "code",
   "execution_count": 26,
   "metadata": {
    "execution": {
     "iopub.execute_input": "2022-07-16T05:37:50.992309Z",
     "iopub.status.busy": "2022-07-16T05:37:50.990945Z",
     "iopub.status.idle": "2022-07-16T05:37:52.059075Z"
    }
   },
   "outputs": [
    {
     "name": "stderr",
     "output_type": "stream",
     "text": [
      "\u001b[1m\u001b[22m`summarise()` has grouped output by 'member_casual'. You can override using the\n",
      "`.groups` argument.\n"
     ]
    },
    {
     "data": {
      "image/png": "[encoded data removed]"
     },
     "metadata": {
      "image/png": {
       "height": 420,
       "width": 420
      }
     },
     "output_type": "display_data"
    }
   ],
   "source": [
    "clean_data %>% \n",
    "  group_by(member_casual,time_of_the_day =time_period) %>% \n",
    "  summarise(average_ride_length=mean(ride_length)) %>% \n",
    "  ggplot(aes(x=time_of_the_day, y=average_ride_length,fill=member_casual))+\n",
    "  geom_col(position=\"dodge\")+\n",
    "  scale_y_time()"
   ]
  },
  {
   "cell_type": "markdown",
   "metadata": {},
   "source": [
    "The average ride length of both casuals and members seem little variations with time of the day.\n",
    "\n",
    "## <div id = \"share\"> ***Share*** \n",
    "### A summary of ride counts and average ride time between members and casuals on different days of week"
   ]
  },
  {
   "cell_type": "code",
   "execution_count": 27,
   "metadata": {
    "execution": {
     "iopub.execute_input": "2022-07-16T05:37:52.062846Z",
     "iopub.status.busy": "2022-07-16T05:37:52.061405Z",
     "iopub.status.idle": "2022-07-16T05:37:57.104084Z"
    }
   },
   "outputs": [
    {
     "name": "stderr",
     "output_type": "stream",
     "text": [
      "\u001b[1m\u001b[22m`summarise()` has grouped output by 'member_casual'. You can override using the\n",
      "`.groups` argument.\n"
     ]
    },
    {
     "data": {
      "text/plain": [
       "\n",
       "\n",
       "Table: Summary of Ride counts and Average Ride Time on Diferent Days of Week\n",
       "\n",
       "|member_casual |weekday | number_of_rides| average_duration|\n",
       "|:-------------|:-------|---------------:|----------------:|\n",
       "|casual        |Sun     |          384620|        2053.6915|\n",
       "|casual        |Mon     |          234503|        1806.2886|\n",
       "|casual        |Tue     |          218154|        1569.9493|\n",
       "|casual        |Wed     |          217437|        1597.2237|\n",
       "|casual        |Thu     |          236564|        1628.6583|\n",
       "|casual        |Fri     |          279855|        1702.6996|\n",
       "|casual        |Sat     |          448055|        1967.9969|\n",
       "|member        |Sun     |          314111|         867.0642|\n",
       "|member        |Mon     |          375444|         736.5971|\n",
       "|member        |Tue     |          424916|         711.8568|\n",
       "|member        |Wed     |          415263|         721.8129|\n",
       "|member        |Thu     |          403068|         724.4462|\n",
       "|member        |Fri     |          364201|         741.9006|\n",
       "|member        |Sat     |          350997|         856.5753|"
      ]
     },
     "metadata": {},
     "output_type": "display_data"
    }
   ],
   "source": [
    "{echo=FALSE}\n",
    "{message = FALSE}\n",
    "summary<-clean_data %>% \n",
    "  mutate(weekday = wday(started_at, label = TRUE)) %>%\n",
    "  group_by(member_casual, weekday) %>% \n",
    "  summarise(number_of_rides = n(),average_duration = mean(ride_length)) %>% \n",
    "  arrange(member_casual, weekday) \n",
    "  knitr::kable(summary,caption = \"Summary of Ride counts and Average Ride Time on Diferent Days of Week\")"
   ]
  },
  {
   "cell_type": "markdown",
   "metadata": {},
   "source": [
    "From analysis, the different patterns between members and casuals are as follows.\n",
    "\n",
    "### Ride counts in various month of the year"
   ]
  },
  {
   "cell_type": "code",
   "execution_count": 28,
   "metadata": {
    "execution": {
     "iopub.execute_input": "2022-07-16T05:37:57.107804Z",
     "iopub.status.busy": "2022-07-16T05:37:57.106455Z",
     "iopub.status.idle": "2022-07-16T05:37:57.582045Z"
    }
   },
   "outputs": [
    {
     "name": "stderr",
     "output_type": "stream",
     "text": [
      "\u001b[1m\u001b[22m`summarise()` has grouped output by 'member_casual'. You can override using the\n",
      "`.groups` argument.\n"
     ]
    },
    {
     "data": {
      "image/png": "[encoded data removed]"
     },
     "metadata": {
      "image/png": {
       "height": 420,
       "width": 420
      }
     },
     "output_type": "display_data"
    }
   ],
   "source": [
    "{echo=FALSE}\n",
    "clean_data %>% \n",
    "  group_by(member_casual,month) %>% \n",
    "  summarize(ride_count = n()) %>% \n",
    "  ggplot(aes(x=month,y=ride_count,fill=member_casual))+\n",
    "  geom_col(position = \"dodge\")+\n",
    "  labs(title=\"Total Ride Counts by Months of the Year\",\n",
    "       subtitle=\"July and August are peak riding months of the year\",\n",
    "       caption=\"Divvy Tripdata 2021-06 to 2022-05 Data source: https://divvy-tripdata.s3.amazonaws.com/index.html \")"
   ]
  },
  {
   "cell_type": "markdown",
   "metadata": {},
   "source": [
    "Most of the rides occur in May to October. Peak months for members and casuals are August and  July respectively. Both categories of rides are lowest in cold months, January and February.\n",
    "\n",
    "### Average ride duration"
   ]
  },
  {
   "cell_type": "code",
   "execution_count": 29,
   "metadata": {
    "execution": {
     "iopub.execute_input": "2022-07-16T05:37:57.585719Z",
     "iopub.status.busy": "2022-07-16T05:37:57.584366Z",
     "iopub.status.idle": "2022-07-16T05:38:04.398492Z"
    }
   },
   "outputs": [
    {
     "name": "stderr",
     "output_type": "stream",
     "text": [
      "\u001b[1m\u001b[22m`summarise()` has grouped output by 'member_casual'. You can override using the\n",
      "`.groups` argument.\n"
     ]
    },
    {
     "data": {
      "image/png": "[encoded data removed]"
     },
     "metadata": {
      "image/png": {
       "height": 420,
       "width": 420
      }
     },
     "output_type": "display_data"
    }
   ],
   "source": [
    "{echo=FALSE}\n",
    "clean_data %>% \n",
    "  mutate(weekday = wday(started_at, label = TRUE)) %>% \n",
    "  group_by(member_casual, weekday) %>% \n",
    "  summarise(number_of_rides = n()\n",
    "            ,average_duration = mean(ride_length)) %>% \n",
    "  arrange(member_casual, weekday)  %>% \n",
    "  ggplot(aes(x = weekday, y = average_duration, fill = member_casual)) +\n",
    "  geom_col(position = \"dodge\")+\n",
    "  scale_y_time()+\n",
    "  labs(title = \"Average Duration of Rides by Day of Week\",\n",
    "       subtitle = \"Both members and casuals ride longer on weekends\",\n",
    "       caption=\"Divvy Tripdata 2021-06 to 2022-05 Data source: https://divvy-tripdata.s3.amazonaws.com/index.html \")"
   ]
  },
  {
   "cell_type": "markdown",
   "metadata": {},
   "source": [
    "The average ride duration of casuals is obviously longer than that of members. Member rides are below 15 minutes throughout the week whereas causual rides are over 25 minutes on weekdays and even higher than 30 minutes on weekends.\n",
    "\n",
    "### Ride counts by day of week"
   ]
  },
  {
   "cell_type": "code",
   "execution_count": 30,
   "metadata": {
    "execution": {
     "iopub.execute_input": "2022-07-16T05:38:04.402629Z",
     "iopub.status.busy": "2022-07-16T05:38:04.401085Z",
     "iopub.status.idle": "2022-07-16T05:38:09.679556Z"
    }
   },
   "outputs": [
    {
     "name": "stderr",
     "output_type": "stream",
     "text": [
      "\u001b[1m\u001b[22m`summarise()` has grouped output by 'member_casual'. You can override using the\n",
      "`.groups` argument.\n"
     ]
    },
    {
     "data": {
      "image/png": "[encoded data removed]"
     },
     "metadata": {
      "image/png": {
       "height": 420,
       "width": 420
      }
     },
     "output_type": "display_data"
    }
   ],
   "source": [
    "{echo=FALSE}\n",
    "clean_data %>% \n",
    "  mutate(weekday = wday(started_at, label = TRUE)) %>% \n",
    "  group_by(member_casual, weekday) %>% \n",
    "  summarise(number_of_rides = n()\n",
    "            ,average_duration = mean(ride_length)) %>% \n",
    "  arrange(member_casual, weekday)  %>% \n",
    "  ggplot(aes(x = weekday, y = number_of_rides, fill = member_casual)) +\n",
    "  geom_col(position = \"dodge\")+\n",
    "  labs(title = \"Total Ride Counts by Day of Week\",\n",
    "       subtitle = \"Members ride more during weekdays and casuals ride more during weekends\",\n",
    "       caption=\"Divvy Tripdata 2021-06 to 2022-05 Data source: https://divvy-tripdata.s3.amazonaws.com/index.html \")"
   ]
  },
  {
   "cell_type": "markdown",
   "metadata": {},
   "source": [
    "Total ride counts of casuals are peaked during weekends while member ride counts are more on weekdays. \n",
    "\n",
    "### Ride counts by start hour"
   ]
  },
  {
   "cell_type": "code",
   "execution_count": 31,
   "metadata": {
    "execution": {
     "iopub.execute_input": "2022-07-16T05:38:09.684307Z",
     "iopub.status.busy": "2022-07-16T05:38:09.682646Z",
     "iopub.status.idle": "2022-07-16T05:38:10.626129Z"
    }
   },
   "outputs": [
    {
     "name": "stderr",
     "output_type": "stream",
     "text": [
      "\u001b[1m\u001b[22m`summarise()` has grouped output by 'member_casual'. You can override using the\n",
      "`.groups` argument.\n"
     ]
    },
    {
     "data": {
      "image/png": "[encoded data removed]"
     },
     "metadata": {
      "image/png": {
       "height": 420,
       "width": 420
      }
     },
     "output_type": "display_data"
    }
   ],
   "source": [
    "{ echo = FALSE}\n",
    "clean_data %>% \n",
    "  group_by(member_casual,start_hour=hour(started_at)) %>% \n",
    "  summarize(ride_count = n()) %>% \n",
    "  ggplot(aes(x=start_hour, y = ride_count,color=member_casual))+\n",
    "  geom_line()+\n",
    "  scale_x_continuous(breaks=seq(0,24,2))+\n",
    "  labs(title = \"Total Ride Counts by Start Hour of the Day\",\n",
    "       subtitle = \"Both casual and member rides are peak at 17:00\",\n",
    "       caption=\"Divvy Tripdata 2021-06 to 2022-05 Data source: https://divvy-tripdata.s3.amazonaws.com/index.html \")"
   ]
  },
  {
   "cell_type": "markdown",
   "metadata": {},
   "source": [
    "Member rides have a peak at around 17:00. Casuals have two peaks in the day, one around 8:00 and the other at 17:00 while the afternoon peak is higher than members. Members highest ride count by start hour of the day is below 200,000 while that of casuals is nearly 300,000.\n",
    "\n",
    "### Average ride time by time of the day"
   ]
  },
  {
   "cell_type": "code",
   "execution_count": 32,
   "metadata": {
    "execution": {
     "iopub.execute_input": "2022-07-16T05:38:10.631982Z",
     "iopub.status.busy": "2022-07-16T05:38:10.629736Z",
     "iopub.status.idle": "2022-07-16T05:38:11.199449Z"
    }
   },
   "outputs": [
    {
     "name": "stderr",
     "output_type": "stream",
     "text": [
      "\u001b[1m\u001b[22m`summarise()` has grouped output by 'member_casual'. You can override using the\n",
      "`.groups` argument.\n"
     ]
    },
    {
     "data": {
      "image/png": "[encoded data removed]"
     },
     "metadata": {
      "image/png": {
       "height": 420,
       "width": 420
      }
     },
     "output_type": "display_data"
    }
   ],
   "source": [
    "{echo=FALSE}\n",
    "clean_data %>% \n",
    "  group_by(member_casual,time_of_the_day =time_period) %>% \n",
    "  summarise(average_ride_length=mean(ride_length)) %>% \n",
    "  ggplot(aes(x=time_of_the_day, y=average_ride_length,fill=member_casual))+\n",
    "  geom_col(position=\"dodge\")+\n",
    "  scale_y_time()+\n",
    "  labs(title = \"Average Ride Time by Time of the Day\",\n",
    "       subtitle = \"The average ride length does not seem to be varied with time of the day\",\n",
    "       caption=\"Night = 00:00-06:00, Morning = 06:00-12:00, Afternoon = 12:00-18:00, Evening = 18:00-00:00 \n",
    "       Divvy Tripdata 2021-06 to 2022-05 Data source: https://divvy-tripdata.s3.amazonaws.com/index.html \")"
   ]
  },
  {
   "cell_type": "markdown",
   "metadata": {},
   "source": [
    "The average ride length of both casuals and members seem little variations with time of the day.\n",
    "\n",
    "### Number of rides by time of the day on weekends"
   ]
  },
  {
   "cell_type": "code",
   "execution_count": 33,
   "metadata": {
    "execution": {
     "iopub.execute_input": "2022-07-16T05:38:11.203505Z",
     "iopub.status.busy": "2022-07-16T05:38:11.201994Z",
     "iopub.status.idle": "2022-07-16T05:38:12.024550Z"
    },
    "jupyter": {
     "source_hidden": true
    }
   },
   "outputs": [
    {
     "name": "stderr",
     "output_type": "stream",
     "text": [
      "\u001b[1m\u001b[22m`summarise()` has grouped output by 'member_casual', 'day_of_week'. You can\n",
      "override using the `.groups` argument.\n"
     ]
    },
    {
     "data": {
      "image/png": "[encoded data removed]"
     },
     "metadata": {
      "image/png": {
       "height": 420,
       "width": 420
      }
     },
     "output_type": "display_data"
    }
   ],
   "source": [
    "{echo=FALSE}\n",
    "clean_data %>%\n",
    "  filter(day_of_week==\"Sunday\" |day_of_week==\"Saturday\") %>% \n",
    "  group_by(member_casual,day_of_week,time_of_the_day =time_period) %>% \n",
    "  summarise(average_ride_length=mean(ride_length),ride_count=n()) %>% \n",
    "  ggplot(aes(x=time_of_the_day, y=ride_count,fill=member_casual))+\n",
    "  geom_col(position=\"dodge\")+\n",
    "  facet_wrap(~day_of_week)+\n",
    "  labs(title = \"Ride Counts by Time of the Day on Weekends\",\n",
    "       subtitle = \"Both casual and member rides are peak in the afternoon\",\n",
    "       caption=\"Night = 00:00-06:00, Morning = 06:00-12:00, Afternoon = 12:00-18:00, Evening = 18:00-00:00 \n",
    "       Divvy Tripdata 2021-06 to 2022-05 Data source: https://divvy-tripdata.s3.amazonaws.com/index.html \")"
   ]
  },
  {
   "cell_type": "markdown",
   "metadata": {},
   "source": [
    "##  ***Act***\n",
    "\n",
    "### Conclusion of Analysis and Recommendation\n",
    "\n",
    "The main differences in trends of member and casual rides are peak days of the week and the average ride time.  \n",
    "    Casuals ride more on the weekends and members ride more on the weekdays.\n",
    "Casuals have a average ride length of 25-35 minutes while members only have below 15 minutes.  \n",
    "**Recommendation:** Marketing strategies and pricing should focus on weekends to attract more casuals. Setting different perks for various ride length especiall(25-35 minutes) might also be a good direction.\n",
    "    \n",
    "Another trends is the peak hours of the day of ride counts.  \n",
    "Both members and casuals ride more in the afternoon around 17:00.  \n",
    "**Recommendation:** Focusing on this time period may also increase the membership subscription.\n",
    "    \n",
    "The other trends worth noticed is the peak rides in May to October of the year.  \n",
    "**Recommendation:** This should be inspected more for the coming year. If this trend persists, campaign on these months of the year might not only retains the original members but also attract new members.  \n",
    "\n",
    "### Additional and Further Analysis\n",
    "\n",
    "We can investigate and analyze the reason for casual riders to buy annual memberships.  \n",
    "We can also study the impact of social media in influencing casual rides to become more interested in annual memberships.  "
   ]
  },
  {
   "cell_type": "code",
   "execution_count": null,
   "metadata": {},
   "outputs": [],
   "source": []
  }
 ],
 "metadata": {
  "kernelspec": {
   "display_name": "R",
   "language": "R",
   "name": "ir"
  },
  "language_info": {
   "codemirror_mode": "r",
   "file_extension": ".r",
   "mimetype": "text/x-r-source",
   "name": "R",
   "pygments_lexer": "r",
   "version": "4.2.2"
  }
 },
 "nbformat": 4,
 "nbformat_minor": 4
}
